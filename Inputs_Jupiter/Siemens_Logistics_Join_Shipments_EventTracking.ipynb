{
 "cells": [
  {
   "cell_type": "markdown",
   "metadata": {
    "id": "xnhcBha8pjPq"
   },
   "source": [
    "# Siemens Logistics - Join Tracking with Shipments"
   ]
  },
  {
   "cell_type": "markdown",
   "metadata": {
    "id": "sLXMq12kptKK"
   },
   "source": [
    "This notebook aims to joins the shipments descriptions with the tracking event records and format the resulting dataset so that it can be used to train the AI agents."
   ]
  },
  {
   "cell_type": "markdown",
   "metadata": {
    "id": "pp2XSQOeqiCJ"
   },
   "source": [
    "## Imports"
   ]
  },
  {
   "cell_type": "markdown",
   "metadata": {
    "id": "xmaxoFK7qmRq"
   },
   "source": [
    "### Imports"
   ]
  },
  {
   "cell_type": "code",
   "execution_count": 166,
   "metadata": {
    "executionInfo": {
     "elapsed": 651,
     "status": "ok",
     "timestamp": 1612649314217,
     "user": {
      "displayName": "Romuald Jupiter BAKAKEU NGASSAM",
      "photoUrl": "",
      "userId": "18246208932522080488"
     },
     "user_tz": -60
    },
    "id": "dkAOlcxWphgc"
   },
   "outputs": [],
   "source": [
    "# Imports\r\n",
    "# Create_Flat_Tracking\r\n",
    "import pandas as pd\r\n",
    "import numpy as np\r\n",
    "import os\r\n",
    "import json\r\n",
    "import glob\r\n",
    "from datetime import datetime\r\n",
    "from tqdm.autonotebook import tqdm\r\n",
    "tqdm.pandas()"
   ]
  },
  {
   "cell_type": "markdown",
   "metadata": {
    "id": "dHM11Ys-qo6J"
   },
   "source": [
    "### Mount Google Drive"
   ]
  },
  {
   "cell_type": "code",
   "execution_count": 167,
   "metadata": {
    "colab": {
     "base_uri": "https://localhost:8080/"
    },
    "executionInfo": {
     "elapsed": 912,
     "status": "ok",
     "timestamp": 1612649314491,
     "user": {
      "displayName": "Romuald Jupiter BAKAKEU NGASSAM",
      "photoUrl": "",
      "userId": "18246208932522080488"
     },
     "user_tz": -60
    },
    "id": "ryG8HDyJqZe6",
    "outputId": "3e0e08e7-790f-4ad2-f7d5-bc4d6c9af1f1"
   },
   "outputs": [
    {
     "name": "stdout",
     "output_type": "stream",
     "text": [
      "Drive already mounted at /content/drive; to attempt to forcibly remount, call drive.mount(\"/content/drive\", force_remount=True).\n"
     ]
    }
   ],
   "source": [
    "\r\n",
    "# Mount my Google Drive\r\n",
    "from google.colab import drive\r\n",
    "drive.mount('/content/drive')"
   ]
  },
  {
   "cell_type": "markdown",
   "metadata": {
    "id": "njMeiamBtFEE"
   },
   "source": [
    "### Import shipment Data"
   ]
  },
  {
   "cell_type": "code",
   "execution_count": 168,
   "metadata": {
    "colab": {
     "base_uri": "https://localhost:8080/",
     "height": 0
    },
    "executionInfo": {
     "elapsed": 5165,
     "status": "ok",
     "timestamp": 1612649318756,
     "user": {
      "displayName": "Romuald Jupiter BAKAKEU NGASSAM",
      "photoUrl": "",
      "userId": "18246208932522080488"
     },
     "user_tz": -60
    },
    "id": "Ets0ZBGxudac",
    "outputId": "66ec0a21-101d-45b5-9d8d-023cb2b9982c"
   },
   "outputs": [
    {
     "name": "stdout",
     "output_type": "stream",
     "text": [
      "### Shipments Data set statistics\n",
      "## Total Number of shipments:  262981\n"
     ]
    },
    {
     "data": {
      "text/html": [
       "<div>\n",
       "<style scoped>\n",
       "    .dataframe tbody tr th:only-of-type {\n",
       "        vertical-align: middle;\n",
       "    }\n",
       "\n",
       "    .dataframe tbody tr th {\n",
       "        vertical-align: top;\n",
       "    }\n",
       "\n",
       "    .dataframe thead th {\n",
       "        text-align: right;\n",
       "    }\n",
       "</style>\n",
       "<table border=\"1\" class=\"dataframe\">\n",
       "  <thead>\n",
       "    <tr style=\"text-align: right;\">\n",
       "      <th></th>\n",
       "      <th>SHIPMENTID</th>\n",
       "      <th>Shipment_Distance</th>\n",
       "      <th>Qty__INT</th>\n",
       "      <th>Volume__FLOAT</th>\n",
       "      <th>Weight__FLOAT</th>\n",
       "      <th>Logistics_Provider</th>\n",
       "      <th>Sender</th>\n",
       "      <th>Receiver</th>\n",
       "      <th>Sender_City</th>\n",
       "      <th>Sender_Country</th>\n",
       "      <th>Sender_City_Lat</th>\n",
       "      <th>Sender_City_Long</th>\n",
       "      <th>Receiver_City</th>\n",
       "      <th>Receiver_Country</th>\n",
       "      <th>Receiver_City_Lat</th>\n",
       "      <th>Receiver_City_Long</th>\n",
       "      <th>Creator</th>\n",
       "    </tr>\n",
       "  </thead>\n",
       "  <tbody>\n",
       "    <tr>\n",
       "      <th>0</th>\n",
       "      <td>297941628</td>\n",
       "      <td>134.444124</td>\n",
       "      <td>5</td>\n",
       "      <td>0</td>\n",
       "      <td>770</td>\n",
       "      <td>Heppner GmbH &amp; Co. KG - KEHL / RHEIN</td>\n",
       "      <td>EVOCA Germany GmbH</td>\n",
       "      <td>Heuser GmbH</td>\n",
       "      <td>Rastatt</td>\n",
       "      <td>DE</td>\n",
       "      <td>48.85851</td>\n",
       "      <td>8.20965</td>\n",
       "      <td>Dietzenbach</td>\n",
       "      <td>DE</td>\n",
       "      <td>50.00976</td>\n",
       "      <td>8.77783</td>\n",
       "      <td>Vollmer</td>\n",
       "    </tr>\n",
       "    <tr>\n",
       "      <th>1</th>\n",
       "      <td>297956359</td>\n",
       "      <td>471.992586</td>\n",
       "      <td>1</td>\n",
       "      <td>0</td>\n",
       "      <td>119</td>\n",
       "      <td>Heppner GmbH &amp; Co. KG - KORNWESTHEIM</td>\n",
       "      <td>U.I. LAPP GMBH</td>\n",
       "      <td>ELECTRO RHONE VENISSIEUX</td>\n",
       "      <td>STUTTGART</td>\n",
       "      <td>DE</td>\n",
       "      <td>48.78232</td>\n",
       "      <td>9.17702</td>\n",
       "      <td>Venissieux</td>\n",
       "      <td>FR</td>\n",
       "      <td>45.70254</td>\n",
       "      <td>4.87147</td>\n",
       "      <td>EDI</td>\n",
       "    </tr>\n",
       "    <tr>\n",
       "      <th>2</th>\n",
       "      <td>297956366</td>\n",
       "      <td>471.992586</td>\n",
       "      <td>1</td>\n",
       "      <td>0</td>\n",
       "      <td>67</td>\n",
       "      <td>Heppner GmbH &amp; Co. KG - KORNWESTHEIM</td>\n",
       "      <td>U.I. LAPP GMBH</td>\n",
       "      <td>ELECTRO RHONE VENISSIEUX</td>\n",
       "      <td>STUTTGART</td>\n",
       "      <td>DE</td>\n",
       "      <td>48.78232</td>\n",
       "      <td>9.17702</td>\n",
       "      <td>Venissieux</td>\n",
       "      <td>FR</td>\n",
       "      <td>45.70254</td>\n",
       "      <td>4.87147</td>\n",
       "      <td>EDI</td>\n",
       "    </tr>\n",
       "    <tr>\n",
       "      <th>3</th>\n",
       "      <td>297956365</td>\n",
       "      <td>471.992586</td>\n",
       "      <td>1</td>\n",
       "      <td>0</td>\n",
       "      <td>244</td>\n",
       "      <td>Heppner GmbH &amp; Co. KG - KORNWESTHEIM</td>\n",
       "      <td>U.I. LAPP GMBH</td>\n",
       "      <td>ELECTRO RHONE VENISSIEUX</td>\n",
       "      <td>STUTTGART</td>\n",
       "      <td>DE</td>\n",
       "      <td>48.78232</td>\n",
       "      <td>9.17702</td>\n",
       "      <td>Venissieux</td>\n",
       "      <td>FR</td>\n",
       "      <td>45.70254</td>\n",
       "      <td>4.87147</td>\n",
       "      <td>EDI</td>\n",
       "    </tr>\n",
       "    <tr>\n",
       "      <th>4</th>\n",
       "      <td>297956363</td>\n",
       "      <td>471.992586</td>\n",
       "      <td>1</td>\n",
       "      <td>0</td>\n",
       "      <td>296</td>\n",
       "      <td>Heppner GmbH &amp; Co. KG - KORNWESTHEIM</td>\n",
       "      <td>U.I. LAPP GMBH</td>\n",
       "      <td>ELECTRO RHONE VENISSIEUX</td>\n",
       "      <td>STUTTGART</td>\n",
       "      <td>DE</td>\n",
       "      <td>48.78232</td>\n",
       "      <td>9.17702</td>\n",
       "      <td>Venissieux</td>\n",
       "      <td>FR</td>\n",
       "      <td>45.70254</td>\n",
       "      <td>4.87147</td>\n",
       "      <td>EDI</td>\n",
       "    </tr>\n",
       "  </tbody>\n",
       "</table>\n",
       "</div>"
      ],
      "text/plain": [
       "   SHIPMENTID  Shipment_Distance  ... Receiver_City_Long  Creator\n",
       "0   297941628         134.444124  ...            8.77783  Vollmer\n",
       "1   297956359         471.992586  ...            4.87147      EDI\n",
       "2   297956366         471.992586  ...            4.87147      EDI\n",
       "3   297956365         471.992586  ...            4.87147      EDI\n",
       "4   297956363         471.992586  ...            4.87147      EDI\n",
       "\n",
       "[5 rows x 17 columns]"
      ]
     },
     "execution_count": 168,
     "metadata": {
      "tags": []
     },
     "output_type": "execute_result"
    }
   ],
   "source": [
    "#  initialize and import the shipment dataframe\r\n",
    "df_shipments = pd.read_json(\"/content/drive/MyDrive/Colab_Notebooks/Data/result/shipment_export_16_12_2020.json\", orient='records')\r\n",
    "\r\n",
    "# list statistics of dataframe\r\n",
    "# Statistics\r\n",
    "print(\"### Shipments Data set statistics\")\r\n",
    "print(\"## Total Number of shipments: \", len(df_shipments.index))\r\n",
    "df_shipments.head()"
   ]
  },
  {
   "cell_type": "markdown",
   "metadata": {
    "id": "vrbc_jkUqs3o"
   },
   "source": [
    "### Import Tracking data"
   ]
  },
  {
   "cell_type": "code",
   "execution_count": 169,
   "metadata": {
    "colab": {
     "base_uri": "https://localhost:8080/",
     "height": 0,
     "referenced_widgets": [
      "e858c4d9b1fa4ad5b302105b732f6a73",
      "f0f8d6ff45ff400e8cbd8499620d9f99",
      "0a249fbd7f39493984555f9865200cd5",
      "b7143082d02d4486b39da118b7f2b05d",
      "9a3220e7d5484b0f969a9467da78615f",
      "0f3015218202433683b4c0c56105c7d1",
      "9e856c7cadaf47d999587b1588c0b231",
      "0c87b60cb2eb415d9101b7a12ddab4d1"
     ]
    },
    "executionInfo": {
     "elapsed": 9642,
     "status": "ok",
     "timestamp": 1612649323244,
     "user": {
      "displayName": "Romuald Jupiter BAKAKEU NGASSAM",
      "photoUrl": "",
      "userId": "18246208932522080488"
     },
     "user_tz": -60
    },
    "id": "R3dEensKq1Ei",
    "outputId": "0e916db2-2778-44d8-fc59-359a029c6448"
   },
   "outputs": [
    {
     "data": {
      "application/vnd.jupyter.widget-view+json": {
       "model_id": "e858c4d9b1fa4ad5b302105b732f6a73",
       "version_major": 2,
       "version_minor": 0
      },
      "text/plain": [
       "HBox(children=(FloatProgress(value=0.0, max=6.0), HTML(value='')))"
      ]
     },
     "metadata": {
      "tags": []
     },
     "output_type": "display_data"
    },
    {
     "name": "stdout",
     "output_type": "stream",
     "text": [
      "\n",
      "### Tracking Data set statistics\n",
      "## Total Number of events/records:  200000\n",
      "## Total Number of distincts events/records:  200000\n"
     ]
    }
   ],
   "source": [
    "# Initialize and import the tacking dataframe\r\n",
    "df_tracking = pd.read_json(\"/content/drive/MyDrive/Colab_Notebooks/Data/results/tracking_status_processed_28_01_2021_0_200000.json\", orient='records')\r\n",
    "\r\n",
    "# formt columbs\r\n",
    "df_tracking[[c for c in df_tracking.columns if c.endswith('_DATE')]] = \\\r\n",
    "    df_tracking[[c for c in df_tracking.columns if  c.endswith('_DATE')]].progress_apply(lambda x:pd.to_datetime(x,  unit='ms'))\r\n",
    "\r\n",
    "# list statistics of dataframe\r\n",
    "# Statistics\r\n",
    "print(\"### Tracking Data set statistics\")\r\n",
    "print(\"## Total Number of events/records: \", len(df_tracking.index))\r\n",
    "print(\"## Total Number of distincts events/records: \", len(df_tracking.drop_duplicates(['SHIPMENTID', 'reason_DE', 'status_DE']).index))\r\n"
   ]
  },
  {
   "cell_type": "markdown",
   "metadata": {
    "id": "PpGiYqNvwygs"
   },
   "source": [
    "## Preprocess Tracking Data"
   ]
  },
  {
   "cell_type": "code",
   "execution_count": 170,
   "metadata": {
    "executionInfo": {
     "elapsed": 9634,
     "status": "ok",
     "timestamp": 1612649323246,
     "user": {
      "displayName": "Romuald Jupiter BAKAKEU NGASSAM",
      "photoUrl": "",
      "userId": "18246208932522080488"
     },
     "user_tz": -60
    },
    "id": "9tf3SI0cw4nL"
   },
   "outputs": [],
   "source": [
    "# Sort the tracking by \"SHIPMENT_ID\" and \"StatusDate\"\r\n",
    "df_tracking = df_tracking.sort_values(['SHIPMENTID', 'STATUS_DATE'])\r\n"
   ]
  },
  {
   "cell_type": "markdown",
   "metadata": {
    "id": "15osAGl0uPu2"
   },
   "source": [
    "#### Duration of all events"
   ]
  },
  {
   "cell_type": "code",
   "execution_count": 171,
   "metadata": {
    "colab": {
     "base_uri": "https://localhost:8080/",
     "height": 0,
     "referenced_widgets": [
      "f63f46ece9324503875b2135d2e4f509",
      "e3778fae431849fc86d38f0612924278",
      "e7e409bffbbb4b3da35ed2bb05d03eae",
      "82f8491c6cd7404caeafb0c0699e981d",
      "f2ca99b117dc4c648177f7ec482827e8",
      "b9b8818512de4cef9220f78b7b5260d2",
      "10861388fda04f8ebd04aa20b596079f",
      "bea2fbff55b54edfae69aa737c8e2833"
     ]
    },
    "executionInfo": {
     "elapsed": 19983,
     "status": "ok",
     "timestamp": 1612649333606,
     "user": {
      "displayName": "Romuald Jupiter BAKAKEU NGASSAM",
      "photoUrl": "",
      "userId": "18246208932522080488"
     },
     "user_tz": -60
    },
    "id": "Y6l5_gCbCH-W",
    "outputId": "3c21bcfd-70c3-429a-8335-adb32d831b42"
   },
   "outputs": [
    {
     "data": {
      "application/vnd.jupyter.widget-view+json": {
       "model_id": "f63f46ece9324503875b2135d2e4f509",
       "version_major": 2,
       "version_minor": 0
      },
      "text/plain": [
       "HBox(children=(FloatProgress(value=0.0, max=200000.0), HTML(value='')))"
      ]
     },
     "metadata": {
      "tags": []
     },
     "output_type": "display_data"
    },
    {
     "name": "stdout",
     "output_type": "stream",
     "text": [
      "\n"
     ]
    },
    {
     "data": {
      "text/html": [
       "<div>\n",
       "<style scoped>\n",
       "    .dataframe tbody tr th:only-of-type {\n",
       "        vertical-align: middle;\n",
       "    }\n",
       "\n",
       "    .dataframe tbody tr th {\n",
       "        vertical-align: top;\n",
       "    }\n",
       "\n",
       "    .dataframe thead th {\n",
       "        text-align: right;\n",
       "    }\n",
       "</style>\n",
       "<table border=\"1\" class=\"dataframe\">\n",
       "  <thead>\n",
       "    <tr style=\"text-align: right;\">\n",
       "      <th></th>\n",
       "      <th>LOCATION</th>\n",
       "      <th>reason_DE</th>\n",
       "      <th>END_DATE</th>\n",
       "      <th>START_DATE</th>\n",
       "      <th>STATUS_DATE</th>\n",
       "      <th>status_EN</th>\n",
       "      <th>EXPLANATION</th>\n",
       "      <th>SYSTEM_DATE</th>\n",
       "      <th>OBJECT_ID</th>\n",
       "      <th>status_DE</th>\n",
       "      <th>SHIPMENTID</th>\n",
       "      <th>TS_ID</th>\n",
       "      <th>reason_EN</th>\n",
       "      <th>MILESTONES</th>\n",
       "      <th>REIHENFOLGE</th>\n",
       "      <th>MILESTONES_START_DATE</th>\n",
       "      <th>MILESTONES_EVENT_COUNT</th>\n",
       "      <th>MILESTONES_END_DATE</th>\n",
       "      <th>EVENT_DURATION</th>\n",
       "      <th>EVENT_DURATION_SECONDS</th>\n",
       "    </tr>\n",
       "  </thead>\n",
       "  <tbody>\n",
       "    <tr>\n",
       "      <th>4</th>\n",
       "      <td>EDI</td>\n",
       "      <td>Zustellung nicht belegbar/Wechselbrückengestel...</td>\n",
       "      <td>2019-08-01 05:00:00</td>\n",
       "      <td>2019-01-01 05:00:00</td>\n",
       "      <td>2019-01-03 10:06:00</td>\n",
       "      <td>Delivered</td>\n",
       "      <td></td>\n",
       "      <td>2019-01-03 10:23:30</td>\n",
       "      <td>-221888158</td>\n",
       "      <td>Zugestellt</td>\n",
       "      <td>295476310</td>\n",
       "      <td>2007762918</td>\n",
       "      <td>delivery without POD / swap body deposit</td>\n",
       "      <td>Zustellung</td>\n",
       "      <td>600</td>\n",
       "      <td>2019-01-03 10:06:00</td>\n",
       "      <td>2</td>\n",
       "      <td>2019-01-25 10:47:00</td>\n",
       "      <td>22 days 00:41:00</td>\n",
       "      <td>1903260.0</td>\n",
       "    </tr>\n",
       "    <tr>\n",
       "      <th>51</th>\n",
       "      <td>EDI</td>\n",
       "      <td>Zustellung nicht belegbar/Wechselbrückengestel...</td>\n",
       "      <td>2019-01-15 05:00:00</td>\n",
       "      <td>2019-08-01 05:00:00</td>\n",
       "      <td>2019-01-11 07:29:00</td>\n",
       "      <td>Delivered</td>\n",
       "      <td></td>\n",
       "      <td>2019-01-11 07:38:19</td>\n",
       "      <td>-187265006</td>\n",
       "      <td>Zugestellt</td>\n",
       "      <td>295476311</td>\n",
       "      <td>2022267746</td>\n",
       "      <td>delivery without POD / swap body deposit</td>\n",
       "      <td>Zustellung</td>\n",
       "      <td>600</td>\n",
       "      <td>2019-01-11 07:29:00</td>\n",
       "      <td>2</td>\n",
       "      <td>2019-01-25 10:47:00</td>\n",
       "      <td>14 days 03:18:00</td>\n",
       "      <td>1221480.0</td>\n",
       "    </tr>\n",
       "    <tr>\n",
       "      <th>3</th>\n",
       "      <td>EDI</td>\n",
       "      <td>Sendung auf dem Weg zum Empfänger/in Zustellung</td>\n",
       "      <td>2019-08-01 05:00:00</td>\n",
       "      <td>2019-01-01 05:00:00</td>\n",
       "      <td>2019-01-03 00:00:00</td>\n",
       "      <td>delivery</td>\n",
       "      <td></td>\n",
       "      <td>2019-01-03 13:53:18</td>\n",
       "      <td>-542459960</td>\n",
       "      <td>Zustellung</td>\n",
       "      <td>297166330</td>\n",
       "      <td>2008041575</td>\n",
       "      <td>En route to consignee</td>\n",
       "      <td>In Zustellung</td>\n",
       "      <td>500</td>\n",
       "      <td>2019-01-03 00:00:00</td>\n",
       "      <td>1</td>\n",
       "      <td>2019-02-05 23:59:00</td>\n",
       "      <td>33 days 23:59:00</td>\n",
       "      <td>2937540.0</td>\n",
       "    </tr>\n",
       "    <tr>\n",
       "      <th>68</th>\n",
       "      <td>EDI</td>\n",
       "      <td>Eingang Versandpartner</td>\n",
       "      <td>2019-01-15 05:00:00</td>\n",
       "      <td>2019-08-01 05:00:00</td>\n",
       "      <td>2019-01-14 16:06:00</td>\n",
       "      <td>discharge</td>\n",
       "      <td>NEU-ULM 5082</td>\n",
       "      <td>2019-01-14 16:23:27</td>\n",
       "      <td>1151992755</td>\n",
       "      <td>Entladung</td>\n",
       "      <td>297200938</td>\n",
       "      <td>2026896715</td>\n",
       "      <td>Inbound Sending Partner</td>\n",
       "      <td>Ankunft Zustellterminal</td>\n",
       "      <td>490</td>\n",
       "      <td>2019-01-14 16:06:00</td>\n",
       "      <td>1</td>\n",
       "      <td>2020-01-13 23:57:00</td>\n",
       "      <td>1 days 01:14:00</td>\n",
       "      <td>90840.0</td>\n",
       "    </tr>\n",
       "    <tr>\n",
       "      <th>77</th>\n",
       "      <td>EDI</td>\n",
       "      <td>Verladen an</td>\n",
       "      <td>2019-01-22 05:00:00</td>\n",
       "      <td>2019-01-15 05:00:00</td>\n",
       "      <td>2019-01-15 17:20:00</td>\n",
       "      <td>dispatch</td>\n",
       "      <td>Rungis (5594)</td>\n",
       "      <td>2019-01-15 17:53:25</td>\n",
       "      <td>-941654826</td>\n",
       "      <td>Abfertigung</td>\n",
       "      <td>297200938</td>\n",
       "      <td>2029706018</td>\n",
       "      <td>loaded to</td>\n",
       "      <td>Abfahrt von Abholterminal</td>\n",
       "      <td>410</td>\n",
       "      <td>2019-01-15 17:20:00</td>\n",
       "      <td>1</td>\n",
       "      <td>2019-01-14 16:06:00</td>\n",
       "      <td>1 days 17:15:00</td>\n",
       "      <td>148500.0</td>\n",
       "    </tr>\n",
       "  </tbody>\n",
       "</table>\n",
       "</div>"
      ],
      "text/plain": [
       "   LOCATION  ... EVENT_DURATION_SECONDS\n",
       "4       EDI  ...              1903260.0\n",
       "51      EDI  ...              1221480.0\n",
       "3       EDI  ...              2937540.0\n",
       "68      EDI  ...                90840.0\n",
       "77      EDI  ...               148500.0\n",
       "\n",
       "[5 rows x 20 columns]"
      ]
     },
     "execution_count": 171,
     "metadata": {
      "tags": []
     },
     "output_type": "execute_result"
    }
   ],
   "source": [
    "# Compute the duration of all events\r\n",
    "# Group and compute the time difference between events\r\n",
    "df_tracking['EVENT_DURATION'] = df_tracking.groupby(['SHIPMENTID'], sort=False)[\"STATUS_DATE\"].diff(periods= -1).fillna(pd.Timedelta(seconds=0))\r\n",
    "df_tracking['EVENT_DURATION'] = df_tracking['EVENT_DURATION'].abs()\r\n",
    "df_tracking['EVENT_DURATION_SECONDS'] = df_tracking['EVENT_DURATION'].progress_apply(lambda x: x.total_seconds())\r\n",
    "df_tracking.loc[df_tracking['EVENT_DURATION'] > pd.Timedelta(seconds=0)].head()"
   ]
  },
  {
   "cell_type": "markdown",
   "metadata": {
    "id": "t5TR7MFEuVVl"
   },
   "source": [
    "#### Package that have been delivered"
   ]
  },
  {
   "cell_type": "code",
   "execution_count": 172,
   "metadata": {
    "executionInfo": {
     "elapsed": 29754,
     "status": "ok",
     "timestamp": 1612649343389,
     "user": {
      "displayName": "Romuald Jupiter BAKAKEU NGASSAM",
      "photoUrl": "",
      "userId": "18246208932522080488"
     },
     "user_tz": -60
    },
    "id": "0mao5lmvGa_f"
   },
   "outputs": [],
   "source": [
    "# Select Data with milestone \"Zustellung\" or archiviert\r\n",
    "df_events_with_zugeliefert = df_tracking[df_tracking['REIHENFOLGE'] == 600]\r\n",
    "df_uniques_shipments_zugeliefert = df_events_with_zugeliefert['SHIPMENTID'].unique()\r\n",
    "\r\n",
    "# assign the label\r\n",
    "df_tracking[\"DELIVERED\"] = 0\r\n",
    "df_tracking[\"DELIVERED\"] = np.where(df_tracking.isin(df_uniques_shipments_zugeliefert), 0, 1)\r\n",
    "# df_tracking.loc[df_tracking['EVENT_DURATION'] > pd.Timedelta(seconds=0)].head()s"
   ]
  },
  {
   "cell_type": "markdown",
   "metadata": {
    "id": "W3Tufut7-2Mg"
   },
   "source": [
    "#### Total Delivery Duration"
   ]
  },
  {
   "cell_type": "code",
   "execution_count": 173,
   "metadata": {
    "colab": {
     "base_uri": "https://localhost:8080/"
    },
    "executionInfo": {
     "elapsed": 29747,
     "status": "ok",
     "timestamp": 1612649343391,
     "user": {
      "displayName": "Romuald Jupiter BAKAKEU NGASSAM",
      "photoUrl": "",
      "userId": "18246208932522080488"
     },
     "user_tz": -60
    },
    "id": "45BzWioT3VGk",
    "outputId": "5bb7f23b-d19a-4862-eb18-fbd9171058d1"
   },
   "outputs": [
    {
     "name": "stderr",
     "output_type": "stream",
     "text": [
      "/usr/local/lib/python3.6/dist-packages/ipykernel_launcher.py:3: SettingWithCopyWarning: \n",
      "A value is trying to be set on a copy of a slice from a DataFrame.\n",
      "Try using .loc[row_indexer,col_indexer] = value instead\n",
      "\n",
      "See the caveats in the documentation: https://pandas.pydata.org/pandas-docs/stable/user_guide/indexing.html#returning-a-view-versus-a-copy\n",
      "  This is separate from the ipykernel package so we can avoid doing imports until\n"
     ]
    }
   ],
   "source": [
    "df_tracking[\"DELIVERY_DURATION\"] = 31622400 # Number of seconds in a year\r\n",
    "df_tmp = df_tracking[(df_tracking['REIHENFOLGE'] <= 600) & (df_tracking[\"DELIVERED\"] == 1)]\r\n",
    "df_tmp[\"DELIVERY_DURATION\"] = df_tmp.groupby(['SHIPMENTID'], sort=False)[\"EVENT_DURATION_SECONDS\"].transform('sum')\r\n",
    "df_tracking[\"DELIVERY_DURATION\"] = df_tmp[\"DELIVERY_DURATION\"]\r\n",
    "df_tracking[\"DELIVERY_DURATION\"].fillna(31622400, inplace=True)\r\n",
    "\r\n"
   ]
  },
  {
   "cell_type": "code",
   "execution_count": 174,
   "metadata": {
    "colab": {
     "base_uri": "https://localhost:8080/",
     "height": 0
    },
    "executionInfo": {
     "elapsed": 29740,
     "status": "ok",
     "timestamp": 1612649343392,
     "user": {
      "displayName": "Romuald Jupiter BAKAKEU NGASSAM",
      "photoUrl": "",
      "userId": "18246208932522080488"
     },
     "user_tz": -60
    },
    "id": "MrmBp8_n9hud",
    "outputId": "bb1392aa-3997-4331-e36e-fcc128e169b7"
   },
   "outputs": [
    {
     "data": {
      "text/html": [
       "<div>\n",
       "<style scoped>\n",
       "    .dataframe tbody tr th:only-of-type {\n",
       "        vertical-align: middle;\n",
       "    }\n",
       "\n",
       "    .dataframe tbody tr th {\n",
       "        vertical-align: top;\n",
       "    }\n",
       "\n",
       "    .dataframe thead th {\n",
       "        text-align: right;\n",
       "    }\n",
       "</style>\n",
       "<table border=\"1\" class=\"dataframe\">\n",
       "  <thead>\n",
       "    <tr style=\"text-align: right;\">\n",
       "      <th></th>\n",
       "      <th>LOCATION</th>\n",
       "      <th>reason_DE</th>\n",
       "      <th>END_DATE</th>\n",
       "      <th>START_DATE</th>\n",
       "      <th>STATUS_DATE</th>\n",
       "      <th>status_EN</th>\n",
       "      <th>EXPLANATION</th>\n",
       "      <th>SYSTEM_DATE</th>\n",
       "      <th>OBJECT_ID</th>\n",
       "      <th>status_DE</th>\n",
       "      <th>SHIPMENTID</th>\n",
       "      <th>TS_ID</th>\n",
       "      <th>reason_EN</th>\n",
       "      <th>MILESTONES</th>\n",
       "      <th>REIHENFOLGE</th>\n",
       "      <th>MILESTONES_START_DATE</th>\n",
       "      <th>MILESTONES_EVENT_COUNT</th>\n",
       "      <th>MILESTONES_END_DATE</th>\n",
       "      <th>EVENT_DURATION</th>\n",
       "      <th>EVENT_DURATION_SECONDS</th>\n",
       "      <th>DELIVERED</th>\n",
       "      <th>DELIVERY_DURATION</th>\n",
       "    </tr>\n",
       "  </thead>\n",
       "  <tbody>\n",
       "    <tr>\n",
       "      <th>355</th>\n",
       "      <td>EDI</td>\n",
       "      <td>Ablieferbeleg (POD) archiviert (FR)</td>\n",
       "      <td>2019-12-02 05:00:00</td>\n",
       "      <td>2019-05-02 05:00:00</td>\n",
       "      <td>2019-02-05 23:59:00</td>\n",
       "      <td>archived</td>\n",
       "      <td></td>\n",
       "      <td>2019-02-06 06:23:18</td>\n",
       "      <td>874347838</td>\n",
       "      <td>Archiviert</td>\n",
       "      <td>297166330</td>\n",
       "      <td>2072795291</td>\n",
       "      <td>POD archived</td>\n",
       "      <td>Archiviert</td>\n",
       "      <td>650</td>\n",
       "      <td>2019-02-05 23:59:00</td>\n",
       "      <td>1</td>\n",
       "      <td>2019-02-05 23:59:00</td>\n",
       "      <td>0 days</td>\n",
       "      <td>0.0</td>\n",
       "      <td>1</td>\n",
       "      <td>31622400.0</td>\n",
       "    </tr>\n",
       "    <tr>\n",
       "      <th>49</th>\n",
       "      <td>EDI</td>\n",
       "      <td>Ablieferbeleg (POD) archiviert (FR)</td>\n",
       "      <td>2019-01-15 05:00:00</td>\n",
       "      <td>2019-08-01 05:00:00</td>\n",
       "      <td>2019-01-10 23:59:00</td>\n",
       "      <td>archived</td>\n",
       "      <td></td>\n",
       "      <td>2019-01-11 06:23:32</td>\n",
       "      <td>-471708799</td>\n",
       "      <td>Archiviert</td>\n",
       "      <td>297346414</td>\n",
       "      <td>2022130118</td>\n",
       "      <td>POD archived</td>\n",
       "      <td>Archiviert</td>\n",
       "      <td>650</td>\n",
       "      <td>2019-01-10 23:59:00</td>\n",
       "      <td>2</td>\n",
       "      <td>2019-08-05 13:04:00</td>\n",
       "      <td>0 days</td>\n",
       "      <td>0.0</td>\n",
       "      <td>1</td>\n",
       "      <td>31622400.0</td>\n",
       "    </tr>\n",
       "    <tr>\n",
       "      <th>58</th>\n",
       "      <td>EDI</td>\n",
       "      <td>Ablieferbeleg (POD) archiviert (FR)</td>\n",
       "      <td>2019-01-15 05:00:00</td>\n",
       "      <td>2019-08-01 05:00:00</td>\n",
       "      <td>2019-01-11 23:59:00</td>\n",
       "      <td>archived</td>\n",
       "      <td></td>\n",
       "      <td>2019-01-14 06:24:21</td>\n",
       "      <td>-1593020296</td>\n",
       "      <td>Archiviert</td>\n",
       "      <td>298368425</td>\n",
       "      <td>2026039241</td>\n",
       "      <td>POD archived</td>\n",
       "      <td>Archiviert</td>\n",
       "      <td>650</td>\n",
       "      <td>2019-01-11 23:59:00</td>\n",
       "      <td>1</td>\n",
       "      <td>2019-01-11 23:59:00</td>\n",
       "      <td>0 days</td>\n",
       "      <td>0.0</td>\n",
       "      <td>1</td>\n",
       "      <td>31622400.0</td>\n",
       "    </tr>\n",
       "    <tr>\n",
       "      <th>175</th>\n",
       "      <td>EDI</td>\n",
       "      <td>Ablieferbeleg (POD) archiviert (FR)</td>\n",
       "      <td>2019-01-29 05:00:00</td>\n",
       "      <td>2019-01-22 05:00:00</td>\n",
       "      <td>2019-01-23 23:59:00</td>\n",
       "      <td>archived</td>\n",
       "      <td></td>\n",
       "      <td>2019-01-24 06:23:11</td>\n",
       "      <td>1946891336</td>\n",
       "      <td>Archiviert</td>\n",
       "      <td>299016319</td>\n",
       "      <td>2047712501</td>\n",
       "      <td>POD archived</td>\n",
       "      <td>Archiviert</td>\n",
       "      <td>650</td>\n",
       "      <td>2019-01-23 23:59:00</td>\n",
       "      <td>2</td>\n",
       "      <td>2019-11-12 13:45:00</td>\n",
       "      <td>0 days</td>\n",
       "      <td>0.0</td>\n",
       "      <td>1</td>\n",
       "      <td>31622400.0</td>\n",
       "    </tr>\n",
       "    <tr>\n",
       "      <th>147</th>\n",
       "      <td>EDI</td>\n",
       "      <td>Ablieferbeleg (POD) archiviert (FR)</td>\n",
       "      <td>2019-01-29 05:00:00</td>\n",
       "      <td>2019-01-22 05:00:00</td>\n",
       "      <td>2019-01-22 23:59:00</td>\n",
       "      <td>archived</td>\n",
       "      <td></td>\n",
       "      <td>2019-01-23 06:23:23</td>\n",
       "      <td>759368259</td>\n",
       "      <td>Archiviert</td>\n",
       "      <td>299725987</td>\n",
       "      <td>2045196585</td>\n",
       "      <td>POD archived</td>\n",
       "      <td>Archiviert</td>\n",
       "      <td>650</td>\n",
       "      <td>2019-01-22 23:59:00</td>\n",
       "      <td>1</td>\n",
       "      <td>2019-01-22 23:59:00</td>\n",
       "      <td>0 days</td>\n",
       "      <td>0.0</td>\n",
       "      <td>1</td>\n",
       "      <td>31622400.0</td>\n",
       "    </tr>\n",
       "    <tr>\n",
       "      <th>...</th>\n",
       "      <td>...</td>\n",
       "      <td>...</td>\n",
       "      <td>...</td>\n",
       "      <td>...</td>\n",
       "      <td>...</td>\n",
       "      <td>...</td>\n",
       "      <td>...</td>\n",
       "      <td>...</td>\n",
       "      <td>...</td>\n",
       "      <td>...</td>\n",
       "      <td>...</td>\n",
       "      <td>...</td>\n",
       "      <td>...</td>\n",
       "      <td>...</td>\n",
       "      <td>...</td>\n",
       "      <td>...</td>\n",
       "      <td>...</td>\n",
       "      <td>...</td>\n",
       "      <td>...</td>\n",
       "      <td>...</td>\n",
       "      <td>...</td>\n",
       "      <td>...</td>\n",
       "    </tr>\n",
       "    <tr>\n",
       "      <th>42875</th>\n",
       "      <td>EDI</td>\n",
       "      <td>Ablieferbeleg (POD) archiviert (FR)</td>\n",
       "      <td>2019-12-03 05:00:00</td>\n",
       "      <td>2019-05-03 05:00:00</td>\n",
       "      <td>2019-03-09 23:59:00</td>\n",
       "      <td>archived</td>\n",
       "      <td></td>\n",
       "      <td>2020-03-09 15:38:18</td>\n",
       "      <td>593547626</td>\n",
       "      <td>Archiviert</td>\n",
       "      <td>342745469</td>\n",
       "      <td>2705419761</td>\n",
       "      <td>POD archived</td>\n",
       "      <td>Archiviert</td>\n",
       "      <td>650</td>\n",
       "      <td>2019-03-09 23:59:00</td>\n",
       "      <td>1</td>\n",
       "      <td>2019-03-09 23:59:00</td>\n",
       "      <td>0 days</td>\n",
       "      <td>0.0</td>\n",
       "      <td>1</td>\n",
       "      <td>31622400.0</td>\n",
       "    </tr>\n",
       "    <tr>\n",
       "      <th>42874</th>\n",
       "      <td>EDI</td>\n",
       "      <td>Ablieferbeleg (POD) archiviert (FR)</td>\n",
       "      <td>2019-12-03 05:00:00</td>\n",
       "      <td>2019-05-03 05:00:00</td>\n",
       "      <td>2019-03-09 23:59:00</td>\n",
       "      <td>archived</td>\n",
       "      <td></td>\n",
       "      <td>2020-03-09 15:38:18</td>\n",
       "      <td>915790857</td>\n",
       "      <td>Archiviert</td>\n",
       "      <td>342815643</td>\n",
       "      <td>2705419766</td>\n",
       "      <td>POD archived</td>\n",
       "      <td>Archiviert</td>\n",
       "      <td>650</td>\n",
       "      <td>2019-03-09 23:59:00</td>\n",
       "      <td>1</td>\n",
       "      <td>2019-03-09 23:59:00</td>\n",
       "      <td>0 days</td>\n",
       "      <td>0.0</td>\n",
       "      <td>1</td>\n",
       "      <td>31622400.0</td>\n",
       "    </tr>\n",
       "    <tr>\n",
       "      <th>42877</th>\n",
       "      <td>EDI</td>\n",
       "      <td>Ablieferbeleg (POD) archiviert (FR)</td>\n",
       "      <td>2019-12-03 05:00:00</td>\n",
       "      <td>2019-05-03 05:00:00</td>\n",
       "      <td>2019-03-09 23:59:00</td>\n",
       "      <td>archived</td>\n",
       "      <td></td>\n",
       "      <td>2020-03-09 15:38:18</td>\n",
       "      <td>1140567632</td>\n",
       "      <td>Archiviert</td>\n",
       "      <td>343001450</td>\n",
       "      <td>2705419778</td>\n",
       "      <td>POD archived</td>\n",
       "      <td>Archiviert</td>\n",
       "      <td>650</td>\n",
       "      <td>2019-03-09 23:59:00</td>\n",
       "      <td>1</td>\n",
       "      <td>2019-03-09 23:59:00</td>\n",
       "      <td>0 days</td>\n",
       "      <td>0.0</td>\n",
       "      <td>1</td>\n",
       "      <td>31622400.0</td>\n",
       "    </tr>\n",
       "    <tr>\n",
       "      <th>42876</th>\n",
       "      <td>EDI</td>\n",
       "      <td>Ablieferbeleg (POD) archiviert (FR)</td>\n",
       "      <td>2019-12-03 05:00:00</td>\n",
       "      <td>2019-05-03 05:00:00</td>\n",
       "      <td>2019-03-09 23:59:00</td>\n",
       "      <td>archived</td>\n",
       "      <td></td>\n",
       "      <td>2020-03-09 15:38:18</td>\n",
       "      <td>-1053331178</td>\n",
       "      <td>Archiviert</td>\n",
       "      <td>343047633</td>\n",
       "      <td>2705419779</td>\n",
       "      <td>POD archived</td>\n",
       "      <td>Archiviert</td>\n",
       "      <td>650</td>\n",
       "      <td>2019-03-09 23:59:00</td>\n",
       "      <td>1</td>\n",
       "      <td>2019-03-09 23:59:00</td>\n",
       "      <td>0 days</td>\n",
       "      <td>0.0</td>\n",
       "      <td>1</td>\n",
       "      <td>31622400.0</td>\n",
       "    </tr>\n",
       "    <tr>\n",
       "      <th>42872</th>\n",
       "      <td>EDI</td>\n",
       "      <td>Ablieferbeleg (POD) archiviert (FR)</td>\n",
       "      <td>2019-12-03 05:00:00</td>\n",
       "      <td>2019-05-03 05:00:00</td>\n",
       "      <td>2019-03-09 23:59:00</td>\n",
       "      <td>archived</td>\n",
       "      <td></td>\n",
       "      <td>2020-03-09 15:56:19</td>\n",
       "      <td>-352075761</td>\n",
       "      <td>Archiviert</td>\n",
       "      <td>343103399</td>\n",
       "      <td>2705449459</td>\n",
       "      <td>POD archived</td>\n",
       "      <td>Archiviert</td>\n",
       "      <td>650</td>\n",
       "      <td>2019-03-09 23:59:00</td>\n",
       "      <td>1</td>\n",
       "      <td>2019-03-09 23:59:00</td>\n",
       "      <td>0 days</td>\n",
       "      <td>0.0</td>\n",
       "      <td>1</td>\n",
       "      <td>31622400.0</td>\n",
       "    </tr>\n",
       "  </tbody>\n",
       "</table>\n",
       "<p>24171 rows × 22 columns</p>\n",
       "</div>"
      ],
      "text/plain": [
       "      LOCATION  ... DELIVERY_DURATION\n",
       "355        EDI  ...        31622400.0\n",
       "49         EDI  ...        31622400.0\n",
       "58         EDI  ...        31622400.0\n",
       "175        EDI  ...        31622400.0\n",
       "147        EDI  ...        31622400.0\n",
       "...        ...  ...               ...\n",
       "42875      EDI  ...        31622400.0\n",
       "42874      EDI  ...        31622400.0\n",
       "42877      EDI  ...        31622400.0\n",
       "42876      EDI  ...        31622400.0\n",
       "42872      EDI  ...        31622400.0\n",
       "\n",
       "[24171 rows x 22 columns]"
      ]
     },
     "execution_count": 174,
     "metadata": {
      "tags": []
     },
     "output_type": "execute_result"
    }
   ],
   "source": [
    "df_tracking.loc[df_tracking['MILESTONES'] == 'Archiviert']"
   ]
  },
  {
   "cell_type": "markdown",
   "metadata": {
    "id": "ahlzItm9RlAD"
   },
   "source": [
    "## Join Status with shipment data"
   ]
  },
  {
   "cell_type": "code",
   "execution_count": 175,
   "metadata": {
    "colab": {
     "base_uri": "https://localhost:8080/"
    },
    "executionInfo": {
     "elapsed": 31067,
     "status": "ok",
     "timestamp": 1612649344730,
     "user": {
      "displayName": "Romuald Jupiter BAKAKEU NGASSAM",
      "photoUrl": "",
      "userId": "18246208932522080488"
     },
     "user_tz": -60
    },
    "id": "xWFmPDWzUN-B",
    "outputId": "e4348840-f889-4108-a9db-55bcbbd6e86f"
   },
   "outputs": [
    {
     "name": "stdout",
     "output_type": "stream",
     "text": [
      "199971\n"
     ]
    }
   ],
   "source": [
    "df_merged = pd.merge(df_tracking, df_shipments, on='SHIPMENTID')\r\n",
    "print(len(df_merged.index))"
   ]
  },
  {
   "cell_type": "markdown",
   "metadata": {
    "id": "OjDr5yn8YI5i"
   },
   "source": [
    "## Export All"
   ]
  },
  {
   "cell_type": "code",
   "execution_count": 176,
   "metadata": {
    "executionInfo": {
     "elapsed": 34260,
     "status": "ok",
     "timestamp": 1612649347932,
     "user": {
      "displayName": "Romuald Jupiter BAKAKEU NGASSAM",
      "photoUrl": "",
      "userId": "18246208932522080488"
     },
     "user_tz": -60
    },
    "id": "Beb0g12aYLUx"
   },
   "outputs": [],
   "source": [
    "df_merged.to_json(r'/content/drive/MyDrive/Colab_Notebooks/Data/results/data_merged_export_06_02_2021.json', orient='records')"
   ]
  }
 ],
 "metadata": {
  "colab": {
   "authorship_tag": "ABX9TyOJkRsVoxweqsI1S1lhSl3t",
   "collapsed_sections": [
    "njMeiamBtFEE",
    "vrbc_jkUqs3o",
    "15osAGl0uPu2",
    "t5TR7MFEuVVl",
    "W3Tufut7-2Mg"
   ],
   "name": "Siemens_Logistics_Join_Shipments_EventTracking.ipynb",
   "provenance": []
  },
  "kernelspec": {
   "display_name": "Python 3",
   "language": "python",
   "name": "python3"
  },
  "kubeflow_notebook": {
   "autosnapshot": true,
   "docker_image": "gcr.io/arrikto/jupyter-kale:4a5d7e63-9f74f267",
   "experiment": {
    "id": "",
    "name": ""
   },
   "experiment_name": "",
   "katib_metadata": {
    "algorithm": {
     "algorithmName": "grid"
    },
    "maxFailedTrialCount": 3,
    "maxTrialCount": 12,
    "objective": {
     "objectiveMetricName": "",
     "type": "minimize"
    },
    "parallelTrialCount": 3,
    "parameters": []
   },
   "katib_run": false,
   "pipeline_description": "",
   "pipeline_name": "",
   "snapshot_volumes": true,
   "steps_defaults": [
    "label:access-ml-pipeline:true",
    "label:access-rok:true"
   ],
   "volumes": [
    {
     "annotations": [],
     "mount_point": "/home/jovyan",
     "name": "workspace-exploration-g840d3blu",
     "size": 15,
     "size_type": "Gi",
     "snapshot": false,
     "type": "clone"
    }
   ]
  },
  "language_info": {
   "codemirror_mode": {
    "name": "ipython",
    "version": 3
   },
   "file_extension": ".py",
   "mimetype": "text/x-python",
   "name": "python",
   "nbconvert_exporter": "python",
   "pygments_lexer": "ipython3",
   "version": "3.6.9"
  },
  "widgets": {
   "application/vnd.jupyter.widget-state+json": {
    "0a249fbd7f39493984555f9865200cd5": {
     "model_module": "@jupyter-widgets/controls",
     "model_name": "FloatProgressModel",
     "state": {
      "_dom_classes": [],
      "_model_module": "@jupyter-widgets/controls",
      "_model_module_version": "1.5.0",
      "_model_name": "FloatProgressModel",
      "_view_count": null,
      "_view_module": "@jupyter-widgets/controls",
      "_view_module_version": "1.5.0",
      "_view_name": "ProgressView",
      "bar_style": "success",
      "description": "100%",
      "description_tooltip": null,
      "layout": "IPY_MODEL_0f3015218202433683b4c0c56105c7d1",
      "max": 6,
      "min": 0,
      "orientation": "horizontal",
      "style": "IPY_MODEL_9a3220e7d5484b0f969a9467da78615f",
      "value": 6
     }
    },
    "0c87b60cb2eb415d9101b7a12ddab4d1": {
     "model_module": "@jupyter-widgets/base",
     "model_name": "LayoutModel",
     "state": {
      "_model_module": "@jupyter-widgets/base",
      "_model_module_version": "1.2.0",
      "_model_name": "LayoutModel",
      "_view_count": null,
      "_view_module": "@jupyter-widgets/base",
      "_view_module_version": "1.2.0",
      "_view_name": "LayoutView",
      "align_content": null,
      "align_items": null,
      "align_self": null,
      "border": null,
      "bottom": null,
      "display": null,
      "flex": null,
      "flex_flow": null,
      "grid_area": null,
      "grid_auto_columns": null,
      "grid_auto_flow": null,
      "grid_auto_rows": null,
      "grid_column": null,
      "grid_gap": null,
      "grid_row": null,
      "grid_template_areas": null,
      "grid_template_columns": null,
      "grid_template_rows": null,
      "height": null,
      "justify_content": null,
      "justify_items": null,
      "left": null,
      "margin": null,
      "max_height": null,
      "max_width": null,
      "min_height": null,
      "min_width": null,
      "object_fit": null,
      "object_position": null,
      "order": null,
      "overflow": null,
      "overflow_x": null,
      "overflow_y": null,
      "padding": null,
      "right": null,
      "top": null,
      "visibility": null,
      "width": null
     }
    },
    "0f3015218202433683b4c0c56105c7d1": {
     "model_module": "@jupyter-widgets/base",
     "model_name": "LayoutModel",
     "state": {
      "_model_module": "@jupyter-widgets/base",
      "_model_module_version": "1.2.0",
      "_model_name": "LayoutModel",
      "_view_count": null,
      "_view_module": "@jupyter-widgets/base",
      "_view_module_version": "1.2.0",
      "_view_name": "LayoutView",
      "align_content": null,
      "align_items": null,
      "align_self": null,
      "border": null,
      "bottom": null,
      "display": null,
      "flex": null,
      "flex_flow": null,
      "grid_area": null,
      "grid_auto_columns": null,
      "grid_auto_flow": null,
      "grid_auto_rows": null,
      "grid_column": null,
      "grid_gap": null,
      "grid_row": null,
      "grid_template_areas": null,
      "grid_template_columns": null,
      "grid_template_rows": null,
      "height": null,
      "justify_content": null,
      "justify_items": null,
      "left": null,
      "margin": null,
      "max_height": null,
      "max_width": null,
      "min_height": null,
      "min_width": null,
      "object_fit": null,
      "object_position": null,
      "order": null,
      "overflow": null,
      "overflow_x": null,
      "overflow_y": null,
      "padding": null,
      "right": null,
      "top": null,
      "visibility": null,
      "width": null
     }
    },
    "10861388fda04f8ebd04aa20b596079f": {
     "model_module": "@jupyter-widgets/controls",
     "model_name": "DescriptionStyleModel",
     "state": {
      "_model_module": "@jupyter-widgets/controls",
      "_model_module_version": "1.5.0",
      "_model_name": "DescriptionStyleModel",
      "_view_count": null,
      "_view_module": "@jupyter-widgets/base",
      "_view_module_version": "1.2.0",
      "_view_name": "StyleView",
      "description_width": ""
     }
    },
    "82f8491c6cd7404caeafb0c0699e981d": {
     "model_module": "@jupyter-widgets/controls",
     "model_name": "HTMLModel",
     "state": {
      "_dom_classes": [],
      "_model_module": "@jupyter-widgets/controls",
      "_model_module_version": "1.5.0",
      "_model_name": "HTMLModel",
      "_view_count": null,
      "_view_module": "@jupyter-widgets/controls",
      "_view_module_version": "1.5.0",
      "_view_name": "HTMLView",
      "description": "",
      "description_tooltip": null,
      "layout": "IPY_MODEL_bea2fbff55b54edfae69aa737c8e2833",
      "placeholder": "​",
      "style": "IPY_MODEL_10861388fda04f8ebd04aa20b596079f",
      "value": " 200000/200000 [00:02&lt;00:00, 71739.95it/s]"
     }
    },
    "9a3220e7d5484b0f969a9467da78615f": {
     "model_module": "@jupyter-widgets/controls",
     "model_name": "ProgressStyleModel",
     "state": {
      "_model_module": "@jupyter-widgets/controls",
      "_model_module_version": "1.5.0",
      "_model_name": "ProgressStyleModel",
      "_view_count": null,
      "_view_module": "@jupyter-widgets/base",
      "_view_module_version": "1.2.0",
      "_view_name": "StyleView",
      "bar_color": null,
      "description_width": "initial"
     }
    },
    "9e856c7cadaf47d999587b1588c0b231": {
     "model_module": "@jupyter-widgets/controls",
     "model_name": "DescriptionStyleModel",
     "state": {
      "_model_module": "@jupyter-widgets/controls",
      "_model_module_version": "1.5.0",
      "_model_name": "DescriptionStyleModel",
      "_view_count": null,
      "_view_module": "@jupyter-widgets/base",
      "_view_module_version": "1.2.0",
      "_view_name": "StyleView",
      "description_width": ""
     }
    },
    "b7143082d02d4486b39da118b7f2b05d": {
     "model_module": "@jupyter-widgets/controls",
     "model_name": "HTMLModel",
     "state": {
      "_dom_classes": [],
      "_model_module": "@jupyter-widgets/controls",
      "_model_module_version": "1.5.0",
      "_model_name": "HTMLModel",
      "_view_count": null,
      "_view_module": "@jupyter-widgets/controls",
      "_view_module_version": "1.5.0",
      "_view_name": "HTMLView",
      "description": "",
      "description_tooltip": null,
      "layout": "IPY_MODEL_0c87b60cb2eb415d9101b7a12ddab4d1",
      "placeholder": "​",
      "style": "IPY_MODEL_9e856c7cadaf47d999587b1588c0b231",
      "value": " 6/6 [00:00&lt;00:00, 10.47it/s]"
     }
    },
    "b9b8818512de4cef9220f78b7b5260d2": {
     "model_module": "@jupyter-widgets/base",
     "model_name": "LayoutModel",
     "state": {
      "_model_module": "@jupyter-widgets/base",
      "_model_module_version": "1.2.0",
      "_model_name": "LayoutModel",
      "_view_count": null,
      "_view_module": "@jupyter-widgets/base",
      "_view_module_version": "1.2.0",
      "_view_name": "LayoutView",
      "align_content": null,
      "align_items": null,
      "align_self": null,
      "border": null,
      "bottom": null,
      "display": null,
      "flex": null,
      "flex_flow": null,
      "grid_area": null,
      "grid_auto_columns": null,
      "grid_auto_flow": null,
      "grid_auto_rows": null,
      "grid_column": null,
      "grid_gap": null,
      "grid_row": null,
      "grid_template_areas": null,
      "grid_template_columns": null,
      "grid_template_rows": null,
      "height": null,
      "justify_content": null,
      "justify_items": null,
      "left": null,
      "margin": null,
      "max_height": null,
      "max_width": null,
      "min_height": null,
      "min_width": null,
      "object_fit": null,
      "object_position": null,
      "order": null,
      "overflow": null,
      "overflow_x": null,
      "overflow_y": null,
      "padding": null,
      "right": null,
      "top": null,
      "visibility": null,
      "width": null
     }
    },
    "bea2fbff55b54edfae69aa737c8e2833": {
     "model_module": "@jupyter-widgets/base",
     "model_name": "LayoutModel",
     "state": {
      "_model_module": "@jupyter-widgets/base",
      "_model_module_version": "1.2.0",
      "_model_name": "LayoutModel",
      "_view_count": null,
      "_view_module": "@jupyter-widgets/base",
      "_view_module_version": "1.2.0",
      "_view_name": "LayoutView",
      "align_content": null,
      "align_items": null,
      "align_self": null,
      "border": null,
      "bottom": null,
      "display": null,
      "flex": null,
      "flex_flow": null,
      "grid_area": null,
      "grid_auto_columns": null,
      "grid_auto_flow": null,
      "grid_auto_rows": null,
      "grid_column": null,
      "grid_gap": null,
      "grid_row": null,
      "grid_template_areas": null,
      "grid_template_columns": null,
      "grid_template_rows": null,
      "height": null,
      "justify_content": null,
      "justify_items": null,
      "left": null,
      "margin": null,
      "max_height": null,
      "max_width": null,
      "min_height": null,
      "min_width": null,
      "object_fit": null,
      "object_position": null,
      "order": null,
      "overflow": null,
      "overflow_x": null,
      "overflow_y": null,
      "padding": null,
      "right": null,
      "top": null,
      "visibility": null,
      "width": null
     }
    },
    "e3778fae431849fc86d38f0612924278": {
     "model_module": "@jupyter-widgets/base",
     "model_name": "LayoutModel",
     "state": {
      "_model_module": "@jupyter-widgets/base",
      "_model_module_version": "1.2.0",
      "_model_name": "LayoutModel",
      "_view_count": null,
      "_view_module": "@jupyter-widgets/base",
      "_view_module_version": "1.2.0",
      "_view_name": "LayoutView",
      "align_content": null,
      "align_items": null,
      "align_self": null,
      "border": null,
      "bottom": null,
      "display": null,
      "flex": null,
      "flex_flow": null,
      "grid_area": null,
      "grid_auto_columns": null,
      "grid_auto_flow": null,
      "grid_auto_rows": null,
      "grid_column": null,
      "grid_gap": null,
      "grid_row": null,
      "grid_template_areas": null,
      "grid_template_columns": null,
      "grid_template_rows": null,
      "height": null,
      "justify_content": null,
      "justify_items": null,
      "left": null,
      "margin": null,
      "max_height": null,
      "max_width": null,
      "min_height": null,
      "min_width": null,
      "object_fit": null,
      "object_position": null,
      "order": null,
      "overflow": null,
      "overflow_x": null,
      "overflow_y": null,
      "padding": null,
      "right": null,
      "top": null,
      "visibility": null,
      "width": null
     }
    },
    "e7e409bffbbb4b3da35ed2bb05d03eae": {
     "model_module": "@jupyter-widgets/controls",
     "model_name": "FloatProgressModel",
     "state": {
      "_dom_classes": [],
      "_model_module": "@jupyter-widgets/controls",
      "_model_module_version": "1.5.0",
      "_model_name": "FloatProgressModel",
      "_view_count": null,
      "_view_module": "@jupyter-widgets/controls",
      "_view_module_version": "1.5.0",
      "_view_name": "ProgressView",
      "bar_style": "success",
      "description": "100%",
      "description_tooltip": null,
      "layout": "IPY_MODEL_b9b8818512de4cef9220f78b7b5260d2",
      "max": 200000,
      "min": 0,
      "orientation": "horizontal",
      "style": "IPY_MODEL_f2ca99b117dc4c648177f7ec482827e8",
      "value": 200000
     }
    },
    "e858c4d9b1fa4ad5b302105b732f6a73": {
     "model_module": "@jupyter-widgets/controls",
     "model_name": "HBoxModel",
     "state": {
      "_dom_classes": [],
      "_model_module": "@jupyter-widgets/controls",
      "_model_module_version": "1.5.0",
      "_model_name": "HBoxModel",
      "_view_count": null,
      "_view_module": "@jupyter-widgets/controls",
      "_view_module_version": "1.5.0",
      "_view_name": "HBoxView",
      "box_style": "",
      "children": [
       "IPY_MODEL_0a249fbd7f39493984555f9865200cd5",
       "IPY_MODEL_b7143082d02d4486b39da118b7f2b05d"
      ],
      "layout": "IPY_MODEL_f0f8d6ff45ff400e8cbd8499620d9f99"
     }
    },
    "f0f8d6ff45ff400e8cbd8499620d9f99": {
     "model_module": "@jupyter-widgets/base",
     "model_name": "LayoutModel",
     "state": {
      "_model_module": "@jupyter-widgets/base",
      "_model_module_version": "1.2.0",
      "_model_name": "LayoutModel",
      "_view_count": null,
      "_view_module": "@jupyter-widgets/base",
      "_view_module_version": "1.2.0",
      "_view_name": "LayoutView",
      "align_content": null,
      "align_items": null,
      "align_self": null,
      "border": null,
      "bottom": null,
      "display": null,
      "flex": null,
      "flex_flow": null,
      "grid_area": null,
      "grid_auto_columns": null,
      "grid_auto_flow": null,
      "grid_auto_rows": null,
      "grid_column": null,
      "grid_gap": null,
      "grid_row": null,
      "grid_template_areas": null,
      "grid_template_columns": null,
      "grid_template_rows": null,
      "height": null,
      "justify_content": null,
      "justify_items": null,
      "left": null,
      "margin": null,
      "max_height": null,
      "max_width": null,
      "min_height": null,
      "min_width": null,
      "object_fit": null,
      "object_position": null,
      "order": null,
      "overflow": null,
      "overflow_x": null,
      "overflow_y": null,
      "padding": null,
      "right": null,
      "top": null,
      "visibility": null,
      "width": null
     }
    },
    "f2ca99b117dc4c648177f7ec482827e8": {
     "model_module": "@jupyter-widgets/controls",
     "model_name": "ProgressStyleModel",
     "state": {
      "_model_module": "@jupyter-widgets/controls",
      "_model_module_version": "1.5.0",
      "_model_name": "ProgressStyleModel",
      "_view_count": null,
      "_view_module": "@jupyter-widgets/base",
      "_view_module_version": "1.2.0",
      "_view_name": "StyleView",
      "bar_color": null,
      "description_width": "initial"
     }
    },
    "f63f46ece9324503875b2135d2e4f509": {
     "model_module": "@jupyter-widgets/controls",
     "model_name": "HBoxModel",
     "state": {
      "_dom_classes": [],
      "_model_module": "@jupyter-widgets/controls",
      "_model_module_version": "1.5.0",
      "_model_name": "HBoxModel",
      "_view_count": null,
      "_view_module": "@jupyter-widgets/controls",
      "_view_module_version": "1.5.0",
      "_view_name": "HBoxView",
      "box_style": "",
      "children": [
       "IPY_MODEL_e7e409bffbbb4b3da35ed2bb05d03eae",
       "IPY_MODEL_82f8491c6cd7404caeafb0c0699e981d"
      ],
      "layout": "IPY_MODEL_e3778fae431849fc86d38f0612924278"
     }
    }
   }
  }
 },
 "nbformat": 4,
 "nbformat_minor": 4
}
