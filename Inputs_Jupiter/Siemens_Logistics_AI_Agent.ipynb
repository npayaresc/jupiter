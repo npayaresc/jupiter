{
 "cells": [
  {
   "cell_type": "markdown",
   "metadata": {
    "id": "WT8qLuc5ZCrj"
   },
   "source": [
    "\r\n",
    "# Siemens Logistics - AI Agent"
   ]
  },
  {
   "cell_type": "markdown",
   "metadata": {
    "id": "ZA8kLl42ZVNh"
   },
   "source": [
    "## Imports"
   ]
  },
  {
   "cell_type": "code",
   "execution_count": 1,
   "metadata": {
    "colab": {
     "base_uri": "https://localhost:8080/"
    },
    "id": "BaF5zc_rZXKh",
    "outputId": "ee3fe92a-1391-452c-a724-8be94768f953"
   },
   "outputs": [
    {
     "ename": "ModuleNotFoundError",
     "evalue": "No module named 'pandas'",
     "output_type": "error",
     "traceback": [
      "\u001b[0;31m---------------------------------------------------------------------------\u001b[0m",
      "\u001b[0;31mModuleNotFoundError\u001b[0m                       Traceback (most recent call last)",
      "\u001b[0;32m<ipython-input-1-1e6379c5ce76>\u001b[0m in \u001b[0;36m<module>\u001b[0;34m\u001b[0m\n\u001b[1;32m      1\u001b[0m \u001b[0;31m# Imports\u001b[0m\u001b[0;34m\u001b[0m\u001b[0;34m\u001b[0m\u001b[0;34m\u001b[0m\u001b[0m\n\u001b[1;32m      2\u001b[0m \u001b[0;31m# Create_Flat_Tracking\u001b[0m\u001b[0;34m\u001b[0m\u001b[0;34m\u001b[0m\u001b[0;34m\u001b[0m\u001b[0m\n\u001b[0;32m----> 3\u001b[0;31m \u001b[0;32mimport\u001b[0m \u001b[0mpandas\u001b[0m \u001b[0;32mas\u001b[0m \u001b[0mpd\u001b[0m\u001b[0;34m\u001b[0m\u001b[0;34m\u001b[0m\u001b[0m\n\u001b[0m\u001b[1;32m      4\u001b[0m \u001b[0;32mimport\u001b[0m \u001b[0mnumpy\u001b[0m \u001b[0;32mas\u001b[0m \u001b[0mnp\u001b[0m\u001b[0;34m\u001b[0m\u001b[0;34m\u001b[0m\u001b[0m\n\u001b[1;32m      5\u001b[0m \u001b[0;32mimport\u001b[0m \u001b[0mos\u001b[0m\u001b[0;34m\u001b[0m\u001b[0;34m\u001b[0m\u001b[0m\n",
      "\u001b[0;31mModuleNotFoundError\u001b[0m: No module named 'pandas'"
     ]
    }
   ],
   "source": [
    "# Imports\r\n",
    "# Create_Flat_Tracking\r\n",
    "import pandas as pd\r\n",
    "import numpy as np\r\n",
    "import os\r\n",
    "import json\r\n",
    "import glob\r\n",
    "from datetime import datetime\r\n",
    "from tqdm.autonotebook import tqdm\r\n",
    "tqdm.pandas()"
   ]
  },
  {
   "cell_type": "markdown",
   "metadata": {
    "id": "0qSqpLnXZIS4"
   },
   "source": [
    "## Prepare Dataset"
   ]
  },
  {
   "cell_type": "markdown",
   "metadata": {
    "id": "t19SBT_vZhBh"
   },
   "source": [
    "### Mount drive"
   ]
  },
  {
   "cell_type": "code",
   "execution_count": null,
   "metadata": {
    "colab": {
     "base_uri": "https://localhost:8080/"
    },
    "id": "FwlUapM6Y-AH",
    "outputId": "8ae95d8a-3352-4de0-8853-c9434a93584e"
   },
   "outputs": [
    {
     "name": "stdout",
     "output_type": "stream",
     "text": [
      "Mounted at /content/drive\n"
     ]
    }
   ],
   "source": [
    "# Mount my Google Drive\r\n",
    "from google.colab import drive\r\n",
    "drive.mount('/content/drive')"
   ]
  },
  {
   "cell_type": "markdown",
   "metadata": {
    "id": "hpkZeIQkZ0k4"
   },
   "source": [
    "### Import merged data"
   ]
  },
  {
   "cell_type": "code",
   "execution_count": null,
   "metadata": {
    "colab": {
     "base_uri": "https://localhost:8080/",
     "height": 167,
     "referenced_widgets": [
      "fcda40abea19454b80080812c3e7116e",
      "5b432c75a8954fd6a35977d9948f488d",
      "56301847fb044147a04b98af12c3df68",
      "15589819f40d4c0187e24cde95292536",
      "9017ce325db141c1b450af5b62d1c534",
      "4eae4bb8fb9a40a094215a980a49da0f",
      "d3c9450b63d4433e9e920862dad9f7a2",
      "e83f7f785dec4474aee4e19bbaf55f8b",
      "3ef843e6ec8941dda263703dbf1f7c52",
      "4f3b3793efec4aaba08e8116f74b62b1",
      "af45ad4440ff4470b04bc712207654e6",
      "ff5e47ec7bac4bacb75c4fdeaaa319ce",
      "06bdd1e5b54842fabe8c220099e04d7a",
      "2ec24663955749868e94c6b4bba7cbe8",
      "7854fab3dcf94d6fbb778b7d13fa642b",
      "3ccc87e688b94f55a7dbaa7e6ff42a24",
      "b55067fed2474fb88781b45f72b0ea26",
      "7bef4fb06b2c48a5b2c09d4c35c9b4c9",
      "57bf330bb22a4b22986214881600d751",
      "9f2fa71806324a81bc7b1e7211c90473",
      "e7db3ad4cb0a4db0a3c8bed1ed1fd79e",
      "cd1bca6ad0994ddc8d18adf1169674db",
      "4b9d36ad6998426d93749380e2fa1641",
      "8099dd75089447d8a5062837e53d1dea"
     ]
    },
    "id": "NyQaoEH_Z23L",
    "outputId": "db9a69cb-2499-498e-dcdc-78246d04e727"
   },
   "outputs": [
    {
     "data": {
      "application/vnd.jupyter.widget-view+json": {
       "model_id": "fcda40abea19454b80080812c3e7116e",
       "version_major": 2,
       "version_minor": 0
      },
      "text/plain": [
       "HBox(children=(FloatProgress(value=0.0, max=6.0), HTML(value='')))"
      ]
     },
     "metadata": {
      "tags": []
     },
     "output_type": "display_data"
    },
    {
     "name": "stdout",
     "output_type": "stream",
     "text": [
      "\n"
     ]
    },
    {
     "data": {
      "application/vnd.jupyter.widget-view+json": {
       "model_id": "3ef843e6ec8941dda263703dbf1f7c52",
       "version_major": 2,
       "version_minor": 0
      },
      "text/plain": [
       "HBox(children=(FloatProgress(value=0.0, max=2.0), HTML(value='')))"
      ]
     },
     "metadata": {
      "tags": []
     },
     "output_type": "display_data"
    },
    {
     "name": "stdout",
     "output_type": "stream",
     "text": [
      "\n"
     ]
    },
    {
     "data": {
      "application/vnd.jupyter.widget-view+json": {
       "model_id": "b55067fed2474fb88781b45f72b0ea26",
       "version_major": 2,
       "version_minor": 0
      },
      "text/plain": [
       "HBox(children=(FloatProgress(value=0.0, max=199971.0), HTML(value='')))"
      ]
     },
     "metadata": {
      "tags": []
     },
     "output_type": "display_data"
    },
    {
     "name": "stdout",
     "output_type": "stream",
     "text": [
      "\n"
     ]
    }
   ],
   "source": [
    "# Initialize and import the tacking dataframe\r\n",
    "df_merged = pd.read_json(\"/content/drive/MyDrive/Colab_Notebooks/Data/results/data_merged_export_06_02_2021.json\", orient='records')\r\n",
    "\r\n",
    "# formt columbs\r\n",
    "df_merged[[c for c in df_merged.columns if c.endswith('_DATE')]] = \\\r\n",
    "    df_merged[[c for c in df_merged.columns if  c.endswith('_DATE')]].progress_apply(lambda x:pd.to_datetime(x,  unit='ms'))\r\n",
    "df_merged[[c for c in df_merged.columns if c.endswith('_DURATION')]] = \\\r\n",
    "    df_merged[[c for c in df_merged.columns if  c.endswith('_DURATION')]].progress_apply(lambda x:pd.to_timedelta(x,  unit='s'))\r\n",
    "    \r\n",
    "df_merged['DELIVERY_DURATION_SECONDS'] = df_merged['DELIVERY_DURATION'].progress_apply(lambda x: x.total_seconds())\r\n",
    "\r\n",
    "df_merged = df_merged.sort_values(['SHIPMENTID', 'STATUS_DATE'])"
   ]
  },
  {
   "cell_type": "code",
   "execution_count": null,
   "metadata": {
    "id": "a-JRvMWFd9hM"
   },
   "outputs": [],
   "source": [
    "df_merged_unique_shipments = df_merged['SHIPMENTID'].unique()\r\n",
    "df_merged_unique_events = df_merged['reason_DE'].unique()\r\n",
    "df_merged_unique_milestones = df_merged['MILESTONES'].unique()\r\n",
    "df_merged_unique_reihenfolge = df_merged['REIHENFOLGE'].unique()\r\n",
    "df_merged_unique_sender = df_merged['Sender'].unique()\r\n",
    "df_merged_unique_receiver = df_merged['Receiver'].unique()\r\n",
    "df_merged_unique_logistic_providers = df_merged['Logistics_Provider'].unique()"
   ]
  },
  {
   "cell_type": "markdown",
   "metadata": {
    "id": "d53rNfh_aTXB"
   },
   "source": [
    "### Prepare Datasets"
   ]
  },
  {
   "cell_type": "markdown",
   "metadata": {
    "id": "KT455pFfaYAL"
   },
   "source": [
    "#### Delivery Time Prediction"
   ]
  },
  {
   "cell_type": "code",
   "execution_count": null,
   "metadata": {
    "id": "1QTAUP7Zujve"
   },
   "outputs": [],
   "source": [
    "# DEFINE CONSTANTS\r\n",
    "BATCH_SIZE = 32"
   ]
  },
  {
   "cell_type": "code",
   "execution_count": null,
   "metadata": {
    "colab": {
     "base_uri": "https://localhost:8080/",
     "height": 646
    },
    "id": "qiPWUDRQadPR",
    "outputId": "4e5c85eb-88d8-4226-cbe9-bc06ba72fe9e"
   },
   "outputs": [
    {
     "name": "stdout",
     "output_type": "stream",
     "text": [
      "SHIPMENTID                     int64\n",
      "reason_DE                     string\n",
      "MILESTONES                    string\n",
      "REIHENFOLGE                    int64\n",
      "EVENT_DURATION_SECONDS       float64\n",
      "Shipment_Distance            float64\n",
      "Qty__INT                     float64\n",
      "Volume__FLOAT                float64\n",
      "Weight__FLOAT                float64\n",
      "Logistics_Provider            string\n",
      "Sender                        string\n",
      "Receiver                      string\n",
      "DELIVERED                      int64\n",
      "DELIVERY_DURATION_SECONDS    float64\n",
      "dtype: object\n"
     ]
    },
    {
     "data": {
      "text/html": [
       "<div>\n",
       "<style scoped>\n",
       "    .dataframe tbody tr th:only-of-type {\n",
       "        vertical-align: middle;\n",
       "    }\n",
       "\n",
       "    .dataframe tbody tr th {\n",
       "        vertical-align: top;\n",
       "    }\n",
       "\n",
       "    .dataframe thead th {\n",
       "        text-align: right;\n",
       "    }\n",
       "</style>\n",
       "<table border=\"1\" class=\"dataframe\">\n",
       "  <thead>\n",
       "    <tr style=\"text-align: right;\">\n",
       "      <th></th>\n",
       "      <th>SHIPMENTID</th>\n",
       "      <th>reason_DE</th>\n",
       "      <th>MILESTONES</th>\n",
       "      <th>REIHENFOLGE</th>\n",
       "      <th>EVENT_DURATION_SECONDS</th>\n",
       "      <th>Shipment_Distance</th>\n",
       "      <th>Qty__INT</th>\n",
       "      <th>Volume__FLOAT</th>\n",
       "      <th>Weight__FLOAT</th>\n",
       "      <th>Logistics_Provider</th>\n",
       "      <th>Sender</th>\n",
       "      <th>Receiver</th>\n",
       "      <th>DELIVERED</th>\n",
       "      <th>DELIVERY_DURATION_SECONDS</th>\n",
       "    </tr>\n",
       "  </thead>\n",
       "  <tbody>\n",
       "    <tr>\n",
       "      <th>0</th>\n",
       "      <td>297975316</td>\n",
       "      <td>Eingang Versandpartner</td>\n",
       "      <td>Ankunft Zustellterminal</td>\n",
       "      <td>490</td>\n",
       "      <td>797280.0</td>\n",
       "      <td>-1.0</td>\n",
       "      <td>1.0</td>\n",
       "      <td>0.000</td>\n",
       "      <td>1775.0</td>\n",
       "      <td>Heppner GmbH &amp; Co. KG - Neu-Ulm</td>\n",
       "      <td>SCHEPPACH FABRIKATION VON</td>\n",
       "      <td>PROBOIS MACHINOUTILS</td>\n",
       "      <td>1</td>\n",
       "      <td>1119660.0</td>\n",
       "    </tr>\n",
       "    <tr>\n",
       "      <th>1</th>\n",
       "      <td>297975316</td>\n",
       "      <td>Sendung auf dem Weg zum Empfänger/in Zustellung</td>\n",
       "      <td>In Zustellung</td>\n",
       "      <td>500</td>\n",
       "      <td>322380.0</td>\n",
       "      <td>-1.0</td>\n",
       "      <td>1.0</td>\n",
       "      <td>0.000</td>\n",
       "      <td>1775.0</td>\n",
       "      <td>Heppner GmbH &amp; Co. KG - Neu-Ulm</td>\n",
       "      <td>SCHEPPACH FABRIKATION VON</td>\n",
       "      <td>PROBOIS MACHINOUTILS</td>\n",
       "      <td>1</td>\n",
       "      <td>1119660.0</td>\n",
       "    </tr>\n",
       "    <tr>\n",
       "      <th>2</th>\n",
       "      <td>297975316</td>\n",
       "      <td>Reine Quittung</td>\n",
       "      <td>Zustellung</td>\n",
       "      <td>600</td>\n",
       "      <td>0.0</td>\n",
       "      <td>-1.0</td>\n",
       "      <td>1.0</td>\n",
       "      <td>0.000</td>\n",
       "      <td>1775.0</td>\n",
       "      <td>Heppner GmbH &amp; Co. KG - Neu-Ulm</td>\n",
       "      <td>SCHEPPACH FABRIKATION VON</td>\n",
       "      <td>PROBOIS MACHINOUTILS</td>\n",
       "      <td>1</td>\n",
       "      <td>1119660.0</td>\n",
       "    </tr>\n",
       "    <tr>\n",
       "      <th>3</th>\n",
       "      <td>298220199</td>\n",
       "      <td>Eingang Versandpartner</td>\n",
       "      <td>Ankunft Zustellterminal</td>\n",
       "      <td>490</td>\n",
       "      <td>224760.0</td>\n",
       "      <td>-1.0</td>\n",
       "      <td>1.0</td>\n",
       "      <td>0.185</td>\n",
       "      <td>22.0</td>\n",
       "      <td>Heppner GmbH &amp; Co. KG - MÜNCHEN</td>\n",
       "      <td>MATRIUM GMBH</td>\n",
       "      <td>J GARRAIO C LDA</td>\n",
       "      <td>1</td>\n",
       "      <td>656640.0</td>\n",
       "    </tr>\n",
       "    <tr>\n",
       "      <th>4</th>\n",
       "      <td>298220199</td>\n",
       "      <td>Verladen an</td>\n",
       "      <td>Abfahrt von Abholterminal</td>\n",
       "      <td>410</td>\n",
       "      <td>431880.0</td>\n",
       "      <td>-1.0</td>\n",
       "      <td>1.0</td>\n",
       "      <td>0.185</td>\n",
       "      <td>22.0</td>\n",
       "      <td>Heppner GmbH &amp; Co. KG - MÜNCHEN</td>\n",
       "      <td>MATRIUM GMBH</td>\n",
       "      <td>J GARRAIO C LDA</td>\n",
       "      <td>1</td>\n",
       "      <td>656640.0</td>\n",
       "    </tr>\n",
       "  </tbody>\n",
       "</table>\n",
       "</div>"
      ],
      "text/plain": [
       "   SHIPMENTID  ... DELIVERY_DURATION_SECONDS\n",
       "0   297975316  ...                 1119660.0\n",
       "1   297975316  ...                 1119660.0\n",
       "2   297975316  ...                 1119660.0\n",
       "3   298220199  ...                  656640.0\n",
       "4   298220199  ...                  656640.0\n",
       "\n",
       "[5 rows x 14 columns]"
      ]
     },
     "execution_count": 37,
     "metadata": {
      "tags": []
     },
     "output_type": "execute_result"
    }
   ],
   "source": [
    "df_delivery_time = df_merged[['SHIPMENTID', 'reason_DE', 'MILESTONES', 'REIHENFOLGE', 'EVENT_DURATION_SECONDS', 'Shipment_Distance', 'Qty__INT', 'Volume__FLOAT','Weight__FLOAT','Logistics_Provider', 'Sender', 'Receiver', 'DELIVERED', 'DELIVERY_DURATION_SECONDS']].copy()\r\n",
    "\r\n",
    "# Convert fields to category\r\n",
    "continuous_features = [\"EVENT_DURATION_SECONDS\", 'Shipment_Distance','Qty__INT', 'Volume__FLOAT','Weight__FLOAT' ]\r\n",
    "categorical_int_features = [ 'SHIPMENTID', 'REIHENFOLGE','DELIVERED']\r\n",
    "categorical_string_features = [ 'reason_DE', 'MILESTONES', 'Logistics_Provider', 'Sender', 'Receiver']\r\n",
    "target_features = [\"DELIVERY_DURATION_SECONDS\"]\r\n",
    "\r\n",
    "for cat in categorical_string_features:\r\n",
    "    df_delivery_time[[cat]]= df_delivery_time[[cat]].astype(pd.StringDtype())\r\n",
    "\r\n",
    "for cat in continuous_features:\r\n",
    "    df_delivery_time[[cat]] = df_delivery_time[[cat]].astype(\"float64\")\r\n",
    "\r\n",
    "for cat in categorical_int_features:\r\n",
    "    df_delivery_time[[cat]] = df_delivery_time[[cat]].astype(\"int64\")\r\n",
    "\r\n",
    "print(df_delivery_time.dtypes)\r\n",
    "df_delivery_time.head()\r\n"
   ]
  },
  {
   "cell_type": "code",
   "execution_count": null,
   "metadata": {
    "id": "uQH36wyChirs"
   },
   "outputs": [],
   "source": [
    "# Verify there are NaN columns\r\n",
    "# df_delivery_time.isna().sum()\r\n",
    "# Drop all NaN values\r\n",
    "# df_delivery_time = df_delivery_time.dropna()"
   ]
  },
  {
   "cell_type": "markdown",
   "metadata": {
    "id": "KhZL_8nBdhi0"
   },
   "source": [
    "## AI AGENTS"
   ]
  },
  {
   "cell_type": "code",
   "execution_count": null,
   "metadata": {
    "id": "lr1_iRFIf2ef"
   },
   "outputs": [],
   "source": [
    "from sklearn.preprocessing import LabelBinarizer\r\n",
    "from sklearn.preprocessing import MinMaxScaler\r\n",
    "from sklearn.preprocessing import StandardScaler\r\n",
    "from sklearn.preprocessing import OneHotEncoder \r\n",
    "import pandas as pd\r\n",
    "import numpy as np\r\n",
    "import glob\r\n",
    "import cv2\r\n",
    "import os\r\n",
    "\r\n",
    "import tensorflow as tf\r\n",
    "import numpy as np\r\n",
    "import pandas as pd\r\n",
    "from tensorflow import keras\r\n",
    "from tensorflow.keras import layers"
   ]
  },
  {
   "cell_type": "markdown",
   "metadata": {
    "id": "3Dtex6Y4s9j5"
   },
   "source": [
    "### Delivery Time Prediction - MLP with Keras"
   ]
  },
  {
   "cell_type": "markdown",
   "metadata": {
    "id": "zEQMroKK4FVA"
   },
   "source": [
    "#### Convert Panda Dataframe to Keras Dataset"
   ]
  },
  {
   "cell_type": "code",
   "execution_count": null,
   "metadata": {
    "colab": {
     "base_uri": "https://localhost:8080/"
    },
    "id": "91mYh-gtsBsg",
    "outputId": "79ba3dd0-7f82-4b8c-c538-4c225696b287"
   },
   "outputs": [
    {
     "name": "stdout",
     "output_type": "stream",
     "text": [
      "Using 159977 samples for training and 39994 for validation\n"
     ]
    }
   ],
   "source": [
    "# Split Data in Training and tests\r\n",
    "val_dataframe = df_delivery_time.sample(frac=0.2, random_state=1234)\r\n",
    "train_dataframe = df_delivery_time.drop(val_dataframe.index)\r\n",
    "print(\r\n",
    "    \"Using %d samples for training and %d for validation\"\r\n",
    "    % (len(train_dataframe), len(val_dataframe))\r\n",
    ")"
   ]
  },
  {
   "cell_type": "code",
   "execution_count": null,
   "metadata": {
    "colab": {
     "base_uri": "https://localhost:8080/"
    },
    "id": "3OfVdcbctVJd",
    "outputId": "8a6267bf-b72a-476a-ca01-cf95cacfd0fc"
   },
   "outputs": [
    {
     "name": "stdout",
     "output_type": "stream",
     "text": [
      "Input: {'SHIPMENTID': <tf.Tensor: shape=(), dtype=int64, numpy=310425996>, 'reason_DE': <tf.Tensor: shape=(), dtype=string, numpy=b'Ablieferbeleg (POD) archiviert (FR)'>, 'MILESTONES': <tf.Tensor: shape=(), dtype=string, numpy=b'Archiviert'>, 'REIHENFOLGE': <tf.Tensor: shape=(), dtype=int64, numpy=650>, 'EVENT_DURATION_SECONDS': <tf.Tensor: shape=(), dtype=float64, numpy=0.0>, 'Shipment_Distance': <tf.Tensor: shape=(), dtype=float64, numpy=6596.6821190354>, 'Qty__INT': <tf.Tensor: shape=(), dtype=float64, numpy=1.0>, 'Volume__FLOAT': <tf.Tensor: shape=(), dtype=float64, numpy=0.657>, 'Weight__FLOAT': <tf.Tensor: shape=(), dtype=float64, numpy=97.0>, 'Logistics_Provider': <tf.Tensor: shape=(), dtype=string, numpy=b'Heppner GmbH & Co. KG - Singen'>, 'Sender': <tf.Tensor: shape=(), dtype=string, numpy=b'HSM GMBH CO KG'>, 'Receiver': <tf.Tensor: shape=(), dtype=string, numpy=b'COUR DES COMPTES'>, 'DELIVERED': <tf.Tensor: shape=(), dtype=int64, numpy=1>}\n",
      "Target: tf.Tensor(0.0070713784758240795, shape=(), dtype=float64)\n"
     ]
    }
   ],
   "source": [
    "# Let's generate tf.data.Dataset objects for each dataframe:\r\n",
    "def dataframe_to_dataset(dataframe, target):\r\n",
    "    dataframe = dataframe.copy()\r\n",
    "    labels = dataframe.pop(target)\r\n",
    "    n_labels = keras.utils.normalize(labels.to_numpy())\r\n",
    "    ds = tf.data.Dataset.from_tensor_slices((dict(dataframe), n_labels[0]))\r\n",
    "    ds = ds.shuffle(buffer_size=len(dataframe))\r\n",
    "    return ds\r\n",
    "\r\n",
    "train_ds = dataframe_to_dataset(train_dataframe,\"DELIVERY_DURATION_SECONDS\")\r\n",
    "val_ds = dataframe_to_dataset(val_dataframe, \"DELIVERY_DURATION_SECONDS\")\r\n",
    "for x, y in train_ds.take(1):\r\n",
    "    print(\"Input:\", x)\r\n",
    "    print(\"Target:\", y)"
   ]
  },
  {
   "cell_type": "code",
   "execution_count": null,
   "metadata": {
    "id": "wiknp5-bucdG"
   },
   "outputs": [],
   "source": [
    "# Let's batch the datasets\r\n",
    "train_ds = train_ds.batch(BATCH_SIZE)\r\n",
    "val_ds = val_ds.batch(BATCH_SIZE)"
   ]
  },
  {
   "cell_type": "markdown",
   "metadata": {
    "id": "NmGHvKM4vJx1"
   },
   "source": [
    "#### Feature preprocessing with Keras layers"
   ]
  },
  {
   "cell_type": "code",
   "execution_count": null,
   "metadata": {
    "id": "o3jEl174uJ2W"
   },
   "outputs": [],
   "source": [
    "from tensorflow.keras.layers.experimental.preprocessing import Normalization\r\n",
    "from tensorflow.keras.layers.experimental.preprocessing import CategoryEncoding\r\n",
    "from tensorflow.keras.layers.experimental.preprocessing import StringLookup\r\n",
    "\r\n",
    "\r\n",
    "def encode_numerical_feature(feature, name, dataset):\r\n",
    "    # Create a Normalization layer for our feature\r\n",
    "    normalizer = Normalization()\r\n",
    "\r\n",
    "    # Prepare a Dataset that only yields our feature\r\n",
    "    feature_ds = dataset.map(lambda x, y: x[name])\r\n",
    "    feature_ds = feature_ds.map(lambda x: tf.expand_dims(x, -1))\r\n",
    "\r\n",
    "    # Learn the statistics of the data\r\n",
    "    normalizer.adapt(feature_ds)\r\n",
    "\r\n",
    "    # Normalize the input feature\r\n",
    "    encoded_feature = normalizer(feature)\r\n",
    "    return encoded_feature\r\n",
    "\r\n",
    "\r\n",
    "def encode_string_categorical_feature(feature, name, dataset):\r\n",
    "    # Create a StringLookup layer which will turn strings into integer indices\r\n",
    "    index = StringLookup()\r\n",
    "\r\n",
    "    # Prepare a Dataset that only yields our feature\r\n",
    "    feature_ds = dataset.map(lambda x, y: x[name])\r\n",
    "    feature_ds = feature_ds.map(lambda x: tf.expand_dims(x, -1))\r\n",
    "\r\n",
    "    # Learn the set of possible string values and assign them a fixed integer index\r\n",
    "    index.adapt(feature_ds)\r\n",
    "\r\n",
    "    # Turn the string input into integer indices\r\n",
    "    encoded_feature = index(feature)\r\n",
    "\r\n",
    "    # Create a CategoryEncoding for our integer indices\r\n",
    "    encoder = CategoryEncoding(output_mode=\"binary\")\r\n",
    "\r\n",
    "    # Prepare a dataset of indices\r\n",
    "    feature_ds = feature_ds.map(index)\r\n",
    "\r\n",
    "    # Learn the space of possible indices\r\n",
    "    encoder.adapt(feature_ds)\r\n",
    "\r\n",
    "    # Apply one-hot encoding to our indices\r\n",
    "    encoded_feature = encoder(encoded_feature)\r\n",
    "    return encoded_feature\r\n",
    "\r\n",
    "\r\n",
    "def encode_integer_categorical_feature(feature, name, dataset):\r\n",
    "    # Create a CategoryEncoding for our integer indices\r\n",
    "    encoder = CategoryEncoding(output_mode=\"binary\")\r\n",
    "\r\n",
    "    # Prepare a Dataset that only yields our feature\r\n",
    "    feature_ds = dataset.map(lambda x, y: x[name])\r\n",
    "    feature_ds = feature_ds.map(lambda x: tf.expand_dims(x, -1))\r\n",
    "\r\n",
    "    # Learn the space of possible indices\r\n",
    "    encoder.adapt(feature_ds)\r\n",
    "\r\n",
    "    # Apply one-hot encoding to our indices\r\n",
    "    encoded_feature = encoder(feature)\r\n",
    "    return encoded_feature"
   ]
  },
  {
   "cell_type": "code",
   "execution_count": null,
   "metadata": {
    "id": "lUz9ZqClvY6e"
   },
   "outputs": [],
   "source": [
    "# Overwrite the values to select only the features needed for the model\r\n",
    "continuous_features = ['Shipment_Distance','Qty__INT', 'Volume__FLOAT','Weight__FLOAT' ] # \"EVENT_DURATION_SECONDS\"\r\n",
    "categorical_int_features = [ 'REIHENFOLGE']\r\n",
    "categorical_string_features = [ 'reason_DE', 'MILESTONES', 'Logistics_Provider'] # , 'Sender', 'Receiver'\r\n",
    "target_features = [\"DELIVERY_DURATION_SECONDS\"]\r\n",
    "\r\n",
    "# Build Model\r\n",
    "all_inputs = []\r\n",
    "all_features = []\r\n",
    "\r\n",
    "# Categorical features encoded as integers\r\n",
    "for cat in categorical_int_features:\r\n",
    "  if not cat in target_features:\r\n",
    "    _tmp = keras.Input(shape=(1,), name=cat, dtype=\"int64\")\r\n",
    "    _tmp_layer = encode_integer_categorical_feature(_tmp, cat, train_ds)\r\n",
    "    all_inputs.append(_tmp)\r\n",
    "    all_features.append(_tmp_layer)\r\n",
    "\r\n",
    "# Categorical feature encoded as string\r\n",
    "for cat in categorical_string_features:\r\n",
    "  if not cat in target_features:\r\n",
    "    _tmp_str = keras.Input(shape=(1,), name=cat, dtype=\"string\")\r\n",
    "    _tmp_str_layer = encode_string_categorical_feature(_tmp_str, cat, train_ds)\r\n",
    "    all_inputs.append(_tmp_str)\r\n",
    "    all_features.append(_tmp_str_layer)\r\n",
    "\r\n",
    "# Numerical features\r\n",
    "for cat in continuous_features:\r\n",
    "  if not cat in target_features:\r\n",
    "    _tmp_cont = keras.Input(shape=(1,), name=cat)\r\n",
    "    _tmp_cont_layer = encode_numerical_feature(_tmp_cont, cat, train_ds)\r\n",
    "    all_inputs.append(_tmp_cont)\r\n",
    "    all_features.append(_tmp_cont_layer)\r\n",
    "\r\n",
    "all_features_layers = layers.concatenate(all_features)"
   ]
  },
  {
   "cell_type": "markdown",
   "metadata": {
    "id": "Z3gz2d_94UdA"
   },
   "source": [
    "#### Build Keras Model"
   ]
  },
  {
   "cell_type": "code",
   "execution_count": null,
   "metadata": {
    "id": "jv6WQf_-0DsI"
   },
   "outputs": [],
   "source": [
    "# Build Keras Model\r\n",
    "x = layers.Dense(64, activation=\"relu\")(all_features_layers)\r\n",
    "x = layers.Dense(32, activation=\"relu\")(x)\r\n",
    "output = layers.Dense(1, activation=\"linear\")(x)\r\n",
    "model_delivery_time = keras.Model(all_inputs, output)\r\n",
    "model_delivery_time.compile(\"adam\", \"mse\", metrics=[\"accuracy\"])"
   ]
  },
  {
   "cell_type": "markdown",
   "metadata": {
    "id": "vRnEVXLk6_Kc"
   },
   "source": [
    "#### Visualize the keras model"
   ]
  },
  {
   "cell_type": "code",
   "execution_count": null,
   "metadata": {
    "colab": {
     "base_uri": "https://localhost:8080/"
    },
    "id": "-5bqBqee1e_J",
    "outputId": "d9a10a17-a093-4fbc-930b-aaadc1b817f0"
   },
   "outputs": [
    {
     "data": {
      "image/png": "[encoded data removed]",
      "text/plain": [
       "<IPython.core.display.Image object>"
      ]
     },
     "execution_count": 81,
     "metadata": {
      "tags": []
     },
     "output_type": "execute_result"
    }
   ],
   "source": [
    "# Plot the model\r\n",
    "keras.utils.plot_model(model_delivery_time, show_shapes=True, rankdir=\"LR\")"
   ]
  },
  {
   "cell_type": "code",
   "execution_count": null,
   "metadata": {
    "colab": {
     "base_uri": "https://localhost:8080/"
    },
    "id": "mKMMw1sk2tfQ",
    "outputId": "48448894-4f4d-42c0-8567-909d45a3b4bf"
   },
   "outputs": [
    {
     "name": "stdout",
     "output_type": "stream",
     "text": [
      "Model: \"model_7\"\n",
      "__________________________________________________________________________________________________\n",
      "Layer (type)                    Output Shape         Param #     Connected to                     \n",
      "==================================================================================================\n",
      "reason_DE (InputLayer)          [(None, 1)]          0                                            \n",
      "__________________________________________________________________________________________________\n",
      "MILESTONES (InputLayer)         [(None, 1)]          0                                            \n",
      "__________________________________________________________________________________________________\n",
      "Logistics_Provider (InputLayer) [(None, 1)]          0                                            \n",
      "__________________________________________________________________________________________________\n",
      "REIHENFOLGE (InputLayer)        [(None, 1)]          0                                            \n",
      "__________________________________________________________________________________________________\n",
      "string_lookup_6 (StringLookup)  (None, 1)            0           reason_DE[0][0]                  \n",
      "__________________________________________________________________________________________________\n",
      "string_lookup_7 (StringLookup)  (None, 1)            0           MILESTONES[0][0]                 \n",
      "__________________________________________________________________________________________________\n",
      "string_lookup_8 (StringLookup)  (None, 1)            0           Logistics_Provider[0][0]         \n",
      "__________________________________________________________________________________________________\n",
      "Shipment_Distance (InputLayer)  [(None, 1)]          0                                            \n",
      "__________________________________________________________________________________________________\n",
      "Qty__INT (InputLayer)           [(None, 1)]          0                                            \n",
      "__________________________________________________________________________________________________\n",
      "Volume__FLOAT (InputLayer)      [(None, 1)]          0                                            \n",
      "__________________________________________________________________________________________________\n",
      "Weight__FLOAT (InputLayer)      [(None, 1)]          0                                            \n",
      "__________________________________________________________________________________________________\n",
      "category_encoding_8 (CategoryEn (None, 1000)         0           REIHENFOLGE[0][0]                \n",
      "__________________________________________________________________________________________________\n",
      "category_encoding_9 (CategoryEn (None, 67)           0           string_lookup_6[0][0]            \n",
      "__________________________________________________________________________________________________\n",
      "category_encoding_10 (CategoryE (None, 10)           0           string_lookup_7[0][0]            \n",
      "__________________________________________________________________________________________________\n",
      "category_encoding_11 (CategoryE (None, 9)            0           string_lookup_8[0][0]            \n",
      "__________________________________________________________________________________________________\n",
      "normalization_8 (Normalization) (None, 1)            3           Shipment_Distance[0][0]          \n",
      "__________________________________________________________________________________________________\n",
      "normalization_9 (Normalization) (None, 1)            3           Qty__INT[0][0]                   \n",
      "__________________________________________________________________________________________________\n",
      "normalization_10 (Normalization (None, 1)            3           Volume__FLOAT[0][0]              \n",
      "__________________________________________________________________________________________________\n",
      "normalization_11 (Normalization (None, 1)            3           Weight__FLOAT[0][0]              \n",
      "__________________________________________________________________________________________________\n",
      "concatenate_2 (Concatenate)     (None, 1090)         0           category_encoding_8[0][0]        \n",
      "                                                                 category_encoding_9[0][0]        \n",
      "                                                                 category_encoding_10[0][0]       \n",
      "                                                                 category_encoding_11[0][0]       \n",
      "                                                                 normalization_8[0][0]            \n",
      "                                                                 normalization_9[0][0]            \n",
      "                                                                 normalization_10[0][0]           \n",
      "                                                                 normalization_11[0][0]           \n",
      "__________________________________________________________________________________________________\n",
      "dense_22 (Dense)                (None, 64)           69824       concatenate_2[0][0]              \n",
      "__________________________________________________________________________________________________\n",
      "dense_23 (Dense)                (None, 32)           2080        dense_22[0][0]                   \n",
      "__________________________________________________________________________________________________\n",
      "dense_24 (Dense)                (None, 1)            33          dense_23[0][0]                   \n",
      "==================================================================================================\n",
      "Total params: 71,949\n",
      "Trainable params: 71,937\n",
      "Non-trainable params: 12\n",
      "__________________________________________________________________________________________________\n"
     ]
    }
   ],
   "source": [
    "# Model Summry\r\n",
    "model_delivery_time.summary()"
   ]
  },
  {
   "cell_type": "markdown",
   "metadata": {
    "id": "3g73EWGR4abj"
   },
   "source": [
    "#### Train"
   ]
  },
  {
   "cell_type": "code",
   "execution_count": null,
   "metadata": {
    "colab": {
     "base_uri": "https://localhost:8080/",
     "height": 469
    },
    "id": "zTRa-I7T3DGx",
    "outputId": "18aa8d82-1157-43ad-d7de-f59c784ce221"
   },
   "outputs": [
    {
     "name": "stdout",
     "output_type": "stream",
     "text": [
      "Epoch 1/50\n"
     ]
    },
    {
     "name": "stderr",
     "output_type": "stream",
     "text": [
      "/usr/local/lib/python3.6/dist-packages/tensorflow/python/keras/engine/functional.py:595: UserWarning: Input dict contained keys ['SHIPMENTID', 'EVENT_DURATION_SECONDS', 'Sender', 'Receiver', 'DELIVERED'] which did not match any model input. They will be ignored by the model.\n",
      "  [n for n in tensors.keys() if n not in ref_input_names])\n"
     ]
    },
    {
     "name": "stdout",
     "output_type": "stream",
     "text": [
      "5000/5000 [==============================] - 25s 5ms/step - loss: 1.5182e-04 - accuracy: 0.0089 - val_loss: 1.5543e-05 - val_accuracy: 0.0083\n",
      "Epoch 2/50\n",
      "2116/5000 [===========>..................] - ETA: 11s - loss: 1.8786e-06 - accuracy: 0.0096"
     ]
    },
    {
     "ename": "KeyboardInterrupt",
     "evalue": "ignored",
     "output_type": "error",
     "traceback": [
      "\u001b[0;31m---------------------------------------------------------------------------\u001b[0m",
      "\u001b[0;31mKeyboardInterrupt\u001b[0m                         Traceback (most recent call last)",
      "\u001b[0;32m<ipython-input-83-24c1096371bd>\u001b[0m in \u001b[0;36m<module>\u001b[0;34m()\u001b[0m\n\u001b[1;32m      1\u001b[0m \u001b[0;31m# Train\u001b[0m\u001b[0;34m\u001b[0m\u001b[0;34m\u001b[0m\u001b[0;34m\u001b[0m\u001b[0m\n\u001b[0;32m----> 2\u001b[0;31m \u001b[0mhistory_delivery_time\u001b[0m \u001b[0;34m=\u001b[0m \u001b[0mmodel_delivery_time\u001b[0m\u001b[0;34m.\u001b[0m\u001b[0mfit\u001b[0m\u001b[0;34m(\u001b[0m\u001b[0mtrain_ds\u001b[0m\u001b[0;34m,\u001b[0m \u001b[0mepochs\u001b[0m\u001b[0;34m=\u001b[0m\u001b[0;36m50\u001b[0m\u001b[0;34m,\u001b[0m \u001b[0mvalidation_data\u001b[0m\u001b[0;34m=\u001b[0m\u001b[0mval_ds\u001b[0m\u001b[0;34m)\u001b[0m\u001b[0;34m\u001b[0m\u001b[0;34m\u001b[0m\u001b[0m\n\u001b[0m",
      "\u001b[0;32m/usr/local/lib/python3.6/dist-packages/tensorflow/python/keras/engine/training.py\u001b[0m in \u001b[0;36mfit\u001b[0;34m(self, x, y, batch_size, epochs, verbose, callbacks, validation_split, validation_data, shuffle, class_weight, sample_weight, initial_epoch, steps_per_epoch, validation_steps, validation_batch_size, validation_freq, max_queue_size, workers, use_multiprocessing)\u001b[0m\n\u001b[1;32m   1098\u001b[0m                 _r=1):\n\u001b[1;32m   1099\u001b[0m               \u001b[0mcallbacks\u001b[0m\u001b[0;34m.\u001b[0m\u001b[0mon_train_batch_begin\u001b[0m\u001b[0;34m(\u001b[0m\u001b[0mstep\u001b[0m\u001b[0;34m)\u001b[0m\u001b[0;34m\u001b[0m\u001b[0;34m\u001b[0m\u001b[0m\n\u001b[0;32m-> 1100\u001b[0;31m               \u001b[0mtmp_logs\u001b[0m \u001b[0;34m=\u001b[0m \u001b[0mself\u001b[0m\u001b[0;34m.\u001b[0m\u001b[0mtrain_function\u001b[0m\u001b[0;34m(\u001b[0m\u001b[0miterator\u001b[0m\u001b[0;34m)\u001b[0m\u001b[0;34m\u001b[0m\u001b[0;34m\u001b[0m\u001b[0m\n\u001b[0m\u001b[1;32m   1101\u001b[0m               \u001b[0;32mif\u001b[0m \u001b[0mdata_handler\u001b[0m\u001b[0;34m.\u001b[0m\u001b[0mshould_sync\u001b[0m\u001b[0;34m:\u001b[0m\u001b[0;34m\u001b[0m\u001b[0;34m\u001b[0m\u001b[0m\n\u001b[1;32m   1102\u001b[0m                 \u001b[0mcontext\u001b[0m\u001b[0;34m.\u001b[0m\u001b[0masync_wait\u001b[0m\u001b[0;34m(\u001b[0m\u001b[0;34m)\u001b[0m\u001b[0;34m\u001b[0m\u001b[0;34m\u001b[0m\u001b[0m\n",
      "\u001b[0;32m/usr/local/lib/python3.6/dist-packages/tensorflow/python/eager/def_function.py\u001b[0m in \u001b[0;36m__call__\u001b[0;34m(self, *args, **kwds)\u001b[0m\n\u001b[1;32m    826\u001b[0m     \u001b[0mtracing_count\u001b[0m \u001b[0;34m=\u001b[0m \u001b[0mself\u001b[0m\u001b[0;34m.\u001b[0m\u001b[0mexperimental_get_tracing_count\u001b[0m\u001b[0;34m(\u001b[0m\u001b[0;34m)\u001b[0m\u001b[0;34m\u001b[0m\u001b[0;34m\u001b[0m\u001b[0m\n\u001b[1;32m    827\u001b[0m     \u001b[0;32mwith\u001b[0m \u001b[0mtrace\u001b[0m\u001b[0;34m.\u001b[0m\u001b[0mTrace\u001b[0m\u001b[0;34m(\u001b[0m\u001b[0mself\u001b[0m\u001b[0;34m.\u001b[0m\u001b[0m_name\u001b[0m\u001b[0;34m)\u001b[0m \u001b[0;32mas\u001b[0m \u001b[0mtm\u001b[0m\u001b[0;34m:\u001b[0m\u001b[0;34m\u001b[0m\u001b[0;34m\u001b[0m\u001b[0m\n\u001b[0;32m--> 828\u001b[0;31m       \u001b[0mresult\u001b[0m \u001b[0;34m=\u001b[0m \u001b[0mself\u001b[0m\u001b[0;34m.\u001b[0m\u001b[0m_call\u001b[0m\u001b[0;34m(\u001b[0m\u001b[0;34m*\u001b[0m\u001b[0margs\u001b[0m\u001b[0;34m,\u001b[0m \u001b[0;34m**\u001b[0m\u001b[0mkwds\u001b[0m\u001b[0;34m)\u001b[0m\u001b[0;34m\u001b[0m\u001b[0;34m\u001b[0m\u001b[0m\n\u001b[0m\u001b[1;32m    829\u001b[0m       \u001b[0mcompiler\u001b[0m \u001b[0;34m=\u001b[0m \u001b[0;34m\"xla\"\u001b[0m \u001b[0;32mif\u001b[0m \u001b[0mself\u001b[0m\u001b[0;34m.\u001b[0m\u001b[0m_experimental_compile\u001b[0m \u001b[0;32melse\u001b[0m \u001b[0;34m\"nonXla\"\u001b[0m\u001b[0;34m\u001b[0m\u001b[0;34m\u001b[0m\u001b[0m\n\u001b[1;32m    830\u001b[0m       \u001b[0mnew_tracing_count\u001b[0m \u001b[0;34m=\u001b[0m \u001b[0mself\u001b[0m\u001b[0;34m.\u001b[0m\u001b[0mexperimental_get_tracing_count\u001b[0m\u001b[0;34m(\u001b[0m\u001b[0;34m)\u001b[0m\u001b[0;34m\u001b[0m\u001b[0;34m\u001b[0m\u001b[0m\n",
      "\u001b[0;32m/usr/local/lib/python3.6/dist-packages/tensorflow/python/eager/def_function.py\u001b[0m in \u001b[0;36m_call\u001b[0;34m(self, *args, **kwds)\u001b[0m\n\u001b[1;32m    853\u001b[0m       \u001b[0;31m# In this case we have created variables on the first call, so we run the\u001b[0m\u001b[0;34m\u001b[0m\u001b[0;34m\u001b[0m\u001b[0;34m\u001b[0m\u001b[0m\n\u001b[1;32m    854\u001b[0m       \u001b[0;31m# defunned version which is guaranteed to never create variables.\u001b[0m\u001b[0;34m\u001b[0m\u001b[0;34m\u001b[0m\u001b[0;34m\u001b[0m\u001b[0m\n\u001b[0;32m--> 855\u001b[0;31m       \u001b[0;32mreturn\u001b[0m \u001b[0mself\u001b[0m\u001b[0;34m.\u001b[0m\u001b[0m_stateless_fn\u001b[0m\u001b[0;34m(\u001b[0m\u001b[0;34m*\u001b[0m\u001b[0margs\u001b[0m\u001b[0;34m,\u001b[0m \u001b[0;34m**\u001b[0m\u001b[0mkwds\u001b[0m\u001b[0;34m)\u001b[0m  \u001b[0;31m# pylint: disable=not-callable\u001b[0m\u001b[0;34m\u001b[0m\u001b[0;34m\u001b[0m\u001b[0m\n\u001b[0m\u001b[1;32m    856\u001b[0m     \u001b[0;32melif\u001b[0m \u001b[0mself\u001b[0m\u001b[0;34m.\u001b[0m\u001b[0m_stateful_fn\u001b[0m \u001b[0;32mis\u001b[0m \u001b[0;32mnot\u001b[0m \u001b[0;32mNone\u001b[0m\u001b[0;34m:\u001b[0m\u001b[0;34m\u001b[0m\u001b[0;34m\u001b[0m\u001b[0m\n\u001b[1;32m    857\u001b[0m       \u001b[0;31m# Release the lock early so that multiple threads can perform the call\u001b[0m\u001b[0;34m\u001b[0m\u001b[0;34m\u001b[0m\u001b[0;34m\u001b[0m\u001b[0m\n",
      "\u001b[0;32m/usr/local/lib/python3.6/dist-packages/tensorflow/python/eager/function.py\u001b[0m in \u001b[0;36m__call__\u001b[0;34m(self, *args, **kwargs)\u001b[0m\n\u001b[1;32m   2941\u001b[0m        filtered_flat_args) = self._maybe_define_function(args, kwargs)\n\u001b[1;32m   2942\u001b[0m     return graph_function._call_flat(\n\u001b[0;32m-> 2943\u001b[0;31m         filtered_flat_args, captured_inputs=graph_function.captured_inputs)  # pylint: disable=protected-access\n\u001b[0m\u001b[1;32m   2944\u001b[0m \u001b[0;34m\u001b[0m\u001b[0m\n\u001b[1;32m   2945\u001b[0m   \u001b[0;34m@\u001b[0m\u001b[0mproperty\u001b[0m\u001b[0;34m\u001b[0m\u001b[0;34m\u001b[0m\u001b[0m\n",
      "\u001b[0;32m/usr/local/lib/python3.6/dist-packages/tensorflow/python/eager/function.py\u001b[0m in \u001b[0;36m_call_flat\u001b[0;34m(self, args, captured_inputs, cancellation_manager)\u001b[0m\n\u001b[1;32m   1917\u001b[0m       \u001b[0;31m# No tape is watching; skip to running the function.\u001b[0m\u001b[0;34m\u001b[0m\u001b[0;34m\u001b[0m\u001b[0;34m\u001b[0m\u001b[0m\n\u001b[1;32m   1918\u001b[0m       return self._build_call_outputs(self._inference_function.call(\n\u001b[0;32m-> 1919\u001b[0;31m           ctx, args, cancellation_manager=cancellation_manager))\n\u001b[0m\u001b[1;32m   1920\u001b[0m     forward_backward = self._select_forward_and_backward_functions(\n\u001b[1;32m   1921\u001b[0m         \u001b[0margs\u001b[0m\u001b[0;34m,\u001b[0m\u001b[0;34m\u001b[0m\u001b[0;34m\u001b[0m\u001b[0m\n",
      "\u001b[0;32m/usr/local/lib/python3.6/dist-packages/tensorflow/python/eager/function.py\u001b[0m in \u001b[0;36mcall\u001b[0;34m(self, ctx, args, cancellation_manager)\u001b[0m\n\u001b[1;32m    558\u001b[0m               \u001b[0minputs\u001b[0m\u001b[0;34m=\u001b[0m\u001b[0margs\u001b[0m\u001b[0;34m,\u001b[0m\u001b[0;34m\u001b[0m\u001b[0;34m\u001b[0m\u001b[0m\n\u001b[1;32m    559\u001b[0m               \u001b[0mattrs\u001b[0m\u001b[0;34m=\u001b[0m\u001b[0mattrs\u001b[0m\u001b[0;34m,\u001b[0m\u001b[0;34m\u001b[0m\u001b[0;34m\u001b[0m\u001b[0m\n\u001b[0;32m--> 560\u001b[0;31m               ctx=ctx)\n\u001b[0m\u001b[1;32m    561\u001b[0m         \u001b[0;32melse\u001b[0m\u001b[0;34m:\u001b[0m\u001b[0;34m\u001b[0m\u001b[0;34m\u001b[0m\u001b[0m\n\u001b[1;32m    562\u001b[0m           outputs = execute.execute_with_cancellation(\n",
      "\u001b[0;32m/usr/local/lib/python3.6/dist-packages/tensorflow/python/eager/execute.py\u001b[0m in \u001b[0;36mquick_execute\u001b[0;34m(op_name, num_outputs, inputs, attrs, ctx, name)\u001b[0m\n\u001b[1;32m     58\u001b[0m     \u001b[0mctx\u001b[0m\u001b[0;34m.\u001b[0m\u001b[0mensure_initialized\u001b[0m\u001b[0;34m(\u001b[0m\u001b[0;34m)\u001b[0m\u001b[0;34m\u001b[0m\u001b[0;34m\u001b[0m\u001b[0m\n\u001b[1;32m     59\u001b[0m     tensors = pywrap_tfe.TFE_Py_Execute(ctx._handle, device_name, op_name,\n\u001b[0;32m---> 60\u001b[0;31m                                         inputs, attrs, num_outputs)\n\u001b[0m\u001b[1;32m     61\u001b[0m   \u001b[0;32mexcept\u001b[0m \u001b[0mcore\u001b[0m\u001b[0;34m.\u001b[0m\u001b[0m_NotOkStatusException\u001b[0m \u001b[0;32mas\u001b[0m \u001b[0me\u001b[0m\u001b[0;34m:\u001b[0m\u001b[0;34m\u001b[0m\u001b[0;34m\u001b[0m\u001b[0m\n\u001b[1;32m     62\u001b[0m     \u001b[0;32mif\u001b[0m \u001b[0mname\u001b[0m \u001b[0;32mis\u001b[0m \u001b[0;32mnot\u001b[0m \u001b[0;32mNone\u001b[0m\u001b[0;34m:\u001b[0m\u001b[0;34m\u001b[0m\u001b[0;34m\u001b[0m\u001b[0m\n",
      "\u001b[0;31mKeyboardInterrupt\u001b[0m: "
     ]
    }
   ],
   "source": [
    "# Train\r\n",
    "history_delivery_time = model_delivery_time.fit(train_ds, epochs=50, validation_data=val_ds)"
   ]
  },
  {
   "cell_type": "markdown",
   "metadata": {
    "id": "Rvxg6K7SKBeF"
   },
   "source": [
    "### Delivery Time Prediction - Scikit"
   ]
  },
  {
   "cell_type": "code",
   "execution_count": null,
   "metadata": {
    "id": "ca-OtMzMWjbX"
   },
   "outputs": [],
   "source": [
    "# Constants\r\n",
    "DEBUG = False"
   ]
  },
  {
   "cell_type": "markdown",
   "metadata": {
    "id": "a4SWSeT_KSMs"
   },
   "source": [
    "#### Convert Panda Dataframe to Numpy Array Dataset"
   ]
  },
  {
   "cell_type": "code",
   "execution_count": null,
   "metadata": {
    "id": "JpO4H4I0KOAF"
   },
   "outputs": [],
   "source": [
    "# Override to determine features and targets\r\n",
    "continuous_features = ['Shipment_Distance','Qty__INT', 'Volume__FLOAT','Weight__FLOAT' ] # \"EVENT_DURATION_SECONDS\", \r\n",
    "categorical_int_features = [ 'REIHENFOLGE']\r\n",
    "categorical_string_features = [ 'reason_DE','MILESTONES', 'Logistics_Provider'] # , 'Sender', 'Receiver'\r\n",
    "target_continous_features = [\"DELIVERY_DURATION_SECONDS\"]\r\n",
    "target_categorical_features = ['DELIVERED']\r\n",
    "\r\n",
    "features_dict = {}\r\n",
    "target_dict = {}\r\n",
    "normalizer_dict = {}\r\n",
    "\r\n",
    "# Normalize target continous feature values\r\n",
    "for cat in target_continous_features:\r\n",
    "    sc = StandardScaler()\r\n",
    "    X = df_delivery_time[[cat]].values\r\n",
    "    X = sc.fit_transform(X)\r\n",
    "    target_dict[cat] = np.copy(X)\r\n",
    "    normalizer_dict[cat] = sc\r\n",
    "if DEBUG: \r\n",
    "    print(target_dict)\r\n",
    "\r\n",
    "# Normalize target string category feature values\r\n",
    "for cat in target_categorical_features:\r\n",
    "    sc = OneHotEncoder()\r\n",
    "    X = df_delivery_time[[cat]].values\r\n",
    "    X = sc.fit_transform(X).toarray()\r\n",
    "    target_dict[cat] = np.copy(X)\r\n",
    "    normalizer_dict[cat] = sc\r\n",
    "if DEBUG: \r\n",
    "    print(target_dict)\r\n",
    "\r\n",
    "# Normalize Continous feature values\r\n",
    "for cat in continuous_features:\r\n",
    "    sc = StandardScaler()\r\n",
    "    X = df_delivery_time[[cat]].values\r\n",
    "    X = sc.fit_transform(X)\r\n",
    "    features_dict[cat] = np.copy(X)\r\n",
    "    normalizer_dict[cat] = sc\r\n",
    "if DEBUG:\r\n",
    "    print(features_dict)\r\n",
    "\r\n",
    "# Normalize string category feature values\r\n",
    "for cat in categorical_string_features:\r\n",
    "    sc = LabelBinarizer()\r\n",
    "    X = df_delivery_time[[cat]].values\r\n",
    "    X = sc.fit_transform(X)\r\n",
    "    features_dict[cat] = np.copy(X)\r\n",
    "    normalizer_dict[cat] = sc\r\n",
    "if DEBUG:\r\n",
    "    print(features_dict)\r\n",
    "\r\n",
    "# Normalize string category feature values\r\n",
    "for cat in categorical_int_features:\r\n",
    "    sc = OneHotEncoder()\r\n",
    "    X = df_delivery_time[[cat]].values\r\n",
    "    X = sc.fit_transform(X).toarray()\r\n",
    "    features_dict[cat] = np.copy(X)\r\n",
    "    normalizer_dict[cat] = sc\r\n",
    "if DEBUG:\r\n",
    "    print(features_dict)\r\n"
   ]
  },
  {
   "cell_type": "code",
   "execution_count": null,
   "metadata": {
    "colab": {
     "base_uri": "https://localhost:8080/",
     "height": 264
    },
    "id": "nptYUsmBXDiq",
    "outputId": "c9cc77d6-1f47-450b-e498-c69877642395"
   },
   "outputs": [
    {
     "name": "stderr",
     "output_type": "stream",
     "text": [
      "/usr/local/lib/python3.6/dist-packages/ipykernel_launcher.py:4: VisibleDeprecationWarning: Creating an ndarray from ragged nested sequences (which is a list-or-tuple of lists-or-tuples-or ndarrays with different lengths or shapes) is deprecated. If you meant to do this, you must specify 'dtype=object' when creating the ndarray\n",
      "  after removing the cwd from sys.path.\n"
     ]
    },
    {
     "ename": "ValueError",
     "evalue": "ignored",
     "output_type": "error",
     "traceback": [
      "\u001b[0;31m---------------------------------------------------------------------------\u001b[0m",
      "\u001b[0;31mValueError\u001b[0m                                Traceback (most recent call last)",
      "\u001b[0;32m<ipython-input-133-43664a36ec6b>\u001b[0m in \u001b[0;36m<module>\u001b[0;34m()\u001b[0m\n\u001b[1;32m      3\u001b[0m \u001b[0;34m\u001b[0m\u001b[0m\n\u001b[1;32m      4\u001b[0m \u001b[0mdf_d_X\u001b[0m \u001b[0;34m=\u001b[0m \u001b[0mnp\u001b[0m\u001b[0;34m.\u001b[0m\u001b[0marray\u001b[0m\u001b[0;34m(\u001b[0m\u001b[0mlist\u001b[0m\u001b[0;34m(\u001b[0m\u001b[0mfeatures_dict\u001b[0m\u001b[0;34m.\u001b[0m\u001b[0mitems\u001b[0m\u001b[0;34m(\u001b[0m\u001b[0;34m)\u001b[0m\u001b[0;34m)\u001b[0m\u001b[0;34m)\u001b[0m\u001b[0;34m\u001b[0m\u001b[0;34m\u001b[0m\u001b[0m\n\u001b[0;32m----> 5\u001b[0;31m \u001b[0mdf_d_X\u001b[0m\u001b[0;34m.\u001b[0m\u001b[0mT\u001b[0m\u001b[0;34m.\u001b[0m\u001b[0mreshape\u001b[0m\u001b[0;34m(\u001b[0m\u001b[0;34m(\u001b[0m\u001b[0;36m199971\u001b[0m\u001b[0;34m,\u001b[0m \u001b[0;36m8\u001b[0m\u001b[0;34m,\u001b[0m \u001b[0;34m)\u001b[0m\u001b[0;34m)\u001b[0m\u001b[0;34m\u001b[0m\u001b[0;34m\u001b[0m\u001b[0m\n\u001b[0m",
      "\u001b[0;31mValueError\u001b[0m: cannot reshape array of size 16 into shape (199971,8)"
     ]
    }
   ],
   "source": [
    "# Build the dataset\r\n",
    "d_Y = target_dict[\"DELIVERY_DURATION_SECONDS\"]\r\n",
    "\r\n",
    "df_d_X = np.array(list(features_dict.items()))\r\n",
    "df_d_X.T.reshape((199971, 8, ))"
   ]
  },
  {
   "cell_type": "code",
   "execution_count": null,
   "metadata": {
    "id": "MwcTMbUxXDgB"
   },
   "outputs": [],
   "source": []
  }
 ],
 "metadata": {
  "accelerator": "GPU",
  "colab": {
   "collapsed_sections": [
    "KhZL_8nBdhi0",
    "3Dtex6Y4s9j5",
    "zEQMroKK4FVA",
    "vRnEVXLk6_Kc"
   ],
   "name": "Siemens Logistics - AI Agent.ipynb",
   "provenance": []
  },
  "kernelspec": {
   "display_name": "Python 3",
   "language": "python",
   "name": "python3"
  },
  "kubeflow_notebook": {
   "autosnapshot": true,
   "docker_image": "gcr.io/arrikto/jupyter-kale:4a5d7e63-9f74f267",
   "experiment": {
    "id": "",
    "name": ""
   },
   "experiment_name": "",
   "katib_metadata": {
    "algorithm": {
     "algorithmName": "grid"
    },
    "maxFailedTrialCount": 3,
    "maxTrialCount": 12,
    "objective": {
     "objectiveMetricName": "",
     "type": "minimize"
    },
    "parallelTrialCount": 3,
    "parameters": []
   },
   "katib_run": false,
   "pipeline_description": "",
   "pipeline_name": "",
   "snapshot_volumes": true,
   "steps_defaults": [
    "label:access-ml-pipeline:true",
    "label:access-rok:true"
   ],
   "volumes": [
    {
     "annotations": [],
     "mount_point": "/home/jovyan",
     "name": "workspace-exploration-g840d3blu",
     "size": 15,
     "size_type": "Gi",
     "snapshot": false,
     "type": "clone"
    }
   ]
  },
  "language_info": {
   "codemirror_mode": {
    "name": "ipython",
    "version": 3
   },
   "file_extension": ".py",
   "mimetype": "text/x-python",
   "name": "python",
   "nbconvert_exporter": "python",
   "pygments_lexer": "ipython3",
   "version": "3.6.9"
  },
  "widgets": {
   "application/vnd.jupyter.widget-state+json": {
    "06bdd1e5b54842fabe8c220099e04d7a": {
     "model_module": "@jupyter-widgets/controls",
     "model_name": "ProgressStyleModel",
     "state": {
      "_model_module": "@jupyter-widgets/controls",
      "_model_module_version": "1.5.0",
      "_model_name": "ProgressStyleModel",
      "_view_count": null,
      "_view_module": "@jupyter-widgets/base",
      "_view_module_version": "1.2.0",
      "_view_name": "StyleView",
      "bar_color": null,
      "description_width": "initial"
     }
    },
    "15589819f40d4c0187e24cde95292536": {
     "model_module": "@jupyter-widgets/controls",
     "model_name": "HTMLModel",
     "state": {
      "_dom_classes": [],
      "_model_module": "@jupyter-widgets/controls",
      "_model_module_version": "1.5.0",
      "_model_name": "HTMLModel",
      "_view_count": null,
      "_view_module": "@jupyter-widgets/controls",
      "_view_module_version": "1.5.0",
      "_view_name": "HTMLView",
      "description": "",
      "description_tooltip": null,
      "layout": "IPY_MODEL_e83f7f785dec4474aee4e19bbaf55f8b",
      "placeholder": "​",
      "style": "IPY_MODEL_d3c9450b63d4433e9e920862dad9f7a2",
      "value": " 6/6 [00:00&lt;00:00, 22.53it/s]"
     }
    },
    "2ec24663955749868e94c6b4bba7cbe8": {
     "model_module": "@jupyter-widgets/base",
     "model_name": "LayoutModel",
     "state": {
      "_model_module": "@jupyter-widgets/base",
      "_model_module_version": "1.2.0",
      "_model_name": "LayoutModel",
      "_view_count": null,
      "_view_module": "@jupyter-widgets/base",
      "_view_module_version": "1.2.0",
      "_view_name": "LayoutView",
      "align_content": null,
      "align_items": null,
      "align_self": null,
      "border": null,
      "bottom": null,
      "display": null,
      "flex": null,
      "flex_flow": null,
      "grid_area": null,
      "grid_auto_columns": null,
      "grid_auto_flow": null,
      "grid_auto_rows": null,
      "grid_column": null,
      "grid_gap": null,
      "grid_row": null,
      "grid_template_areas": null,
      "grid_template_columns": null,
      "grid_template_rows": null,
      "height": null,
      "justify_content": null,
      "justify_items": null,
      "left": null,
      "margin": null,
      "max_height": null,
      "max_width": null,
      "min_height": null,
      "min_width": null,
      "object_fit": null,
      "object_position": null,
      "order": null,
      "overflow": null,
      "overflow_x": null,
      "overflow_y": null,
      "padding": null,
      "right": null,
      "top": null,
      "visibility": null,
      "width": null
     }
    },
    "3ccc87e688b94f55a7dbaa7e6ff42a24": {
     "model_module": "@jupyter-widgets/base",
     "model_name": "LayoutModel",
     "state": {
      "_model_module": "@jupyter-widgets/base",
      "_model_module_version": "1.2.0",
      "_model_name": "LayoutModel",
      "_view_count": null,
      "_view_module": "@jupyter-widgets/base",
      "_view_module_version": "1.2.0",
      "_view_name": "LayoutView",
      "align_content": null,
      "align_items": null,
      "align_self": null,
      "border": null,
      "bottom": null,
      "display": null,
      "flex": null,
      "flex_flow": null,
      "grid_area": null,
      "grid_auto_columns": null,
      "grid_auto_flow": null,
      "grid_auto_rows": null,
      "grid_column": null,
      "grid_gap": null,
      "grid_row": null,
      "grid_template_areas": null,
      "grid_template_columns": null,
      "grid_template_rows": null,
      "height": null,
      "justify_content": null,
      "justify_items": null,
      "left": null,
      "margin": null,
      "max_height": null,
      "max_width": null,
      "min_height": null,
      "min_width": null,
      "object_fit": null,
      "object_position": null,
      "order": null,
      "overflow": null,
      "overflow_x": null,
      "overflow_y": null,
      "padding": null,
      "right": null,
      "top": null,
      "visibility": null,
      "width": null
     }
    },
    "3ef843e6ec8941dda263703dbf1f7c52": {
     "model_module": "@jupyter-widgets/controls",
     "model_name": "HBoxModel",
     "state": {
      "_dom_classes": [],
      "_model_module": "@jupyter-widgets/controls",
      "_model_module_version": "1.5.0",
      "_model_name": "HBoxModel",
      "_view_count": null,
      "_view_module": "@jupyter-widgets/controls",
      "_view_module_version": "1.5.0",
      "_view_name": "HBoxView",
      "box_style": "",
      "children": [
       "IPY_MODEL_af45ad4440ff4470b04bc712207654e6",
       "IPY_MODEL_ff5e47ec7bac4bacb75c4fdeaaa319ce"
      ],
      "layout": "IPY_MODEL_4f3b3793efec4aaba08e8116f74b62b1"
     }
    },
    "4b9d36ad6998426d93749380e2fa1641": {
     "model_module": "@jupyter-widgets/controls",
     "model_name": "DescriptionStyleModel",
     "state": {
      "_model_module": "@jupyter-widgets/controls",
      "_model_module_version": "1.5.0",
      "_model_name": "DescriptionStyleModel",
      "_view_count": null,
      "_view_module": "@jupyter-widgets/base",
      "_view_module_version": "1.2.0",
      "_view_name": "StyleView",
      "description_width": ""
     }
    },
    "4eae4bb8fb9a40a094215a980a49da0f": {
     "model_module": "@jupyter-widgets/base",
     "model_name": "LayoutModel",
     "state": {
      "_model_module": "@jupyter-widgets/base",
      "_model_module_version": "1.2.0",
      "_model_name": "LayoutModel",
      "_view_count": null,
      "_view_module": "@jupyter-widgets/base",
      "_view_module_version": "1.2.0",
      "_view_name": "LayoutView",
      "align_content": null,
      "align_items": null,
      "align_self": null,
      "border": null,
      "bottom": null,
      "display": null,
      "flex": null,
      "flex_flow": null,
      "grid_area": null,
      "grid_auto_columns": null,
      "grid_auto_flow": null,
      "grid_auto_rows": null,
      "grid_column": null,
      "grid_gap": null,
      "grid_row": null,
      "grid_template_areas": null,
      "grid_template_columns": null,
      "grid_template_rows": null,
      "height": null,
      "justify_content": null,
      "justify_items": null,
      "left": null,
      "margin": null,
      "max_height": null,
      "max_width": null,
      "min_height": null,
      "min_width": null,
      "object_fit": null,
      "object_position": null,
      "order": null,
      "overflow": null,
      "overflow_x": null,
      "overflow_y": null,
      "padding": null,
      "right": null,
      "top": null,
      "visibility": null,
      "width": null
     }
    },
    "4f3b3793efec4aaba08e8116f74b62b1": {
     "model_module": "@jupyter-widgets/base",
     "model_name": "LayoutModel",
     "state": {
      "_model_module": "@jupyter-widgets/base",
      "_model_module_version": "1.2.0",
      "_model_name": "LayoutModel",
      "_view_count": null,
      "_view_module": "@jupyter-widgets/base",
      "_view_module_version": "1.2.0",
      "_view_name": "LayoutView",
      "align_content": null,
      "align_items": null,
      "align_self": null,
      "border": null,
      "bottom": null,
      "display": null,
      "flex": null,
      "flex_flow": null,
      "grid_area": null,
      "grid_auto_columns": null,
      "grid_auto_flow": null,
      "grid_auto_rows": null,
      "grid_column": null,
      "grid_gap": null,
      "grid_row": null,
      "grid_template_areas": null,
      "grid_template_columns": null,
      "grid_template_rows": null,
      "height": null,
      "justify_content": null,
      "justify_items": null,
      "left": null,
      "margin": null,
      "max_height": null,
      "max_width": null,
      "min_height": null,
      "min_width": null,
      "object_fit": null,
      "object_position": null,
      "order": null,
      "overflow": null,
      "overflow_x": null,
      "overflow_y": null,
      "padding": null,
      "right": null,
      "top": null,
      "visibility": null,
      "width": null
     }
    },
    "56301847fb044147a04b98af12c3df68": {
     "model_module": "@jupyter-widgets/controls",
     "model_name": "FloatProgressModel",
     "state": {
      "_dom_classes": [],
      "_model_module": "@jupyter-widgets/controls",
      "_model_module_version": "1.5.0",
      "_model_name": "FloatProgressModel",
      "_view_count": null,
      "_view_module": "@jupyter-widgets/controls",
      "_view_module_version": "1.5.0",
      "_view_name": "ProgressView",
      "bar_style": "success",
      "description": "100%",
      "description_tooltip": null,
      "layout": "IPY_MODEL_4eae4bb8fb9a40a094215a980a49da0f",
      "max": 6,
      "min": 0,
      "orientation": "horizontal",
      "style": "IPY_MODEL_9017ce325db141c1b450af5b62d1c534",
      "value": 6
     }
    },
    "57bf330bb22a4b22986214881600d751": {
     "model_module": "@jupyter-widgets/controls",
     "model_name": "FloatProgressModel",
     "state": {
      "_dom_classes": [],
      "_model_module": "@jupyter-widgets/controls",
      "_model_module_version": "1.5.0",
      "_model_name": "FloatProgressModel",
      "_view_count": null,
      "_view_module": "@jupyter-widgets/controls",
      "_view_module_version": "1.5.0",
      "_view_name": "ProgressView",
      "bar_style": "success",
      "description": "100%",
      "description_tooltip": null,
      "layout": "IPY_MODEL_cd1bca6ad0994ddc8d18adf1169674db",
      "max": 199971,
      "min": 0,
      "orientation": "horizontal",
      "style": "IPY_MODEL_e7db3ad4cb0a4db0a3c8bed1ed1fd79e",
      "value": 199971
     }
    },
    "5b432c75a8954fd6a35977d9948f488d": {
     "model_module": "@jupyter-widgets/base",
     "model_name": "LayoutModel",
     "state": {
      "_model_module": "@jupyter-widgets/base",
      "_model_module_version": "1.2.0",
      "_model_name": "LayoutModel",
      "_view_count": null,
      "_view_module": "@jupyter-widgets/base",
      "_view_module_version": "1.2.0",
      "_view_name": "LayoutView",
      "align_content": null,
      "align_items": null,
      "align_self": null,
      "border": null,
      "bottom": null,
      "display": null,
      "flex": null,
      "flex_flow": null,
      "grid_area": null,
      "grid_auto_columns": null,
      "grid_auto_flow": null,
      "grid_auto_rows": null,
      "grid_column": null,
      "grid_gap": null,
      "grid_row": null,
      "grid_template_areas": null,
      "grid_template_columns": null,
      "grid_template_rows": null,
      "height": null,
      "justify_content": null,
      "justify_items": null,
      "left": null,
      "margin": null,
      "max_height": null,
      "max_width": null,
      "min_height": null,
      "min_width": null,
      "object_fit": null,
      "object_position": null,
      "order": null,
      "overflow": null,
      "overflow_x": null,
      "overflow_y": null,
      "padding": null,
      "right": null,
      "top": null,
      "visibility": null,
      "width": null
     }
    },
    "7854fab3dcf94d6fbb778b7d13fa642b": {
     "model_module": "@jupyter-widgets/controls",
     "model_name": "DescriptionStyleModel",
     "state": {
      "_model_module": "@jupyter-widgets/controls",
      "_model_module_version": "1.5.0",
      "_model_name": "DescriptionStyleModel",
      "_view_count": null,
      "_view_module": "@jupyter-widgets/base",
      "_view_module_version": "1.2.0",
      "_view_name": "StyleView",
      "description_width": ""
     }
    },
    "7bef4fb06b2c48a5b2c09d4c35c9b4c9": {
     "model_module": "@jupyter-widgets/base",
     "model_name": "LayoutModel",
     "state": {
      "_model_module": "@jupyter-widgets/base",
      "_model_module_version": "1.2.0",
      "_model_name": "LayoutModel",
      "_view_count": null,
      "_view_module": "@jupyter-widgets/base",
      "_view_module_version": "1.2.0",
      "_view_name": "LayoutView",
      "align_content": null,
      "align_items": null,
      "align_self": null,
      "border": null,
      "bottom": null,
      "display": null,
      "flex": null,
      "flex_flow": null,
      "grid_area": null,
      "grid_auto_columns": null,
      "grid_auto_flow": null,
      "grid_auto_rows": null,
      "grid_column": null,
      "grid_gap": null,
      "grid_row": null,
      "grid_template_areas": null,
      "grid_template_columns": null,
      "grid_template_rows": null,
      "height": null,
      "justify_content": null,
      "justify_items": null,
      "left": null,
      "margin": null,
      "max_height": null,
      "max_width": null,
      "min_height": null,
      "min_width": null,
      "object_fit": null,
      "object_position": null,
      "order": null,
      "overflow": null,
      "overflow_x": null,
      "overflow_y": null,
      "padding": null,
      "right": null,
      "top": null,
      "visibility": null,
      "width": null
     }
    },
    "8099dd75089447d8a5062837e53d1dea": {
     "model_module": "@jupyter-widgets/base",
     "model_name": "LayoutModel",
     "state": {
      "_model_module": "@jupyter-widgets/base",
      "_model_module_version": "1.2.0",
      "_model_name": "LayoutModel",
      "_view_count": null,
      "_view_module": "@jupyter-widgets/base",
      "_view_module_version": "1.2.0",
      "_view_name": "LayoutView",
      "align_content": null,
      "align_items": null,
      "align_self": null,
      "border": null,
      "bottom": null,
      "display": null,
      "flex": null,
      "flex_flow": null,
      "grid_area": null,
      "grid_auto_columns": null,
      "grid_auto_flow": null,
      "grid_auto_rows": null,
      "grid_column": null,
      "grid_gap": null,
      "grid_row": null,
      "grid_template_areas": null,
      "grid_template_columns": null,
      "grid_template_rows": null,
      "height": null,
      "justify_content": null,
      "justify_items": null,
      "left": null,
      "margin": null,
      "max_height": null,
      "max_width": null,
      "min_height": null,
      "min_width": null,
      "object_fit": null,
      "object_position": null,
      "order": null,
      "overflow": null,
      "overflow_x": null,
      "overflow_y": null,
      "padding": null,
      "right": null,
      "top": null,
      "visibility": null,
      "width": null
     }
    },
    "9017ce325db141c1b450af5b62d1c534": {
     "model_module": "@jupyter-widgets/controls",
     "model_name": "ProgressStyleModel",
     "state": {
      "_model_module": "@jupyter-widgets/controls",
      "_model_module_version": "1.5.0",
      "_model_name": "ProgressStyleModel",
      "_view_count": null,
      "_view_module": "@jupyter-widgets/base",
      "_view_module_version": "1.2.0",
      "_view_name": "StyleView",
      "bar_color": null,
      "description_width": "initial"
     }
    },
    "9f2fa71806324a81bc7b1e7211c90473": {
     "model_module": "@jupyter-widgets/controls",
     "model_name": "HTMLModel",
     "state": {
      "_dom_classes": [],
      "_model_module": "@jupyter-widgets/controls",
      "_model_module_version": "1.5.0",
      "_model_name": "HTMLModel",
      "_view_count": null,
      "_view_module": "@jupyter-widgets/controls",
      "_view_module_version": "1.5.0",
      "_view_name": "HTMLView",
      "description": "",
      "description_tooltip": null,
      "layout": "IPY_MODEL_8099dd75089447d8a5062837e53d1dea",
      "placeholder": "​",
      "style": "IPY_MODEL_4b9d36ad6998426d93749380e2fa1641",
      "value": " 199971/199971 [01:07&lt;00:00, 2982.94it/s]"
     }
    },
    "af45ad4440ff4470b04bc712207654e6": {
     "model_module": "@jupyter-widgets/controls",
     "model_name": "FloatProgressModel",
     "state": {
      "_dom_classes": [],
      "_model_module": "@jupyter-widgets/controls",
      "_model_module_version": "1.5.0",
      "_model_name": "FloatProgressModel",
      "_view_count": null,
      "_view_module": "@jupyter-widgets/controls",
      "_view_module_version": "1.5.0",
      "_view_name": "ProgressView",
      "bar_style": "success",
      "description": "100%",
      "description_tooltip": null,
      "layout": "IPY_MODEL_2ec24663955749868e94c6b4bba7cbe8",
      "max": 2,
      "min": 0,
      "orientation": "horizontal",
      "style": "IPY_MODEL_06bdd1e5b54842fabe8c220099e04d7a",
      "value": 2
     }
    },
    "b55067fed2474fb88781b45f72b0ea26": {
     "model_module": "@jupyter-widgets/controls",
     "model_name": "HBoxModel",
     "state": {
      "_dom_classes": [],
      "_model_module": "@jupyter-widgets/controls",
      "_model_module_version": "1.5.0",
      "_model_name": "HBoxModel",
      "_view_count": null,
      "_view_module": "@jupyter-widgets/controls",
      "_view_module_version": "1.5.0",
      "_view_name": "HBoxView",
      "box_style": "",
      "children": [
       "IPY_MODEL_57bf330bb22a4b22986214881600d751",
       "IPY_MODEL_9f2fa71806324a81bc7b1e7211c90473"
      ],
      "layout": "IPY_MODEL_7bef4fb06b2c48a5b2c09d4c35c9b4c9"
     }
    },
    "cd1bca6ad0994ddc8d18adf1169674db": {
     "model_module": "@jupyter-widgets/base",
     "model_name": "LayoutModel",
     "state": {
      "_model_module": "@jupyter-widgets/base",
      "_model_module_version": "1.2.0",
      "_model_name": "LayoutModel",
      "_view_count": null,
      "_view_module": "@jupyter-widgets/base",
      "_view_module_version": "1.2.0",
      "_view_name": "LayoutView",
      "align_content": null,
      "align_items": null,
      "align_self": null,
      "border": null,
      "bottom": null,
      "display": null,
      "flex": null,
      "flex_flow": null,
      "grid_area": null,
      "grid_auto_columns": null,
      "grid_auto_flow": null,
      "grid_auto_rows": null,
      "grid_column": null,
      "grid_gap": null,
      "grid_row": null,
      "grid_template_areas": null,
      "grid_template_columns": null,
      "grid_template_rows": null,
      "height": null,
      "justify_content": null,
      "justify_items": null,
      "left": null,
      "margin": null,
      "max_height": null,
      "max_width": null,
      "min_height": null,
      "min_width": null,
      "object_fit": null,
      "object_position": null,
      "order": null,
      "overflow": null,
      "overflow_x": null,
      "overflow_y": null,
      "padding": null,
      "right": null,
      "top": null,
      "visibility": null,
      "width": null
     }
    },
    "d3c9450b63d4433e9e920862dad9f7a2": {
     "model_module": "@jupyter-widgets/controls",
     "model_name": "DescriptionStyleModel",
     "state": {
      "_model_module": "@jupyter-widgets/controls",
      "_model_module_version": "1.5.0",
      "_model_name": "DescriptionStyleModel",
      "_view_count": null,
      "_view_module": "@jupyter-widgets/base",
      "_view_module_version": "1.2.0",
      "_view_name": "StyleView",
      "description_width": ""
     }
    },
    "e7db3ad4cb0a4db0a3c8bed1ed1fd79e": {
     "model_module": "@jupyter-widgets/controls",
     "model_name": "ProgressStyleModel",
     "state": {
      "_model_module": "@jupyter-widgets/controls",
      "_model_module_version": "1.5.0",
      "_model_name": "ProgressStyleModel",
      "_view_count": null,
      "_view_module": "@jupyter-widgets/base",
      "_view_module_version": "1.2.0",
      "_view_name": "StyleView",
      "bar_color": null,
      "description_width": "initial"
     }
    },
    "e83f7f785dec4474aee4e19bbaf55f8b": {
     "model_module": "@jupyter-widgets/base",
     "model_name": "LayoutModel",
     "state": {
      "_model_module": "@jupyter-widgets/base",
      "_model_module_version": "1.2.0",
      "_model_name": "LayoutModel",
      "_view_count": null,
      "_view_module": "@jupyter-widgets/base",
      "_view_module_version": "1.2.0",
      "_view_name": "LayoutView",
      "align_content": null,
      "align_items": null,
      "align_self": null,
      "border": null,
      "bottom": null,
      "display": null,
      "flex": null,
      "flex_flow": null,
      "grid_area": null,
      "grid_auto_columns": null,
      "grid_auto_flow": null,
      "grid_auto_rows": null,
      "grid_column": null,
      "grid_gap": null,
      "grid_row": null,
      "grid_template_areas": null,
      "grid_template_columns": null,
      "grid_template_rows": null,
      "height": null,
      "justify_content": null,
      "justify_items": null,
      "left": null,
      "margin": null,
      "max_height": null,
      "max_width": null,
      "min_height": null,
      "min_width": null,
      "object_fit": null,
      "object_position": null,
      "order": null,
      "overflow": null,
      "overflow_x": null,
      "overflow_y": null,
      "padding": null,
      "right": null,
      "top": null,
      "visibility": null,
      "width": null
     }
    },
    "fcda40abea19454b80080812c3e7116e": {
     "model_module": "@jupyter-widgets/controls",
     "model_name": "HBoxModel",
     "state": {
      "_dom_classes": [],
      "_model_module": "@jupyter-widgets/controls",
      "_model_module_version": "1.5.0",
      "_model_name": "HBoxModel",
      "_view_count": null,
      "_view_module": "@jupyter-widgets/controls",
      "_view_module_version": "1.5.0",
      "_view_name": "HBoxView",
      "box_style": "",
      "children": [
       "IPY_MODEL_56301847fb044147a04b98af12c3df68",
       "IPY_MODEL_15589819f40d4c0187e24cde95292536"
      ],
      "layout": "IPY_MODEL_5b432c75a8954fd6a35977d9948f488d"
     }
    },
    "ff5e47ec7bac4bacb75c4fdeaaa319ce": {
     "model_module": "@jupyter-widgets/controls",
     "model_name": "HTMLModel",
     "state": {
      "_dom_classes": [],
      "_model_module": "@jupyter-widgets/controls",
      "_model_module_version": "1.5.0",
      "_model_name": "HTMLModel",
      "_view_count": null,
      "_view_module": "@jupyter-widgets/controls",
      "_view_module_version": "1.5.0",
      "_view_name": "HTMLView",
      "description": "",
      "description_tooltip": null,
      "layout": "IPY_MODEL_3ccc87e688b94f55a7dbaa7e6ff42a24",
      "placeholder": "​",
      "style": "IPY_MODEL_7854fab3dcf94d6fbb778b7d13fa642b",
      "value": " 2/2 [00:00&lt;00:00, 15.49it/s]"
     }
    }
   }
  }
 },
 "nbformat": 4,
 "nbformat_minor": 4
}
