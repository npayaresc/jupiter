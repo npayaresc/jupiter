{
 "cells": [
  {
   "cell_type": "markdown",
   "metadata": {
    "id": "qbOHs4R3QTCd"
   },
   "source": [
    "# Siemens Logistic - Data Exploration - Shipment Orders"
   ]
  },
  {
   "cell_type": "markdown",
   "metadata": {
    "id": "sWvdwSNAQcS2"
   },
   "source": [
    "# Data Import & Preperation"
   ]
  },
  {
   "cell_type": "code",
   "execution_count": 2,
   "metadata": {},
   "outputs": [
    {
     "name": "stdout",
     "output_type": "stream",
     "text": [
      "Defaulting to user installation because normal site-packages is not writeable\n",
      "Requirement already satisfied: numpy in /usr/local/lib/python3.6/dist-packages (1.19.4)\n",
      "\u001b[33mWARNING: You are using pip version 20.2.4; however, version 21.0.1 is available.\n",
      "You should consider upgrading via the '/usr/bin/python3 -m pip install --upgrade pip' command.\u001b[0m\n",
      "Defaulting to user installation because normal site-packages is not writeable\n",
      "\u001b[31mERROR: Could not find a version that satisfies the requirement json (from versions: none)\u001b[0m\n",
      "\u001b[31mERROR: No matching distribution found for json\u001b[0m\n",
      "\u001b[33mWARNING: You are using pip version 20.2.4; however, version 21.0.1 is available.\n",
      "You should consider upgrading via the '/usr/bin/python3 -m pip install --upgrade pip' command.\u001b[0m\n",
      "Defaulting to user installation because normal site-packages is not writeable\n",
      "Requirement already satisfied: tqdm in /home/jovyan/.local/lib/python3.6/site-packages (4.58.0)\n",
      "\u001b[33mWARNING: You are using pip version 20.2.4; however, version 21.0.1 is available.\n",
      "You should consider upgrading via the '/usr/bin/python3 -m pip install --upgrade pip' command.\u001b[0m\n"
     ]
    }
   ],
   "source": [
    "!pip install numpy\n",
    "!pip install json\n",
    "!pip install tqdm"
   ]
  },
  {
   "cell_type": "markdown",
   "metadata": {
    "id": "WQ6sM0txQemp"
   },
   "source": [
    "## Data Import"
   ]
  },
  {
   "cell_type": "code",
   "execution_count": null,
   "metadata": {
    "colab": {
     "base_uri": "https://localhost:8080/",
     "height": 914,
     "referenced_widgets": [
      "adf25746b7aa4a9b8d33bd52905cacbe",
      "b944b383855d49daaf583a4240c2086f",
      "718c02aa73fd40779eadd78a678c44f5",
      "e1aa4ffdf5914dd48b15af898e513040",
      "2861381e6c414327b286154d29f37d09",
      "68eea25de13742e691532bc60dc1bccf",
      "3a82dce7d3374faa842f8d903f6770a3",
      "2fe13965938341ff8a4ca91d3ac3ed8b"
     ]
    },
    "id": "tPWYzAn0P7UV",
    "outputId": "0b15effa-413d-435e-cd7e-ae80a1defa60"
   },
   "outputs": [
    {
     "name": "stdout",
     "output_type": "stream",
     "text": [
      "Mounted at /content/drive\n",
      "\n",
      "# Importing files from Google drive\n"
     ]
    },
    {
     "name": "stderr",
     "output_type": "stream",
     "text": [
      "/usr/local/lib/python3.6/dist-packages/ipykernel_launcher.py:31: TqdmDeprecationWarning: This function will be removed in tqdm==5.0.0\n",
      "Please use `tqdm.notebook.tqdm` instead of `tqdm.tqdm_notebook`\n"
     ]
    },
    {
     "data": {
      "application/vnd.jupyter.widget-view+json": {
       "model_id": "adf25746b7aa4a9b8d33bd52905cacbe",
       "version_major": 2,
       "version_minor": 0
      },
      "text/plain": [
       "HBox(children=(FloatProgress(value=0.0, max=4.0), HTML(value='')))"
      ]
     },
     "metadata": {
      "tags": []
     },
     "output_type": "display_data"
    },
    {
     "name": "stdout",
     "output_type": "stream",
     "text": [
      "\n"
     ]
    },
    {
     "data": {
      "text/html": [
       "<div>\n",
       "<style scoped>\n",
       "    .dataframe tbody tr th:only-of-type {\n",
       "        vertical-align: middle;\n",
       "    }\n",
       "\n",
       "    .dataframe tbody tr th {\n",
       "        vertical-align: top;\n",
       "    }\n",
       "\n",
       "    .dataframe thead th {\n",
       "        text-align: right;\n",
       "    }\n",
       "</style>\n",
       "<table border=\"1\" class=\"dataframe\">\n",
       "  <thead>\n",
       "    <tr style=\"text-align: right;\">\n",
       "      <th></th>\n",
       "      <th>_index</th>\n",
       "      <th>_type</th>\n",
       "      <th>_id</th>\n",
       "      <th>_score</th>\n",
       "      <th>_source.Sender_City</th>\n",
       "      <th>_source.LastStatusUpdate__DATE</th>\n",
       "      <th>_source.Logistics_Provider</th>\n",
       "      <th>_source.END_DATE</th>\n",
       "      <th>_source.Creator</th>\n",
       "      <th>_source.PickUp__DATE</th>\n",
       "      <th>_source.Creation__DATE</th>\n",
       "      <th>_source.Weight__FLOAT</th>\n",
       "      <th>_source.OBJECT_ID</th>\n",
       "      <th>_source.REFERENCE</th>\n",
       "      <th>_source.Sender_Country</th>\n",
       "      <th>_source.Receiver_Country</th>\n",
       "      <th>_source.Sent__DATE</th>\n",
       "      <th>_source.LastStatus</th>\n",
       "      <th>_source.Delivery__DATE</th>\n",
       "      <th>_source.Receiver</th>\n",
       "      <th>_source.START_DATE</th>\n",
       "      <th>_source.Qty__INT</th>\n",
       "      <th>_source.Sender</th>\n",
       "      <th>_source.Receiver_City</th>\n",
       "      <th>_source.SHIPMENTID</th>\n",
       "      <th>_source.Volume__FLOAT</th>\n",
       "    </tr>\n",
       "  </thead>\n",
       "  <tbody>\n",
       "    <tr>\n",
       "      <th>0</th>\n",
       "      <td>s5740_heppner_shipments</td>\n",
       "      <td>_doc</td>\n",
       "      <td>298274179</td>\n",
       "      <td>1.0</td>\n",
       "      <td>WORMS</td>\n",
       "      <td>2019-01-09 11:23:22.0</td>\n",
       "      <td>Heppner Internationale Spedition - Mannheim</td>\n",
       "      <td>10-01-2019 05:00:00</td>\n",
       "      <td>EDI</td>\n",
       "      <td>2119-01-19</td>\n",
       "      <td>2019-01-07 00:00:00.0</td>\n",
       "      <td>190</td>\n",
       "      <td>298274179</td>\n",
       "      <td>0255675213</td>\n",
       "      <td></td>\n",
       "      <td>F</td>\n",
       "      <td>2019-01-07 00:00:00.0</td>\n",
       "      <td>Not delivered</td>\n",
       "      <td>2119-01-19</td>\n",
       "      <td>TRAMAR ATI MARITIME</td>\n",
       "      <td>09-01-2019 05:00:00</td>\n",
       "      <td>1</td>\n",
       "      <td>ROBERT BOSCH POWER TOOLS GMBH</td>\n",
       "      <td>SAINT VIGOR DYMONVILLE</td>\n",
       "      <td>298274179</td>\n",
       "      <td>1.085</td>\n",
       "    </tr>\n",
       "    <tr>\n",
       "      <th>1</th>\n",
       "      <td>s5740_heppner_shipments</td>\n",
       "      <td>_doc</td>\n",
       "      <td>298387023</td>\n",
       "      <td>1.0</td>\n",
       "      <td>MANNHEIM</td>\n",
       "      <td>2019-01-09 19:23:23.0</td>\n",
       "      <td>Heppner Internationale Spedition - Mannheim</td>\n",
       "      <td>10-01-2019 05:00:00</td>\n",
       "      <td>EDI</td>\n",
       "      <td>2119-01-19</td>\n",
       "      <td>2019-01-07 00:00:00.0</td>\n",
       "      <td>210</td>\n",
       "      <td>298387023</td>\n",
       "      <td>72332888</td>\n",
       "      <td></td>\n",
       "      <td>F</td>\n",
       "      <td>2019-01-07 00:00:00.0</td>\n",
       "      <td>archived</td>\n",
       "      <td>2119-01-19</td>\n",
       "      <td>IMCD FRANCE SAS C/O DSV SOLUTION</td>\n",
       "      <td>09-01-2019 05:00:00</td>\n",
       "      <td>1</td>\n",
       "      <td>LOGWIN SOLUTIONS FULFILLMENT GMBH</td>\n",
       "      <td>BEAUVAIS</td>\n",
       "      <td>298387023</td>\n",
       "      <td>0.96</td>\n",
       "    </tr>\n",
       "    <tr>\n",
       "      <th>2</th>\n",
       "      <td>s5740_heppner_shipments</td>\n",
       "      <td>_doc</td>\n",
       "      <td>297946732</td>\n",
       "      <td>1.0</td>\n",
       "      <td>WORMS</td>\n",
       "      <td>2019-01-10 01:08:36.0</td>\n",
       "      <td>Heppner Internationale Spedition - Mannheim</td>\n",
       "      <td>10-01-2019 05:00:00</td>\n",
       "      <td>EDI</td>\n",
       "      <td>2119-01-19</td>\n",
       "      <td>2019-01-02 00:00:00.0</td>\n",
       "      <td>34</td>\n",
       "      <td>297946732</td>\n",
       "      <td>0255614967</td>\n",
       "      <td></td>\n",
       "      <td>F</td>\n",
       "      <td>2019-01-02 00:00:00.0</td>\n",
       "      <td>archived</td>\n",
       "      <td>2119-01-19</td>\n",
       "      <td>CCL COLOMIERS</td>\n",
       "      <td>09-01-2019 05:00:00</td>\n",
       "      <td>1</td>\n",
       "      <td>ROBERT BOSCH POWER TOOLS GMBH</td>\n",
       "      <td>Colomiers</td>\n",
       "      <td>297946732</td>\n",
       "      <td>0.226</td>\n",
       "    </tr>\n",
       "    <tr>\n",
       "      <th>3</th>\n",
       "      <td>s5740_heppner_shipments</td>\n",
       "      <td>_doc</td>\n",
       "      <td>297946791</td>\n",
       "      <td>1.0</td>\n",
       "      <td>WORMS</td>\n",
       "      <td>2019-01-10 01:08:39.0</td>\n",
       "      <td>Heppner Internationale Spedition - Mannheim</td>\n",
       "      <td>10-01-2019 05:00:00</td>\n",
       "      <td>EDI</td>\n",
       "      <td>2119-01-19</td>\n",
       "      <td>2019-01-02 00:00:00.0</td>\n",
       "      <td>13</td>\n",
       "      <td>297946791</td>\n",
       "      <td>0255609226</td>\n",
       "      <td></td>\n",
       "      <td>F</td>\n",
       "      <td>2019-01-06 00:00:00.0</td>\n",
       "      <td>archived</td>\n",
       "      <td>2119-01-19</td>\n",
       "      <td>QUINCAILLERIE NANTAISE</td>\n",
       "      <td>09-01-2019 05:00:00</td>\n",
       "      <td>1</td>\n",
       "      <td>ROBERT BOSCH POWER TOOLS GMBH</td>\n",
       "      <td>SAINT HERBLAIN</td>\n",
       "      <td>297946791</td>\n",
       "      <td>0.112</td>\n",
       "    </tr>\n",
       "    <tr>\n",
       "      <th>4</th>\n",
       "      <td>s5740_heppner_shipments</td>\n",
       "      <td>_doc</td>\n",
       "      <td>297946794</td>\n",
       "      <td>1.0</td>\n",
       "      <td>WORMS</td>\n",
       "      <td>2019-01-10 01:08:39.0</td>\n",
       "      <td>Heppner Internationale Spedition - Mannheim</td>\n",
       "      <td>10-01-2019 05:00:00</td>\n",
       "      <td>EDI</td>\n",
       "      <td>2119-01-19</td>\n",
       "      <td>2019-01-02 00:00:00.0</td>\n",
       "      <td>11</td>\n",
       "      <td>297946794</td>\n",
       "      <td>0255609716</td>\n",
       "      <td></td>\n",
       "      <td>F</td>\n",
       "      <td>2019-01-06 00:00:00.0</td>\n",
       "      <td>archived</td>\n",
       "      <td>2119-01-19</td>\n",
       "      <td>VM ST GILLES</td>\n",
       "      <td>09-01-2019 05:00:00</td>\n",
       "      <td>1</td>\n",
       "      <td>ROBERT BOSCH POWER TOOLS GMBH</td>\n",
       "      <td>ST GILLES CROIX DE VIE</td>\n",
       "      <td>297946794</td>\n",
       "      <td>0.101</td>\n",
       "    </tr>\n",
       "    <tr>\n",
       "      <th>...</th>\n",
       "      <td>...</td>\n",
       "      <td>...</td>\n",
       "      <td>...</td>\n",
       "      <td>...</td>\n",
       "      <td>...</td>\n",
       "      <td>...</td>\n",
       "      <td>...</td>\n",
       "      <td>...</td>\n",
       "      <td>...</td>\n",
       "      <td>...</td>\n",
       "      <td>...</td>\n",
       "      <td>...</td>\n",
       "      <td>...</td>\n",
       "      <td>...</td>\n",
       "      <td>...</td>\n",
       "      <td>...</td>\n",
       "      <td>...</td>\n",
       "      <td>...</td>\n",
       "      <td>...</td>\n",
       "      <td>...</td>\n",
       "      <td>...</td>\n",
       "      <td>...</td>\n",
       "      <td>...</td>\n",
       "      <td>...</td>\n",
       "      <td>...</td>\n",
       "      <td>...</td>\n",
       "    </tr>\n",
       "    <tr>\n",
       "      <th>262976</th>\n",
       "      <td>s5740_heppner_shipments</td>\n",
       "      <td>_doc</td>\n",
       "      <td>366565913</td>\n",
       "      <td>1.0</td>\n",
       "      <td>Wendlingen</td>\n",
       "      <td>2020-10-12 06:31:04.0</td>\n",
       "      <td>Heppner GmbH &amp; Co. KG - KORNWESTHEIM</td>\n",
       "      <td>13-10-2020 05:00:00</td>\n",
       "      <td>EDI</td>\n",
       "      <td>2119-01-19</td>\n",
       "      <td>2020-10-06 00:00:00.0</td>\n",
       "      <td>43</td>\n",
       "      <td>366565913</td>\n",
       "      <td>0057605874</td>\n",
       "      <td>DE</td>\n",
       "      <td>FR</td>\n",
       "      <td>2020-10-06 13:24:19.0</td>\n",
       "      <td>archived</td>\n",
       "      <td>2020-10-08 00:00:00.0</td>\n",
       "      <td>OUTILS NANCY</td>\n",
       "      <td>12-10-2020 05:00:00</td>\n",
       "      <td>1</td>\n",
       "      <td>FESTOOL GMBH</td>\n",
       "      <td>NANCY</td>\n",
       "      <td>366565913</td>\n",
       "      <td>0.864</td>\n",
       "    </tr>\n",
       "    <tr>\n",
       "      <th>262977</th>\n",
       "      <td>s5740_heppner_shipments</td>\n",
       "      <td>_doc</td>\n",
       "      <td>366804204</td>\n",
       "      <td>1.0</td>\n",
       "      <td>WINNENDEN</td>\n",
       "      <td>2020-10-12 06:31:08.0</td>\n",
       "      <td>Heppner GmbH &amp; Co. KG - KORNWESTHEIM</td>\n",
       "      <td>13-10-2020 05:00:00</td>\n",
       "      <td>EDI</td>\n",
       "      <td>2119-01-19</td>\n",
       "      <td>2020-10-07 00:00:00.0</td>\n",
       "      <td>129</td>\n",
       "      <td>366804204</td>\n",
       "      <td>5936479</td>\n",
       "      <td>DE</td>\n",
       "      <td>FR</td>\n",
       "      <td>2020-10-07 11:54:15.0</td>\n",
       "      <td>archived</td>\n",
       "      <td>2020-10-09 00:00:00.0</td>\n",
       "      <td>ANDREZ BRAJON</td>\n",
       "      <td>12-10-2020 05:00:00</td>\n",
       "      <td>1</td>\n",
       "      <td>JUDO</td>\n",
       "      <td>Épinal</td>\n",
       "      <td>366804204</td>\n",
       "      <td>1.584</td>\n",
       "    </tr>\n",
       "    <tr>\n",
       "      <th>262978</th>\n",
       "      <td>s5740_heppner_shipments</td>\n",
       "      <td>_doc</td>\n",
       "      <td>366530620</td>\n",
       "      <td>1.0</td>\n",
       "      <td>Günzburg</td>\n",
       "      <td>2020-10-12 09:26:17.0</td>\n",
       "      <td>Heppner GmbH &amp; Co. KG - Neu-Ulm</td>\n",
       "      <td>13-10-2020 05:00:00</td>\n",
       "      <td>EDI</td>\n",
       "      <td>2119-01-19</td>\n",
       "      <td>2020-10-06 00:00:00.0</td>\n",
       "      <td>1775</td>\n",
       "      <td>366530620</td>\n",
       "      <td>AR01302686</td>\n",
       "      <td>DE</td>\n",
       "      <td>FR</td>\n",
       "      <td>2020-10-06 10:54:14.0</td>\n",
       "      <td>Delivered</td>\n",
       "      <td>2020-10-12 00:00:00.0</td>\n",
       "      <td>SYNTHOS STYRENICS SYNTHOS DWORY 2</td>\n",
       "      <td>12-10-2020 05:00:00</td>\n",
       "      <td>5</td>\n",
       "      <td>ARKEMA GMBH</td>\n",
       "      <td>WINGLES</td>\n",
       "      <td>366530620</td>\n",
       "      <td>0</td>\n",
       "    </tr>\n",
       "    <tr>\n",
       "      <th>262979</th>\n",
       "      <td>s5740_heppner_shipments</td>\n",
       "      <td>_doc</td>\n",
       "      <td>367393802</td>\n",
       "      <td>1.0</td>\n",
       "      <td>Nürtingen</td>\n",
       "      <td>2020-10-12 09:59:11.0</td>\n",
       "      <td>Heppner GmbH &amp; Co. KG - KORNWESTHEIM</td>\n",
       "      <td>13-10-2020 05:00:00</td>\n",
       "      <td>EDI</td>\n",
       "      <td>2119-01-19</td>\n",
       "      <td>2020-10-09 00:00:00.0</td>\n",
       "      <td>51</td>\n",
       "      <td>367393802</td>\n",
       "      <td>40466868</td>\n",
       "      <td>DE</td>\n",
       "      <td>FR</td>\n",
       "      <td>2020-10-09 06:54:14.0</td>\n",
       "      <td>discharge</td>\n",
       "      <td>2020-10-09 00:00:00.0</td>\n",
       "      <td>CENTRE LOGIST OUEST ENTREPOT XPO</td>\n",
       "      <td>12-10-2020 05:00:00</td>\n",
       "      <td>1</td>\n",
       "      <td>METABOWERKE GMBH</td>\n",
       "      <td>SAINT LEGER DES BOIS</td>\n",
       "      <td>367393802</td>\n",
       "      <td>0</td>\n",
       "    </tr>\n",
       "    <tr>\n",
       "      <th>262980</th>\n",
       "      <td>s5740_heppner_shipments</td>\n",
       "      <td>_doc</td>\n",
       "      <td>367393803</td>\n",
       "      <td>1.0</td>\n",
       "      <td>Nürtingen</td>\n",
       "      <td>2020-10-12 09:59:11.0</td>\n",
       "      <td>Heppner GmbH &amp; Co. KG - KORNWESTHEIM</td>\n",
       "      <td>13-10-2020 05:00:00</td>\n",
       "      <td>EDI</td>\n",
       "      <td>2119-01-19</td>\n",
       "      <td>2020-10-09 00:00:00.0</td>\n",
       "      <td>34</td>\n",
       "      <td>367393803</td>\n",
       "      <td>40466869</td>\n",
       "      <td>DE</td>\n",
       "      <td>FR</td>\n",
       "      <td>2020-10-09 06:54:14.0</td>\n",
       "      <td>discharge</td>\n",
       "      <td>2020-10-09 00:00:00.0</td>\n",
       "      <td>CENTRE LOGIST OUEST ENTREPOT XPO</td>\n",
       "      <td>12-10-2020 05:00:00</td>\n",
       "      <td>1</td>\n",
       "      <td>METABOWERKE GMBH</td>\n",
       "      <td>SAINT LEGER DES BOIS</td>\n",
       "      <td>367393803</td>\n",
       "      <td>0</td>\n",
       "    </tr>\n",
       "  </tbody>\n",
       "</table>\n",
       "<p>262981 rows × 26 columns</p>\n",
       "</div>"
      ],
      "text/plain": [
       "                         _index _type  ... _source.SHIPMENTID  _source.Volume__FLOAT\n",
       "0       s5740_heppner_shipments  _doc  ...          298274179                  1.085\n",
       "1       s5740_heppner_shipments  _doc  ...          298387023                   0.96\n",
       "2       s5740_heppner_shipments  _doc  ...          297946732                  0.226\n",
       "3       s5740_heppner_shipments  _doc  ...          297946791                  0.112\n",
       "4       s5740_heppner_shipments  _doc  ...          297946794                  0.101\n",
       "...                         ...   ...  ...                ...                    ...\n",
       "262976  s5740_heppner_shipments  _doc  ...          366565913                  0.864\n",
       "262977  s5740_heppner_shipments  _doc  ...          366804204                  1.584\n",
       "262978  s5740_heppner_shipments  _doc  ...          366530620                      0\n",
       "262979  s5740_heppner_shipments  _doc  ...          367393802                      0\n",
       "262980  s5740_heppner_shipments  _doc  ...          367393803                      0\n",
       "\n",
       "[262981 rows x 26 columns]"
      ]
     },
     "execution_count": 1,
     "metadata": {
      "tags": []
     },
     "output_type": "execute_result"
    }
   ],
   "source": [
    "\"load and parse the raw data\"\r\n",
    "\r\n",
    "# Imports\r\n",
    "# Create_Flat_Tracking\r\n",
    "import pandas as pd\r\n",
    "import numpy as np\r\n",
    "import os\r\n",
    "import json\r\n",
    "import glob\r\n",
    "from tqdm import tqdm_notebook\r\n",
    "\r\n",
    "def replace_name(column_name):\r\n",
    "    start_index = column_name.find(\"_source.\")\r\n",
    "    if start_index != -1:\r\n",
    "        return column_name[len(\"_source\")+1:]\r\n",
    "    else:\r\n",
    "        retu('/content/drive')\r\n",
    "\r\n",
    "# Temp Dataframe\r\n",
    "df_shipments_raw = pd.DataFrame()\r\n",
    "\r\n",
    "# Read JSON in Folder\r\n",
    "# TODO: Make a better parrallel implementation\r\n",
    "print(\"\\nDfiles from Google d./dyDrive/Colab_Notebooks/Data/shipments/*'\r\n",
    "file_list = glob.glob(path_to_read)\r\n",
    "for file in tqdm_notebook(file_list):  \r\n",
    "  _file = open(file, encoding='utf8')\r\n",
    "  data = json.load(_file)\r\n",
    "  df_shipments_raw = df_shipments_raw.append(pd.json_normalize(data), ignore_index = True)\r\n",
    "\r\n",
    "df_shipments_raw"
   ]
  },
  {
   "cell_type": "markdown",
   "metadata": {
    "id": "N9ApaA1QRo5e"
   },
   "source": [
    "## Format Data & Columns"
   ]
  },
  {
   "cell_type": "code",
   "execution_count": null,
   "metadata": {
    "id": "h_Fg926hRtXr"
   },
   "outputs": [],
   "source": [
    "# Rename and format columns\r\n",
    "# Rename column\r\n",
    "df_shipments = df_shipments_raw.rename(columns={c: replace_name(c.strip()) for c in df_shipments_raw.columns})\r\n",
    "df_shipments = df_shipments.drop(df_shipments.columns[df_shipments.columns.str.startswith('_')], axis=1)\r\n",
    "#Apply datatype\r\n",
    "df_shipments[[c for c in df_shipments.columns if not c.endswith('_DATE')]] = \\\r\n",
    "    df_shipments[[c for c in df_shipments.columns if not c.endswith('_DATE')]].astype(pd.StringDtype())\r\n",
    "df_shipments[[c for c in df_shipments.columns if c.endswith('_DATE')]] = \\\r\n",
    "    df_shipments[[c for c in df_shipments.columns if  c.endswith('_DATE')]].apply(pd.to_datetime)"
   ]
  },
  {
   "cell_type": "markdown",
   "metadata": {
    "id": "fk20Aeuj9JHT"
   },
   "source": [
    "# Data Preprocessing"
   ]
  },
  {
   "cell_type": "markdown",
   "metadata": {
    "id": "Ge9w8Sk1XMCK"
   },
   "source": [
    "### Normalize Country Code"
   ]
  },
  {
   "cell_type": "markdown",
   "metadata": {
    "id": "Yi9ob55UmCP1"
   },
   "source": [
    "#### Normalize existing country code"
   ]
  },
  {
   "cell_type": "code",
   "execution_count": null,
   "metadata": {
    "id": "g1L5sk6tUWb6"
   },
   "outputs": [],
   "source": [
    "# Format Receiver_country\r\n",
    "df_shipments['Receiver_Country'] = df_shipments['Receiver_Country'].map(lambda x: 'FR' if x == 'F' else x )\r\n",
    "df_shipments['Receiver_Country'] = df_shipments['Receiver_Country'].map(lambda x: 'ES' if x == 'E' else x )\r\n",
    "df_shipments['Receiver_Country'] = df_shipments['Receiver_Country'].map(lambda x: 'IT' if x == 'I' else x )\r\n",
    "df_shipments['Receiver_Country'] = df_shipments['Receiver_Country'].map(lambda x: 'BE' if x == 'B' else x )\r\n",
    "df_shipments['Receiver_Country'] = df_shipments['Receiver_Country'].map(lambda x: 'NL' if x == 'N' else x )\r\n",
    "\r\n",
    "# Format Sender_Country\r\n",
    "df_shipments['Sender_Country'] = df_shipments['Sender_Country'].map(lambda x: 'FR' if x == 'F' else x )\r\n",
    "df_shipments['Sender_Country'] = df_shipments['Sender_Country'].map(lambda x: 'ES' if x == 'E' else x )\r\n",
    "df_shipments['Sender_Country'] = df_shipments['Sender_Country'].map(lambda x: 'IT' if x == 'I' else x )\r\n",
    "df_shipments['Sender_Country'] = df_shipments['Sender_Country'].map(lambda x: 'BE' if x == 'B' else x )\r\n",
    "df_shipments['Sender_Country'] = df_shipments['Sender_Country'].map(lambda x: 'NL' if x == 'N' else x )"
   ]
  },
  {
   "cell_type": "markdown",
   "metadata": {
    "id": "UGzSAMWqXSma"
   },
   "source": [
    "#### Add missing country code"
   ]
  },
  {
   "cell_type": "code",
   "execution_count": null,
   "metadata": {
    "colab": {
     "base_uri": "https://localhost:8080/"
    },
    "id": "iWuUYXDqZZ5n",
    "outputId": "40b9213f-6848-4e6f-e099-a99b15c012fb"
   },
   "outputs": [
    {
     "name": "stdout",
     "output_type": "stream",
     "text": [
      "Collecting Unidecode\n",
      "\u001b[?25l  Downloading https://files.pythonhosted.org/packages/74/65/91eab655041e9e92f948cb7302e54962035762ce7b518272ed9d6b269e93/Unidecode-1.1.2-py2.py3-none-any.whl (239kB)\n",
      "\u001b[K     |████████████████████████████████| 245kB 5.5MB/s \n",
      "\u001b[?25hInstalling collected packages: Unidecode\n",
      "Successfully installed Unidecode-1.1.2\n"
     ]
    }
   ],
   "source": [
    "!pip install Unidecode"
   ]
  },
  {
   "cell_type": "code",
   "execution_count": null,
   "metadata": {
    "id": "Vf_l3lMm1RAr"
   },
   "outputs": [],
   "source": [
    "# Parse JSON with Cities and Country Code \r\n",
    "import unidecode\r\n",
    "\r\n",
    "df_country_code = pd.DataFrame()\r\n",
    "with open('/content/drive/MyDrive/Colab_Notebooks/Data/cities_database/cities.json','r') as f:\r\n",
    "    data = json.loads(f.read())\r\n",
    "    df_country_code = pd.json_normalize(data)\r\n",
    "# Format latitude and Longitude to float\r\n",
    "df_country_code['lat'] = df_country_code['lat'].astype(float)\r\n",
    "df_country_code['lng'] = df_country_code['lng'].astype(float)\r\n",
    "\r\n",
    "# Format since the cities'name are not normalized\r\n",
    "df_country_code['name'] = df_country_code['name'].map(lambda x: unidecode.unidecode(x))\r\n",
    "df_country_code['name'] = df_country_code['name'].str.upper()\r\n",
    "df_country_code['name'] = df_country_code['name'].map(lambda x: x.lstrip('+-'))"
   ]
  },
  {
   "cell_type": "markdown",
   "metadata": {
    "id": "Uj69RgI3eF15"
   },
   "source": [
    "##### Receiver Country"
   ]
  },
  {
   "cell_type": "code",
   "execution_count": null,
   "metadata": {
    "colab": {
     "base_uri": "https://localhost:8080/",
     "height": 104,
     "referenced_widgets": [
      "27dd065c763b496197430860437114b7",
      "93c8825e7e284f66a741de6b6b4cabf8",
      "5a1ab7751f2a4696b817c7931a6106f2",
      "66ea751fd73d44d5b66470576e08c4dd",
      "2eba823861a74041a8613edb2fe78eaf",
      "89a97b5983ee46bbb04d5b0fa5a60d2c",
      "c87007df1c7848ef8313e300f5b09dee",
      "4d21855a3ab640a6a8cb942b3f735467"
     ]
    },
    "id": "LQplfUkL6snL",
    "outputId": "756fdf0a-3623-4de0-b78c-b8faf09f4e36"
   },
   "outputs": [
    {
     "name": "stderr",
     "output_type": "stream",
     "text": [
      "/usr/local/lib/python3.6/dist-packages/ipykernel_launcher.py:2: TqdmExperimentalWarning: Using `tqdm.autonotebook.tqdm` in notebook mode. Use `tqdm.tqdm` instead to force console mode (e.g. in jupyter console)\n",
      "  \n"
     ]
    },
    {
     "data": {
      "application/vnd.jupyter.widget-view+json": {
       "model_id": "27dd065c763b496197430860437114b7",
       "version_major": 2,
       "version_minor": 0
      },
      "text/plain": [
       "HBox(children=(FloatProgress(value=0.0, max=24525.0), HTML(value='')))"
      ]
     },
     "metadata": {
      "tags": []
     },
     "output_type": "display_data"
    },
    {
     "name": "stdout",
     "output_type": "stream",
     "text": [
      "\n"
     ]
    }
   ],
   "source": [
    "# Join the code and geocordinate to cities of the sender and receiver\r\n",
    "from tqdm.autonotebook import tqdm\r\n",
    "# Make a copy\r\n",
    "df_test = df_shipments.copy()\r\n",
    "\r\n",
    "# df_test['Receiver_City_tmp'] = df_test['Receiver_City'].str.replace(\"ö\",\"oe\")\r\n",
    "# df_test['Receiver_City_tmp'] = df_test['Receiver_City_tmp'].str.replace(\"ü\",\"ue\")\r\n",
    "# df_test['Receiver_City_tmp'] = df_test['Receiver_City_tmp'].str.upper()\r\n",
    "df_test['Receiver_City_tmp'] = df_test['Receiver_City'].map(lambda x: unidecode.unidecode(x))\r\n",
    "df_test['Receiver_City_tmp'] = df_test['Receiver_City_tmp'].str.upper()\r\n",
    "df_test['Receiver_City_tmp'] = df_test['Receiver_City_tmp'].map(lambda x: x.lstrip('+-'))\r\n",
    "\r\n",
    "tqdm.pandas()\r\n",
    "def mapCountryReceiver(data_value):\r\n",
    "  _country = data_value['Receiver_Country'].values[0]\r\n",
    "  _city_tmp = data_value['Receiver_City_tmp'].values[0]\r\n",
    "  _city = data_value['Receiver_City'].values[0]  \r\n",
    "  if _country == \"\":\r\n",
    "    tmp = df_country_code[df_country_code['name'] == _city_tmp ]['country']\r\n",
    "    if len(tmp.values) > 0:\r\n",
    "      return tmp.values[0]\r\n",
    "    else:\r\n",
    "      return _country\r\n",
    "  else:\r\n",
    "    return _country\r\n",
    "\r\n",
    "df_test_results = df_test.groupby(['Receiver_City_tmp','Receiver_City','Receiver_Country'], sort=False).progress_apply(mapCountryReceiver).rename(\"Receiver_Country_tmp\").reset_index()\r\n",
    "df_test = df_test.merge(df_test_results)\r\n",
    "df_test['Receiver_Country']  = df_test['Receiver_Country_tmp'] \r\n",
    "df_test = df_test.drop(columns=['Receiver_City_tmp','Receiver_Country_tmp'])\r\n",
    "\r\n",
    "# if everthing went fine copy it back\r\n",
    "df_shipments = df_test.copy()"
   ]
  },
  {
   "cell_type": "markdown",
   "metadata": {
    "id": "0K8zbAgcej8G"
   },
   "source": [
    "##### Sender Country\r\n"
   ]
  },
  {
   "cell_type": "code",
   "execution_count": null,
   "metadata": {
    "colab": {
     "base_uri": "https://localhost:8080/",
     "height": 67,
     "referenced_widgets": [
      "f61426fbac3349b3a15c4377290fccfc",
      "dc3ca0a247c848e0829346c71be0967e",
      "d5f8d503488e43f88eef3e0e1ff29f20",
      "c18f3ad95ecc44c8a3270e594535855b",
      "4aac1086d6d046fcbfaacfe315898aae",
      "92aadf559c854e029b6616b9ecfdad45",
      "8c7ecf39b7d34e08bae88988086a31fd",
      "6ccd45f321d94f2c97aeb059db56fd73"
     ]
    },
    "id": "vZIEjvwDejTb",
    "outputId": "ef394992-3392-44f2-ae17-18697aacbaca"
   },
   "outputs": [
    {
     "data": {
      "application/vnd.jupyter.widget-view+json": {
       "model_id": "f61426fbac3349b3a15c4377290fccfc",
       "version_major": 2,
       "version_minor": 0
      },
      "text/plain": [
       "HBox(children=(FloatProgress(value=0.0, max=3041.0), HTML(value='')))"
      ]
     },
     "metadata": {
      "tags": []
     },
     "output_type": "display_data"
    },
    {
     "name": "stdout",
     "output_type": "stream",
     "text": [
      "\n"
     ]
    }
   ],
   "source": [
    "# Join the code and geocordinate to cities of the sender and Sender\r\n",
    "from tqdm.autonotebook import tqdm\r\n",
    "# Make a copy\r\n",
    "df_test = df_shipments.copy()\r\n",
    "\r\n",
    "# df_test['Sender_City_tmp'] = df_test['Sender_City'].str.replace(\"ö\",\"oe\")\r\n",
    "# df_test['Sender_City_tmp'] = df_test['Sender_City_tmp'].str.replace(\"ü\",\"ue\")\r\n",
    "# df_test['Sender_City_tmp'] = df_test['Sender_City_tmp'].str.upper()\r\n",
    "df_test['Sender_City_tmp'] = df_test['Sender_City'].map(lambda x: unidecode.unidecode(x))\r\n",
    "df_test['Sender_City_tmp'] = df_test['Sender_City_tmp'].str.upper()\r\n",
    "df_test['Sender_City_tmp'] = df_test['Sender_City_tmp'].map(lambda x: x.lstrip('+-'))\r\n",
    "\r\n",
    "tqdm.pandas()\r\n",
    "def mapCountrySender(data_value):\r\n",
    "  _country = data_value['Sender_Country'].values[0]\r\n",
    "  _city_tmp = data_value['Sender_City_tmp'].values[0]\r\n",
    "  _city = data_value['Sender_City'].values[0]  \r\n",
    "  if _country == \"\":\r\n",
    "    tmp = df_country_code[df_country_code['name'] == _city_tmp ]['country']\r\n",
    "    if len(tmp.values) > 0:\r\n",
    "      return tmp.values[0]\r\n",
    "    else:\r\n",
    "      return _country\r\n",
    "  else:\r\n",
    "    return _country\r\n",
    "\r\n",
    "df_test_results = df_test.groupby(['Sender_City_tmp','Sender_City','Sender_Country'], sort=False).progress_apply(mapCountrySender).rename(\"Sender_Country_tmp\").reset_index()\r\n",
    "df_test = df_test.merge(df_test_results)\r\n",
    "df_test['Sender_Country']  = df_test['Sender_Country_tmp'] \r\n",
    "df_test = df_test.drop(columns=['Sender_City_tmp','Sender_Country_tmp'])\r\n",
    "\r\n",
    "# if everthing went fine copy it back\r\n",
    "df_shipments = df_test.copy()"
   ]
  },
  {
   "cell_type": "code",
   "execution_count": null,
   "metadata": {
    "id": "8tdf_s2r9JvT"
   },
   "outputs": [],
   "source": [
    "df_shipments_with_countries = df_shipments.copy()"
   ]
  },
  {
   "cell_type": "markdown",
   "metadata": {
    "id": "m898GVoJmbXx"
   },
   "source": [
    "### Compute latitude and longitude of the sender and receiver"
   ]
  },
  {
   "cell_type": "markdown",
   "metadata": {
    "id": "tDeVHr4Yms6-"
   },
   "source": [
    "#### Longitude and latitude of sender"
   ]
  },
  {
   "cell_type": "code",
   "execution_count": null,
   "metadata": {
    "colab": {
     "base_uri": "https://localhost:8080/",
     "height": 117,
     "referenced_widgets": [
      "9538692b58c140f58b71c4259403768f",
      "7362421d66384d52ba56b476035574c8",
      "ac35bdd33a0848f791a2d4248dbda1ca",
      "cfa389febcdc4fc09a49e153ac7aacd5",
      "4dd33923c20e49ed878a6ef6de0e6944",
      "71748f32a2134cb68d58f5371edbfdd5",
      "bdf8f1fff2ab4132a278a28344667d86",
      "0927cf627c0c467d8d1c45d70994d9b6",
      "e767d52c603546d8b29446338f8b6ffa",
      "12a68861122d454ca00d2c45873d934d",
      "181304fdb721473ea9d6c99d9c713daf",
      "74ce2177f20442a2b8a5de93dd3e5195",
      "0c21475df0f34b2fad423edf343aa824",
      "6c76ad57d51a46629466d3818bd62c10",
      "eb08bf6e444845e88a5955d37551117e",
      "461bf88e406943a1b9a689fe34067083"
     ]
    },
    "id": "bfat5bQWmzmF",
    "outputId": "9f8588ce-b3b0-47b1-bb93-f5f324915bf5"
   },
   "outputs": [
    {
     "data": {
      "application/vnd.jupyter.widget-view+json": {
       "model_id": "9538692b58c140f58b71c4259403768f",
       "version_major": 2,
       "version_minor": 0
      },
      "text/plain": [
       "HBox(children=(FloatProgress(value=0.0, max=2998.0), HTML(value='')))"
      ]
     },
     "metadata": {
      "tags": []
     },
     "output_type": "display_data"
    },
    {
     "name": "stdout",
     "output_type": "stream",
     "text": [
      "\n"
     ]
    },
    {
     "data": {
      "application/vnd.jupyter.widget-view+json": {
       "model_id": "e767d52c603546d8b29446338f8b6ffa",
       "version_major": 2,
       "version_minor": 0
      },
      "text/plain": [
       "HBox(children=(FloatProgress(value=0.0, max=2998.0), HTML(value='')))"
      ]
     },
     "metadata": {
      "tags": []
     },
     "output_type": "display_data"
    },
    {
     "name": "stdout",
     "output_type": "stream",
     "text": [
      "\n"
     ]
    }
   ],
   "source": [
    "# Join the code and geocordinate to cities of the sender and receiver\r\n",
    "from tqdm.autonotebook import tqdm\r\n",
    "# Make a copy\r\n",
    "df_test = df_shipments_with_countries.copy()\r\n",
    "\r\n",
    "# df_test['Sender_City_tmp'] = df_test['Sender_City'].str.replace(\"ö\",\"oe\")\r\n",
    "# df_test['Sender_City_tmp'] = df_test['Sender_City_tmp'].str.replace(\"ü\",\"ue\")\r\n",
    "df_test['Sender_City_tmp'] = df_test['Sender_City'].map(lambda x: unidecode.unidecode(x))\r\n",
    "df_test['Sender_City_tmp'] = df_test['Sender_City_tmp'].str.upper()\r\n",
    "df_test['Sender_City_tmp'] = df_test['Sender_City_tmp'].map(lambda x: x.lstrip('+-'))\r\n",
    "\r\n",
    "tqdm.pandas()\r\n",
    "def mapCityLat(data_value):\r\n",
    "  _country = data_value['Sender_Country'].values[0]\r\n",
    "  _city_tmp = data_value['Sender_City_tmp'].values[0]\r\n",
    "  _city = data_value['Sender_City'].values[0]  \r\n",
    "  if _city != \"\":\r\n",
    "    tmp = df_country_code[df_country_code['name'] == _city_tmp ]['lat']\r\n",
    "    if len(tmp.values) > 0:\r\n",
    "      return tmp.values[0]\r\n",
    "    else:\r\n",
    "      return 0\r\n",
    "  else:\r\n",
    "    return 0\r\n",
    "\r\n",
    "def mapCityLong(data_value):\r\n",
    "  _country = data_value['Sender_Country'].values[0]\r\n",
    "  _city_tmp = data_value['Sender_City_tmp'].values[0]\r\n",
    "  _city = data_value['Sender_City'].values[0]  \r\n",
    "  if _city != \"\":\r\n",
    "    tmp = df_country_code[df_country_code['name'] == _city_tmp ]['lng']\r\n",
    "    if len(tmp.values) > 0:\r\n",
    "      return tmp.values[0]\r\n",
    "    else:\r\n",
    "      return 0\r\n",
    "  else:\r\n",
    "    return 0\r\n",
    "\r\n",
    "df_test_results = df_test.groupby(['Sender_City_tmp','Sender_City','Sender_Country'], sort=False).progress_apply(mapCityLat).rename(\"Sender_City_Lat\").reset_index()\r\n",
    "df_test = df_test.merge(df_test_results)\r\n",
    "df_test_results = df_test.groupby(['Sender_City_tmp','Sender_City','Sender_Country'], sort=False).progress_apply(mapCityLong).rename(\"Sender_City_Long\").reset_index()\r\n",
    "df_test = df_test.merge(df_test_results)\r\n",
    "\r\n",
    "# Clean Up everything\r\n",
    "df_test = df_test.drop(columns=['Sender_City_tmp'])\r\n",
    "\r\n",
    "# if everthing went fine copy it back\r\n",
    "df_shipments_with_sender_lat = df_test.copy()"
   ]
  },
  {
   "cell_type": "markdown",
   "metadata": {
    "id": "qHm-8cnPwfF_"
   },
   "source": [
    "#### Longitude and latitude of receiver"
   ]
  },
  {
   "cell_type": "code",
   "execution_count": null,
   "metadata": {
    "colab": {
     "base_uri": "https://localhost:8080/",
     "height": 117,
     "referenced_widgets": [
      "df45b8fc4ed948b58b0e0d813aa9822d",
      "b2d15e27359c46eca9270120e06a93da",
      "2654ccb385904d3988f3bc4f74a24702",
      "99b917b5f7ad4cdc9aaa638a4f2a7712",
      "426a53286f484e818a3d3356df338137",
      "d7a13fc0ee6d428cb259304c32be1446",
      "c2d13de8c3b8467492ec7ff9f587b05b",
      "bfd5f3e4087d4f3bbf98f6cdbf4f6608",
      "033f72a9200e4dfcb9afb852bd3a9548",
      "d988d60262344eb7bbfa7bf8c8c76b1a",
      "35cac153fb82419ebbdbb6c406b53ecd",
      "a04de9f111734e54970ad6d5ff6e64bd",
      "01c59bb7856d470d8670df6f79dccf28",
      "e11e7f13d2474704b2a92cf4f2a4e914",
      "267c06d81f0e40eaaaef8df462ec06f2",
      "29fe7cb206974f2097a6f85643e99399"
     ]
    },
    "id": "W_Rh7Vm1vH21",
    "outputId": "11ffee29-709d-4354-cedd-2f10b8f8ebbb"
   },
   "outputs": [
    {
     "data": {
      "application/vnd.jupyter.widget-view+json": {
       "model_id": "df45b8fc4ed948b58b0e0d813aa9822d",
       "version_major": 2,
       "version_minor": 0
      },
      "text/plain": [
       "HBox(children=(FloatProgress(value=0.0, max=24366.0), HTML(value='')))"
      ]
     },
     "metadata": {
      "tags": []
     },
     "output_type": "display_data"
    },
    {
     "name": "stdout",
     "output_type": "stream",
     "text": [
      "\n"
     ]
    },
    {
     "data": {
      "application/vnd.jupyter.widget-view+json": {
       "model_id": "033f72a9200e4dfcb9afb852bd3a9548",
       "version_major": 2,
       "version_minor": 0
      },
      "text/plain": [
       "HBox(children=(FloatProgress(value=0.0, max=24366.0), HTML(value='')))"
      ]
     },
     "metadata": {
      "tags": []
     },
     "output_type": "display_data"
    },
    {
     "name": "stdout",
     "output_type": "stream",
     "text": [
      "\n"
     ]
    }
   ],
   "source": [
    "# Join the code and geocordinate to cities of the sender and receiver\r\n",
    "from tqdm.autonotebook import tqdm\r\n",
    "# Make a copy\r\n",
    "df_tmp = df_shipments_with_sender_lat.copy()\r\n",
    "\r\n",
    "# df_tmp['Receiver_City_tmp'] = df_tmp['Receiver_City'].str.replace(\"ö\",\"oe\")\r\n",
    "# df_tmp['Receiver_City_tmp'] = df_tmp['Receiver_City_tmp'].str.replace(\"ü\",\"ue\")\r\n",
    "df_tmp['Receiver_City_tmp'] = df_tmp['Receiver_City'].map(lambda x: unidecode.unidecode(x))\r\n",
    "df_tmp['Receiver_City_tmp'] = df_tmp['Receiver_City_tmp'].str.upper()\r\n",
    "df_tmp['Receiver_City_tmp'] = df_tmp['Receiver_City_tmp'].map(lambda x: x.lstrip('+-'))\r\n",
    "\r\n",
    "tqdm.pandas()\r\n",
    "def mapRecvCityLat(data_value):\r\n",
    "  _country = data_value['Receiver_Country'].values[0]\r\n",
    "  _city_tmp = data_value['Receiver_City_tmp'].values[0]\r\n",
    "  _city = data_value['Receiver_City'].values[0]  \r\n",
    "  if _city != \"\":\r\n",
    "    tmp = df_country_code[df_country_code['name'] == _city_tmp ]['lat']\r\n",
    "    if len(tmp.values) > 0:\r\n",
    "      return float(tmp.values[0])\r\n",
    "    else:\r\n",
    "      return 0\r\n",
    "  else:\r\n",
    "    return 0\r\n",
    "\r\n",
    "def mapRecvCityLong(data_value):\r\n",
    "  _country = data_value['Receiver_Country'].values[0]\r\n",
    "  _city_tmp = data_value['Receiver_City_tmp'].values[0]\r\n",
    "  _city = data_value['Receiver_City'].values[0]  \r\n",
    "  if _city != \"\":\r\n",
    "    tmp = df_country_code[df_country_code['name'] == _city_tmp ]['lng']\r\n",
    "    if len(tmp.values) > 0:\r\n",
    "      return float(tmp.values[0])\r\n",
    "    else:\r\n",
    "      return 0\r\n",
    "  else:\r\n",
    "    return 0\r\n",
    "\r\n",
    "df_tmp_results = df_tmp.groupby(['Receiver_City_tmp','Receiver_City','Receiver_Country'], sort=False).progress_apply(mapRecvCityLat).rename(\"Receiver_City_Lat\").reset_index()\r\n",
    "df_tmp = df_tmp.merge(df_tmp_results)\r\n",
    "df_tmp_results2 = df_tmp.groupby(['Receiver_City_tmp','Receiver_City','Receiver_Country'], sort=False).progress_apply(mapRecvCityLong).rename(\"Receiver_City_Long\").reset_index()\r\n",
    "df_tmp = df_tmp.merge(df_tmp_results2)\r\n",
    "\r\n",
    "# Clean Up everything\r\n",
    "df_tmp = df_tmp.drop(columns=['Receiver_City_tmp'])\r\n",
    "\r\n",
    "# if everthing went fine copy it back\r\n",
    "df_shipments_with_receiver_lat = df_tmp.copy()"
   ]
  },
  {
   "cell_type": "code",
   "execution_count": null,
   "metadata": {
    "id": "rxvkfyyGzpas"
   },
   "outputs": [],
   "source": [
    "# Cleanup and format df_shipments\r\n",
    "df_shipments_with_receiver_lat_formatted = df_shipments_with_receiver_lat.copy()\r\n",
    "df_shipments_with_receiver_lat_formatted['Receiver_City_Lat'] = df_shipments_with_receiver_lat_formatted['Receiver_City_Lat'].astype(float)\r\n",
    "df_shipments_with_receiver_lat_formatted['Receiver_City_Long'] = df_shipments_with_receiver_lat_formatted['Receiver_City_Long'].astype(float)\r\n",
    "df_shipments_with_receiver_lat_formatted['Sender_City_Lat'] = df_shipments_with_receiver_lat_formatted['Sender_City_Lat'].astype(float)\r\n",
    "df_shipments_with_receiver_lat_formatted['Sender_City_Long'] = df_shipments_with_receiver_lat_formatted['Sender_City_Long'].astype(float)\r\n",
    "# df_shipments_with_receiver_lat_formatted['Qty__INT'] = df_shipments_with_receiver_lat_formatted['Qty__INT'].astype(int)\r\n",
    "# df_shipments_with_receiver_lat_formatted['Volume__FLOAT'] = df_shipments_with_receiver_lat_formatted['Volume__FLOAT'].astype(float)\r\n",
    "# df_shipments_with_receiver_lat_formatted['Weight__FLOAT'] = df_shipments_with_receiver_lat_formatted['Weight__FLOAT'].astype(float)\r\n",
    "\r\n",
    "# df_shipments_with_receiver_lat_formatted.drop(columns=['Sender_Country_tmp', 'Sender_City_tmp', ])\r\n",
    "# df_shipments_with_receiver_lat_formatted"
   ]
  },
  {
   "cell_type": "markdown",
   "metadata": {
    "id": "-CpdbJqkFx1K"
   },
   "source": [
    "### Compute the Distance between Sender & Receiver"
   ]
  },
  {
   "cell_type": "code",
   "execution_count": null,
   "metadata": {
    "colab": {
     "base_uri": "https://localhost:8080/"
    },
    "id": "mKyGkraOGg4j",
    "outputId": "df08cec0-b512-4013-fd91-6deee32a3682"
   },
   "outputs": [
    {
     "name": "stdout",
     "output_type": "stream",
     "text": [
      "Collecting haversine\n",
      "  Downloading https://files.pythonhosted.org/packages/f4/52/a13286844780c7b1740edbbee8a8f0524e2a6d51c068b59dda39a6a119f5/haversine-2.3.0-py2.py3-none-any.whl\n",
      "Installing collected packages: haversine\n",
      "Successfully installed haversine-2.3.0\n"
     ]
    }
   ],
   "source": [
    "!pip install haversine"
   ]
  },
  {
   "cell_type": "code",
   "execution_count": null,
   "metadata": {
    "colab": {
     "base_uri": "https://localhost:8080/",
     "height": 67,
     "referenced_widgets": [
      "a275f340135d46079f2de7d1db038249",
      "1d29ccc97e4646ea99308665a340a62e",
      "dc1522627f1d47da9e2ac1b94a6865a3",
      "0157bb3b6b0d4371b0536d593f374bb1",
      "700db8fdc5164cf8952b2a00bca72fb7",
      "17c8b76e9bc64f4bbc0a40aedec7d7dd",
      "eb116dc6e1e146469ad14cde8449f0ba",
      "739f62437d5b48df9f524a803e38d901"
     ]
    },
    "id": "Eg7wWcmcF2Ql",
    "outputId": "8c0a1df7-78bf-471a-b3b5-ca4ef86f9e88"
   },
   "outputs": [
    {
     "data": {
      "application/vnd.jupyter.widget-view+json": {
       "model_id": "a275f340135d46079f2de7d1db038249",
       "version_major": 2,
       "version_minor": 0
      },
      "text/plain": [
       "HBox(children=(FloatProgress(value=0.0, max=24263.0), HTML(value='')))"
      ]
     },
     "metadata": {
      "tags": []
     },
     "output_type": "display_data"
    },
    {
     "name": "stdout",
     "output_type": "stream",
     "text": [
      "\n"
     ]
    }
   ],
   "source": [
    "# Compute the distance between sender and receiver using Haversine formula\r\n",
    "# Only computed with records whose coordinate have been successfully computed.\r\n",
    "from tqdm.autonotebook import tqdm\r\n",
    "from haversine import haversine, Unit\r\n",
    "\r\n",
    "df_test = df_shipments_with_receiver_lat_formatted.copy()\r\n",
    "\r\n",
    "# Make a copy\r\n",
    "tqdm.pandas()\r\n",
    "\r\n",
    "def computeDistance(data_value):\r\n",
    "  _receiver_lat = float(data_value['Receiver_City_Lat'].values[0])\r\n",
    "  _receiver_long = float(data_value['Receiver_City_Long'].values[0])\r\n",
    "  _sender_lat = float(data_value['Sender_City_Lat'].values[0])\r\n",
    "  _sender_long = float(data_value['Sender_City_Long'].values[0])\r\n",
    "  if (_receiver_lat == 0) or (_receiver_long == 0) or (_sender_lat == 0) or (_sender_long == 0):\r\n",
    "    return -1\r\n",
    "  else:\r\n",
    "    loc2=(_receiver_lat,_receiver_long)\r\n",
    "    loc1=(_sender_lat,_sender_long)\r\n",
    "    return haversine(loc1,loc2, unit=Unit.KILOMETERS)\r\n",
    "\r\n",
    "df_test_results = df_test.groupby(['Receiver_City_Lat','Receiver_City_Long','Sender_City_Lat','Sender_City_Long'], sort=False).progress_apply(computeDistance).rename(\"Shipment_Distance\").reset_index()\r\n",
    "df_test = df_test.merge(df_test_results)\r\n",
    "\r\n",
    "# Clean Up everything\r\n",
    "\r\n",
    "# if everthing went fine copy it back\r\n",
    "df_shipments_with_distance = df_test.copy()"
   ]
  },
  {
   "cell_type": "markdown",
   "metadata": {
    "id": "0GhPwUsTkBJ6"
   },
   "source": [
    "### Extract Compact Dataset"
   ]
  },
  {
   "cell_type": "code",
   "execution_count": null,
   "metadata": {
    "id": "q7yRvwQgyg3t"
   },
   "outputs": [],
   "source": [
    "# Remove duplicates and Sort by STATUS_DATE\r\n",
    "# Remove duplicate\r\n",
    "df_shipments_no_duplicate =   df_shipments_with_distance.drop_duplicates(['SHIPMENTID', 'Receiver_City', 'Receiver', 'Sender_City'])\r\n",
    "df_shipments_no_duplicate_sorted = df_shipments_no_duplicate.sort_values(['LastStatusUpdate__DATE'])\r\n",
    "\r\n",
    "# Filter uniques and groups\r\n",
    "uniques_shipment = df_shipments_no_duplicate_sorted['SHIPMENTID'].unique()\r\n",
    "uniques_sender = df_shipments_no_duplicate_sorted['Sender'].unique()\r\n",
    "uniques_receiver = df_shipments_no_duplicate_sorted['Receiver'].unique()\r\n",
    "uniques_sender_cities = df_shipments_no_duplicate_sorted['Sender_City'].unique()\r\n",
    "uniques_receiver_cities = df_shipments_no_duplicate_sorted['Receiver_City'].unique()\r\n",
    "\r\n",
    "df_shipments_with_predefined_sender_and_receiver_countries = df_shipments_no_duplicate_sorted[(df_shipments_no_duplicate_sorted['Sender_Country'] != \"\") & (df_shipments_no_duplicate_sorted['Receiver_Country'] != \"\") ]\r\n",
    "df_shipments_with_predefined_latitude_and_longitute = df_shipments_no_duplicate_sorted[(df_shipments_no_duplicate_sorted['Receiver_City_Lat'] != 0) & (df_shipments_no_duplicate_sorted['Receiver_City_Long'] != 0) & (df_shipments_no_duplicate_sorted['Sender_City_Lat'] != 0) & (df_shipments_no_duplicate_sorted['Sender_City_Long'] != 0)]\r\n",
    "\r\n",
    "sender_with_max_shipments = df_shipments_no_duplicate_sorted.groupby([\"Sender\"])[\"Sender\"].count().idxmax()\r\n",
    "receiver_with_max_shipments = df_shipments_no_duplicate_sorted.groupby([\"Receiver\"])[\"Receiver\"].count().idxmax()\r\n",
    "sending_city_with_max_shipments = df_shipments_no_duplicate_sorted.groupby([\"Sender_City\"])[\"Sender_City\"].count().idxmax()\r\n",
    "receiving_city_with_max_shipments = df_shipments_no_duplicate_sorted.groupby([\"Receiver_City\"])[\"Receiver_City\"].count().idxmax()"
   ]
  },
  {
   "cell_type": "markdown",
   "metadata": {
    "id": "GGXy14Bl8qlF"
   },
   "source": [
    "# Statistics"
   ]
  },
  {
   "cell_type": "code",
   "execution_count": null,
   "metadata": {
    "colab": {
     "base_uri": "https://localhost:8080/"
    },
    "id": "bB6RX9vV9bv5",
    "outputId": "65b1d0bf-a258-478d-de80-4439c6426f64"
   },
   "outputs": [
    {
     "name": "stdout",
     "output_type": "stream",
     "text": [
      "#########################################################################\n",
      "## Total Number of shipments/records:  262981\n",
      "## Total Number of distincts shipments/records:  262981\n",
      "## Total Number of shipments with a valid sender/receiver country code :  190397 , which is  72.39952696202387 %\n",
      "## Total Number of shipment, we succeed to compute the longitude/latitude:  96031 , which is  36.51632627452173 %\n",
      "#########################################################################\n",
      "## Total Number of unique shipments:  262981\n",
      "## Total Number of unique senders :  4184\n",
      "## Total Number of unique receivers :  73285\n",
      "## Total Number of unique sending cities :  2969\n",
      "## Total Number of unique receiving cities :  24245\n",
      "#########################################################################\n",
      "## Sender that sends the most:  16\n",
      "## Receiver that received the most :  12\n",
      "## City that sends the most :  9\n",
      "## City that receive the most :  5\n",
      "#########################################################################\n"
     ]
    }
   ],
   "source": [
    "print(\"#########################################################################\")\r\n",
    "print(\"## Total Number of shipments/records: \", len(df_shipments.index))\r\n",
    "print(\"## Total Number of distincts shipments/records: \", len(df_shipments_no_duplicate.index))\r\n",
    "print(\"## Total Number of shipments with a valid sender/receiver country code : \", len(df_shipments_with_predefined_sender_and_receiver_countries.index), \", which is \", ((len(df_shipments_with_predefined_sender_and_receiver_countries.index))/(len(df_shipments_no_duplicate.index))) * 100, \"%\")\r\n",
    "print(\"## Total Number of shipment, we succeed to compute the longitude/latitude: \", len(df_shipments_with_predefined_latitude_and_longitute.index), \", which is \", ((len(df_shipments_with_predefined_latitude_and_longitute.index))/(len(df_shipments_no_duplicate.index))) * 100, \"%\")\r\n",
    "\r\n",
    "print(\"#########################################################################\")\r\n",
    "print(\"## Total Number of unique shipments: \", len(uniques_shipment))\r\n",
    "print(\"## Total Number of unique senders : \", len(uniques_sender))\r\n",
    "print(\"## Total Number of unique receivers : \", len(uniques_receiver))\r\n",
    "print(\"## Total Number of unique sending cities : \", len(uniques_sender_cities))\r\n",
    "print(\"## Total Number of unique receiving cities : \", len(uniques_receiver_cities))\r\n",
    "\r\n",
    "print(\"#########################################################################\")\r\n",
    "print(\"## Sender that sends the most: \", len(sender_with_max_shipments))\r\n",
    "print(\"## Receiver that received the most : \", len(receiver_with_max_shipments))\r\n",
    "print(\"## City that sends the most : \", len(sending_city_with_max_shipments))\r\n",
    "print(\"## City that receive the most : \", len(receiving_city_with_max_shipments))\r\n",
    "print(\"#########################################################################\")"
   ]
  },
  {
   "cell_type": "markdown",
   "metadata": {
    "id": "f6tlhtDuE9Ru"
   },
   "source": [
    "## Sender Distribution"
   ]
  },
  {
   "cell_type": "code",
   "execution_count": null,
   "metadata": {
    "colab": {
     "base_uri": "https://localhost:8080/"
    },
    "id": "mJu1fYfTFAWO",
    "outputId": "bb73b9fa-6b0f-45ab-c45c-3a598a48dc2c"
   },
   "outputs": [
    {
     "name": "stdout",
     "output_type": "stream",
     "text": [
      "\n",
      "#### Counts of records\n",
      "METABOWERKE GMBH                       28918\n",
      "U.I. LAPP GMBH                         28398\n",
      "CHAL-TEC FULFILLMENT GMBH              14014\n",
      "CHAL-TEC GMBH                          10162\n",
      "FESTOOL GMBH                            9822\n",
      "                                       ...  \n",
      "FNAC DARTY PARTICIPATIONS ET SERVIC        1\n",
      "SARL GARAGE RATIGNER                       1\n",
      "TEKNO                                      1\n",
      "KELLY IFA 12                               1\n",
      "EUROBREMSBAND GMBH                         1\n",
      "Name: Sender, Length: 4184, dtype: Int64\n",
      "\n",
      "#### Histogram of senders\n"
     ]
    }
   ],
   "source": [
    "print(\"\\n#### Counts of records\")\r\n",
    "print(df_shipments_no_duplicate_sorted['Sender'].value_counts())\r\n",
    "print(\"\\n#### Histogram of senders\")"
   ]
  },
  {
   "cell_type": "markdown",
   "metadata": {
    "id": "iTE18hCXFE6P"
   },
   "source": [
    "## Receiver Distribution"
   ]
  },
  {
   "cell_type": "code",
   "execution_count": null,
   "metadata": {
    "colab": {
     "base_uri": "https://localhost:8080/"
    },
    "id": "0mXDWiKHFI9q",
    "outputId": "b51127e8-85ca-40f7-c5bf-588e1e126d29"
   },
   "outputs": [
    {
     "name": "stdout",
     "output_type": "stream",
     "text": [
      "\n",
      "#### Counts of records\n",
      "ENTREPOT XPO                           2768\n",
      "ENTREPOT LEROY MERLIN REAU             2698\n",
      "EPOT LEROY MERLIN SIMASTOCK DOURGES    2524\n",
      "ENTREPOT LEROY MERLIN CHALONS          1966\n",
      "CHAL-TEC FULFILLMENT GMBH              1551\n",
      "                                       ... \n",
      "LOXAM 3441                                1\n",
      "JONATHAN FOUCHER                          1\n",
      "RIVAUX Bertrand                           1\n",
      "Les 2 Coucous  SARL                       1\n",
      "M&M MILITZER ET MUNCH (ALLEXPORT)         1\n",
      "Name: Receiver, Length: 73285, dtype: Int64\n",
      "\n",
      "#### Histogram of receivers\n"
     ]
    }
   ],
   "source": [
    "print(\"\\n#### Counts of records\")\r\n",
    "print(df_shipments_no_duplicate_sorted['Receiver'].value_counts())\r\n",
    "print(\"\\n#### Histogram of receivers\")"
   ]
  },
  {
   "cell_type": "markdown",
   "metadata": {
    "id": "ZvXvD8Iv9Yz4"
   },
   "source": [
    "# Visualisation"
   ]
  },
  {
   "cell_type": "code",
   "execution_count": null,
   "metadata": {
    "colab": {
     "base_uri": "https://localhost:8080/"
    },
    "id": "fasLzruOkcyF",
    "outputId": "951ef92f-84f5-4ccb-ce2c-a7327668fd4a"
   },
   "outputs": [
    {
     "name": "stdout",
     "output_type": "stream",
     "text": [
      "Requirement already satisfied: geopy in /usr/local/lib/python3.6/dist-packages (1.17.0)\n",
      "Requirement already satisfied: geographiclib<2,>=1.49 in /usr/local/lib/python3.6/dist-packages (from geopy) (1.50)\n",
      "Collecting geopandas\n",
      "\u001b[?25l  Downloading https://files.pythonhosted.org/packages/f7/a4/e66aafbefcbb717813bf3a355c8c4fc3ed04ea1dd7feb2920f2f4f868921/geopandas-0.8.1-py2.py3-none-any.whl (962kB)\n",
      "\u001b[K     |████████████████████████████████| 972kB 5.9MB/s \n",
      "\u001b[?25hRequirement already satisfied: shapely in /usr/local/lib/python3.6/dist-packages (from geopandas) (1.7.1)\n",
      "Requirement already satisfied: pandas>=0.23.0 in /usr/local/lib/python3.6/dist-packages (from geopandas) (1.1.5)\n",
      "Collecting pyproj>=2.2.0\n",
      "\u001b[?25l  Downloading https://files.pythonhosted.org/packages/e4/ab/280e80a67cfc109d15428c0ec56391fc03a65857b7727cf4e6e6f99a4204/pyproj-3.0.0.post1-cp36-cp36m-manylinux2010_x86_64.whl (6.4MB)\n",
      "\u001b[K     |████████████████████████████████| 6.5MB 29.7MB/s \n",
      "\u001b[?25hCollecting fiona\n",
      "\u001b[?25l  Downloading https://files.pythonhosted.org/packages/37/94/4910fd55246c1d963727b03885ead6ef1cd3748a465f7b0239ab25dfc9a3/Fiona-1.8.18-cp36-cp36m-manylinux1_x86_64.whl (14.8MB)\n",
      "\u001b[K     |████████████████████████████████| 14.8MB 258kB/s \n",
      "\u001b[?25hRequirement already satisfied: python-dateutil>=2.7.3 in /usr/local/lib/python3.6/dist-packages (from pandas>=0.23.0->geopandas) (2.8.1)\n",
      "Requirement already satisfied: numpy>=1.15.4 in /usr/local/lib/python3.6/dist-packages (from pandas>=0.23.0->geopandas) (1.19.4)\n",
      "Requirement already satisfied: pytz>=2017.2 in /usr/local/lib/python3.6/dist-packages (from pandas>=0.23.0->geopandas) (2018.9)\n",
      "Requirement already satisfied: certifi in /usr/local/lib/python3.6/dist-packages (from pyproj>=2.2.0->geopandas) (2020.12.5)\n",
      "Collecting cligj>=0.5\n",
      "  Downloading https://files.pythonhosted.org/packages/42/1e/947eadf10d6804bf276eb8a038bd5307996dceaaa41cfd21b7a15ec62f5d/cligj-0.7.1-py3-none-any.whl\n",
      "Collecting click-plugins>=1.0\n",
      "  Downloading https://files.pythonhosted.org/packages/e9/da/824b92d9942f4e472702488857914bdd50f73021efea15b4cad9aca8ecef/click_plugins-1.1.1-py2.py3-none-any.whl\n",
      "Requirement already satisfied: click<8,>=4.0 in /usr/local/lib/python3.6/dist-packages (from fiona->geopandas) (7.1.2)\n",
      "Collecting munch\n",
      "  Downloading https://files.pythonhosted.org/packages/cc/ab/85d8da5c9a45e072301beb37ad7f833cd344e04c817d97e0cc75681d248f/munch-2.5.0-py2.py3-none-any.whl\n",
      "Requirement already satisfied: attrs>=17 in /usr/local/lib/python3.6/dist-packages (from fiona->geopandas) (20.3.0)\n",
      "Requirement already satisfied: six>=1.7 in /usr/local/lib/python3.6/dist-packages (from fiona->geopandas) (1.15.0)\n",
      "Installing collected packages: pyproj, cligj, click-plugins, munch, fiona, geopandas\n",
      "Successfully installed click-plugins-1.1.1 cligj-0.7.1 fiona-1.8.18 geopandas-0.8.1 munch-2.5.0 pyproj-3.0.0.post1\n",
      "Collecting contextily\n",
      "  Downloading https://files.pythonhosted.org/packages/93/2a/22b34b6129303c594c21cb80ded800ebd6d13037f00d162d9b3a3785d5ea/contextily-1.0.1-py3-none-any.whl\n",
      "Collecting mercantile\n",
      "  Downloading https://files.pythonhosted.org/packages/b9/cd/ee6dbee0abca93edda53703fe408d2a6abdc8c1b248a3c9a4539089eafa2/mercantile-1.1.6-py3-none-any.whl\n",
      "Collecting rasterio\n",
      "\u001b[?25l  Downloading https://files.pythonhosted.org/packages/33/1a/51baddc8581ead98fcef591624b4b2521b581943a9178912a2ac576e0235/rasterio-1.1.8-1-cp36-cp36m-manylinux1_x86_64.whl (18.3MB)\n",
      "\u001b[K     |████████████████████████████████| 18.3MB 258kB/s \n",
      "\u001b[?25hRequirement already satisfied: geopy in /usr/local/lib/python3.6/dist-packages (from contextily) (1.17.0)\n",
      "Requirement already satisfied: requests in /usr/local/lib/python3.6/dist-packages (from contextily) (2.23.0)\n",
      "Requirement already satisfied: joblib in /usr/local/lib/python3.6/dist-packages (from contextily) (1.0.0)\n",
      "Requirement already satisfied: matplotlib in /usr/local/lib/python3.6/dist-packages (from contextily) (3.2.2)\n",
      "Requirement already satisfied: pillow in /usr/local/lib/python3.6/dist-packages (from contextily) (7.0.0)\n",
      "Requirement already satisfied: click>=3.0 in /usr/local/lib/python3.6/dist-packages (from mercantile->contextily) (7.1.2)\n",
      "Requirement already satisfied: numpy in /usr/local/lib/python3.6/dist-packages (from rasterio->contextily) (1.19.4)\n",
      "Requirement already satisfied: cligj>=0.5 in /usr/local/lib/python3.6/dist-packages (from rasterio->contextily) (0.7.1)\n",
      "Collecting affine\n",
      "  Downloading https://files.pythonhosted.org/packages/ac/a6/1a39a1ede71210e3ddaf623982b06ecfc5c5c03741ae659073159184cd3e/affine-2.3.0-py2.py3-none-any.whl\n",
      "Requirement already satisfied: click-plugins in /usr/local/lib/python3.6/dist-packages (from rasterio->contextily) (1.1.1)\n",
      "Collecting snuggs>=1.4.1\n",
      "  Downloading https://files.pythonhosted.org/packages/cc/0e/d27d6e806d6c0d1a2cfdc5d1f088e42339a0a54a09c3343f7f81ec8947ea/snuggs-1.4.7-py3-none-any.whl\n",
      "Requirement already satisfied: attrs in /usr/local/lib/python3.6/dist-packages (from rasterio->contextily) (20.3.0)\n",
      "Requirement already satisfied: geographiclib<2,>=1.49 in /usr/local/lib/python3.6/dist-packages (from geopy->contextily) (1.50)\n",
      "Requirement already satisfied: idna<3,>=2.5 in /usr/local/lib/python3.6/dist-packages (from requests->contextily) (2.10)\n",
      "Requirement already satisfied: urllib3!=1.25.0,!=1.25.1,<1.26,>=1.21.1 in /usr/local/lib/python3.6/dist-packages (from requests->contextily) (1.24.3)\n",
      "Requirement already satisfied: chardet<4,>=3.0.2 in /usr/local/lib/python3.6/dist-packages (from requests->contextily) (3.0.4)\n",
      "Requirement already satisfied: certifi>=2017.4.17 in /usr/local/lib/python3.6/dist-packages (from requests->contextily) (2020.12.5)\n",
      "Requirement already satisfied: python-dateutil>=2.1 in /usr/local/lib/python3.6/dist-packages (from matplotlib->contextily) (2.8.1)\n",
      "Requirement already satisfied: cycler>=0.10 in /usr/local/lib/python3.6/dist-packages (from matplotlib->contextily) (0.10.0)\n",
      "Requirement already satisfied: pyparsing!=2.0.4,!=2.1.2,!=2.1.6,>=2.0.1 in /usr/local/lib/python3.6/dist-packages (from matplotlib->contextily) (2.4.7)\n",
      "Requirement already satisfied: kiwisolver>=1.0.1 in /usr/local/lib/python3.6/dist-packages (from matplotlib->contextily) (1.3.1)\n",
      "Requirement already satisfied: six>=1.5 in /usr/local/lib/python3.6/dist-packages (from python-dateutil>=2.1->matplotlib->contextily) (1.15.0)\n",
      "Installing collected packages: mercantile, affine, snuggs, rasterio, contextily\n",
      "Successfully installed affine-2.3.0 contextily-1.0.1 mercantile-1.1.6 rasterio-1.1.8 snuggs-1.4.7\n"
     ]
    }
   ],
   "source": [
    "!pip install geopy\r\n",
    "!pip install geopandas\r\n",
    "!pip install contextily\r\n",
    "\r\n"
   ]
  },
  {
   "cell_type": "markdown",
   "metadata": {
    "id": "n0F1uTq4bQ-C"
   },
   "source": [
    "## Visualize Cities & Countries"
   ]
  },
  {
   "cell_type": "code",
   "execution_count": null,
   "metadata": {
    "colab": {
     "base_uri": "https://localhost:8080/",
     "height": 807
    },
    "id": "cDrPOWNhk5LN",
    "outputId": "b1c4530a-ac32-4590-ed06-9c1b0a0fa32d"
   },
   "outputs": [
    {
     "data": {
      "image/png": "[encoded data removed]",
      "text/plain": [
       "<Figure size 3600x1080 with 1 Axes>"
      ]
     },
     "metadata": {
      "needs_background": "light",
      "tags": []
     },
     "output_type": "display_data"
    }
   ],
   "source": [
    "import geopandas\r\n",
    "import matplotlib.pyplot as plt\r\n",
    "from matplotlib import colors\r\n",
    "from mpl_toolkits.axes_grid1 import make_axes_locatable\r\n",
    "import contextily as ctx\r\n",
    "\r\n",
    "gdf = geopandas.GeoDataFrame(\r\n",
    "    df_shipments_with_predefined_latitude_and_longitute, geometry=geopandas.points_from_xy(df_shipments_with_predefined_latitude_and_longitute.Receiver_City_Long, df_shipments_with_predefined_latitude_and_longitute.Receiver_City_Lat))\r\n",
    "\r\n",
    "world = geopandas.read_file(geopandas.datasets.get_path('naturalearth_lowres'))\r\n",
    "eu =  world[world.name == \"Europe\"]\r\n",
    "\r\n",
    "# fig, ax = plt.subplots(1, 1)\r\n",
    "# divider = make_axes_locatable(ax)\r\n",
    "# cax = divider.append_axes(\"right\", size=\"5%\", pad=0.1)\r\n",
    "\r\n",
    "# We restrict to South America.\r\n",
    "wax = world.plot(color='white', edgecolor='black', figsize=(50, 15))\r\n",
    "# ctx.add_basemap(wax, source=ctx.providers.Stamen.TonerLite)\r\n",
    "wax.set_axis_off()\r\n",
    "# We can now plot our ``GeoDataFrame``.\r\n",
    "gdf.plot(ax=wax, marker='o', color='red', alpha=0.5, markersize=5)\r\n",
    "plt.show()\r\n"
   ]
  },
  {
   "cell_type": "code",
   "execution_count": null,
   "metadata": {
    "id": "u9oT7YMdgOsi"
   },
   "outputs": [],
   "source": [
    "# Complete Sender_Country and Receiver_Country\r\n",
    "df_shipments_no_duplicate_sorted['Sender_Country'] = df_shipments_no_duplicate_sorted['Sender_City'].transform()\r\n"
   ]
  },
  {
   "cell_type": "markdown",
   "metadata": {
    "id": "sgId9Uw0LdYt"
   },
   "source": [
    "# Export Data"
   ]
  },
  {
   "cell_type": "code",
   "execution_count": null,
   "metadata": {
    "colab": {
     "base_uri": "https://localhost:8080/",
     "height": 773
    },
    "id": "d3LQ7ElxL6lm",
    "outputId": "9a55a32d-9a46-4a55-f232-62d336159f7d"
   },
   "outputs": [
    {
     "data": {
      "text/html": [
       "<div>\n",
       "<style scoped>\n",
       "    .dataframe tbody tr th:only-of-type {\n",
       "        vertical-align: middle;\n",
       "    }\n",
       "\n",
       "    .dataframe tbody tr th {\n",
       "        vertical-align: top;\n",
       "    }\n",
       "\n",
       "    .dataframe thead th {\n",
       "        text-align: right;\n",
       "    }\n",
       "</style>\n",
       "<table border=\"1\" class=\"dataframe\">\n",
       "  <thead>\n",
       "    <tr style=\"text-align: right;\">\n",
       "      <th></th>\n",
       "      <th>SHIPMENTID</th>\n",
       "      <th>Shipment_Distance</th>\n",
       "      <th>Qty__INT</th>\n",
       "      <th>Volume__FLOAT</th>\n",
       "      <th>Weight__FLOAT</th>\n",
       "      <th>Logistics_Provider</th>\n",
       "      <th>Sender</th>\n",
       "      <th>Receiver</th>\n",
       "      <th>Sender_City</th>\n",
       "      <th>Sender_Country</th>\n",
       "      <th>Sender_City_Lat</th>\n",
       "      <th>Sender_City_Long</th>\n",
       "      <th>Receiver_City</th>\n",
       "      <th>Receiver_Country</th>\n",
       "      <th>Receiver_City_Lat</th>\n",
       "      <th>Receiver_City_Long</th>\n",
       "      <th>Creator</th>\n",
       "    </tr>\n",
       "  </thead>\n",
       "  <tbody>\n",
       "    <tr>\n",
       "      <th>226418</th>\n",
       "      <td>297941628</td>\n",
       "      <td>134.444124</td>\n",
       "      <td>5</td>\n",
       "      <td>0</td>\n",
       "      <td>770</td>\n",
       "      <td>Heppner GmbH &amp; Co. KG - KEHL / RHEIN</td>\n",
       "      <td>EVOCA Germany GmbH</td>\n",
       "      <td>Heuser GmbH</td>\n",
       "      <td>Rastatt</td>\n",
       "      <td>DE</td>\n",
       "      <td>48.85851</td>\n",
       "      <td>8.20965</td>\n",
       "      <td>Dietzenbach</td>\n",
       "      <td>DE</td>\n",
       "      <td>50.00976</td>\n",
       "      <td>8.77783</td>\n",
       "      <td>Vollmer</td>\n",
       "    </tr>\n",
       "    <tr>\n",
       "      <th>126454</th>\n",
       "      <td>297956359</td>\n",
       "      <td>471.992586</td>\n",
       "      <td>1</td>\n",
       "      <td>0</td>\n",
       "      <td>119</td>\n",
       "      <td>Heppner GmbH &amp; Co. KG - KORNWESTHEIM</td>\n",
       "      <td>U.I. LAPP GMBH</td>\n",
       "      <td>ELECTRO RHONE VENISSIEUX</td>\n",
       "      <td>STUTTGART</td>\n",
       "      <td>DE</td>\n",
       "      <td>48.78232</td>\n",
       "      <td>9.17702</td>\n",
       "      <td>Venissieux</td>\n",
       "      <td>FR</td>\n",
       "      <td>45.70254</td>\n",
       "      <td>4.87147</td>\n",
       "      <td>EDI</td>\n",
       "    </tr>\n",
       "    <tr>\n",
       "      <th>126456</th>\n",
       "      <td>297956366</td>\n",
       "      <td>471.992586</td>\n",
       "      <td>1</td>\n",
       "      <td>0</td>\n",
       "      <td>67</td>\n",
       "      <td>Heppner GmbH &amp; Co. KG - KORNWESTHEIM</td>\n",
       "      <td>U.I. LAPP GMBH</td>\n",
       "      <td>ELECTRO RHONE VENISSIEUX</td>\n",
       "      <td>STUTTGART</td>\n",
       "      <td>DE</td>\n",
       "      <td>48.78232</td>\n",
       "      <td>9.17702</td>\n",
       "      <td>Venissieux</td>\n",
       "      <td>FR</td>\n",
       "      <td>45.70254</td>\n",
       "      <td>4.87147</td>\n",
       "      <td>EDI</td>\n",
       "    </tr>\n",
       "    <tr>\n",
       "      <th>126455</th>\n",
       "      <td>297956365</td>\n",
       "      <td>471.992586</td>\n",
       "      <td>1</td>\n",
       "      <td>0</td>\n",
       "      <td>244</td>\n",
       "      <td>Heppner GmbH &amp; Co. KG - KORNWESTHEIM</td>\n",
       "      <td>U.I. LAPP GMBH</td>\n",
       "      <td>ELECTRO RHONE VENISSIEUX</td>\n",
       "      <td>STUTTGART</td>\n",
       "      <td>DE</td>\n",
       "      <td>48.78232</td>\n",
       "      <td>9.17702</td>\n",
       "      <td>Venissieux</td>\n",
       "      <td>FR</td>\n",
       "      <td>45.70254</td>\n",
       "      <td>4.87147</td>\n",
       "      <td>EDI</td>\n",
       "    </tr>\n",
       "    <tr>\n",
       "      <th>126453</th>\n",
       "      <td>297956363</td>\n",
       "      <td>471.992586</td>\n",
       "      <td>1</td>\n",
       "      <td>0</td>\n",
       "      <td>296</td>\n",
       "      <td>Heppner GmbH &amp; Co. KG - KORNWESTHEIM</td>\n",
       "      <td>U.I. LAPP GMBH</td>\n",
       "      <td>ELECTRO RHONE VENISSIEUX</td>\n",
       "      <td>STUTTGART</td>\n",
       "      <td>DE</td>\n",
       "      <td>48.78232</td>\n",
       "      <td>9.17702</td>\n",
       "      <td>Venissieux</td>\n",
       "      <td>FR</td>\n",
       "      <td>45.70254</td>\n",
       "      <td>4.87147</td>\n",
       "      <td>EDI</td>\n",
       "    </tr>\n",
       "    <tr>\n",
       "      <th>...</th>\n",
       "      <td>...</td>\n",
       "      <td>...</td>\n",
       "      <td>...</td>\n",
       "      <td>...</td>\n",
       "      <td>...</td>\n",
       "      <td>...</td>\n",
       "      <td>...</td>\n",
       "      <td>...</td>\n",
       "      <td>...</td>\n",
       "      <td>...</td>\n",
       "      <td>...</td>\n",
       "      <td>...</td>\n",
       "      <td>...</td>\n",
       "      <td>...</td>\n",
       "      <td>...</td>\n",
       "      <td>...</td>\n",
       "      <td>...</td>\n",
       "    </tr>\n",
       "    <tr>\n",
       "      <th>256675</th>\n",
       "      <td>355139914</td>\n",
       "      <td>9089.969034</td>\n",
       "      <td>21</td>\n",
       "      <td>39.391</td>\n",
       "      <td>1764</td>\n",
       "      <td>Heppner GmbH &amp; Co. KG - KORNWESTHEIM</td>\n",
       "      <td>Wiesheu GmbH</td>\n",
       "      <td>Lidl Supermercados S.A.U.</td>\n",
       "      <td>Großbottwar</td>\n",
       "      <td>DE</td>\n",
       "      <td>49.00147</td>\n",
       "      <td>9.29348</td>\n",
       "      <td>Granada</td>\n",
       "      <td>ES</td>\n",
       "      <td>6.14353</td>\n",
       "      <td>-75.18532</td>\n",
       "      <td>Weiss</td>\n",
       "    </tr>\n",
       "    <tr>\n",
       "      <th>256676</th>\n",
       "      <td>367573483</td>\n",
       "      <td>1390.365537</td>\n",
       "      <td>1</td>\n",
       "      <td>0.96</td>\n",
       "      <td>204</td>\n",
       "      <td>Heppner GmbH &amp; Co. KG - KORNWESTHEIM</td>\n",
       "      <td>Wiesheu GmbH</td>\n",
       "      <td>KARWIKLE SERVICES SL</td>\n",
       "      <td>Großbottwar</td>\n",
       "      <td>DE</td>\n",
       "      <td>49.00147</td>\n",
       "      <td>9.29348</td>\n",
       "      <td>Velilla de San Antonio</td>\n",
       "      <td>ES</td>\n",
       "      <td>40.36516</td>\n",
       "      <td>-3.48484</td>\n",
       "      <td>Weiss</td>\n",
       "    </tr>\n",
       "    <tr>\n",
       "      <th>256677</th>\n",
       "      <td>350857850</td>\n",
       "      <td>1390.365537</td>\n",
       "      <td>2</td>\n",
       "      <td>2.572</td>\n",
       "      <td>628</td>\n",
       "      <td>Heppner GmbH &amp; Co. KG - KORNWESTHEIM</td>\n",
       "      <td>Wiesheu GmbH</td>\n",
       "      <td>Karwikle Services SL</td>\n",
       "      <td>Großbottwar</td>\n",
       "      <td>DE</td>\n",
       "      <td>49.00147</td>\n",
       "      <td>9.29348</td>\n",
       "      <td>Velilla de San Antonio</td>\n",
       "      <td>ES</td>\n",
       "      <td>40.36516</td>\n",
       "      <td>-3.48484</td>\n",
       "      <td>Weiss</td>\n",
       "    </tr>\n",
       "    <tr>\n",
       "      <th>256660</th>\n",
       "      <td>359124830</td>\n",
       "      <td>1674.567994</td>\n",
       "      <td>4</td>\n",
       "      <td>9.555</td>\n",
       "      <td>640</td>\n",
       "      <td>Heppner GmbH &amp; Co. KG - KORNWESTHEIM</td>\n",
       "      <td>Wiesheu GmbH</td>\n",
       "      <td>Lidl Supermercados S.A.U.</td>\n",
       "      <td>Großbottwar</td>\n",
       "      <td>DE</td>\n",
       "      <td>49.00147</td>\n",
       "      <td>9.29348</td>\n",
       "      <td>Merida</td>\n",
       "      <td>ES</td>\n",
       "      <td>38.91611</td>\n",
       "      <td>-6.34366</td>\n",
       "      <td>Weiss</td>\n",
       "    </tr>\n",
       "    <tr>\n",
       "      <th>21210</th>\n",
       "      <td>360183614</td>\n",
       "      <td>-1.000000</td>\n",
       "      <td></td>\n",
       "      <td></td>\n",
       "      <td></td>\n",
       "      <td>Heppner GmbH &amp; Co. KG - KORNWESTHEIM</td>\n",
       "      <td>HUSQVARNA LOGISTICS GMBH</td>\n",
       "      <td>LAINE EURL</td>\n",
       "      <td>Ulm</td>\n",
       "      <td>DE</td>\n",
       "      <td>48.39841</td>\n",
       "      <td>9.99155</td>\n",
       "      <td>PUTANGES LE LAC</td>\n",
       "      <td>FR</td>\n",
       "      <td>0.00000</td>\n",
       "      <td>0.00000</td>\n",
       "      <td>EDI</td>\n",
       "    </tr>\n",
       "  </tbody>\n",
       "</table>\n",
       "<p>262981 rows × 17 columns</p>\n",
       "</div>"
      ],
      "text/plain": [
       "       SHIPMENTID  Shipment_Distance  ... Receiver_City_Long  Creator\n",
       "226418  297941628         134.444124  ...            8.77783  Vollmer\n",
       "126454  297956359         471.992586  ...            4.87147      EDI\n",
       "126456  297956366         471.992586  ...            4.87147      EDI\n",
       "126455  297956365         471.992586  ...            4.87147      EDI\n",
       "126453  297956363         471.992586  ...            4.87147      EDI\n",
       "...           ...                ...  ...                ...      ...\n",
       "256675  355139914        9089.969034  ...          -75.18532    Weiss\n",
       "256676  367573483        1390.365537  ...           -3.48484    Weiss\n",
       "256677  350857850        1390.365537  ...           -3.48484    Weiss\n",
       "256660  359124830        1674.567994  ...           -6.34366    Weiss\n",
       "21210   360183614          -1.000000  ...            0.00000      EDI\n",
       "\n",
       "[262981 rows x 17 columns]"
      ]
     },
     "execution_count": 51,
     "metadata": {
      "tags": []
     },
     "output_type": "execute_result"
    }
   ],
   "source": [
    "# Dataframe to export\r\n",
    "df_shipments_short = df_shipments_no_duplicate_sorted[['SHIPMENTID', 'Shipment_Distance', 'Qty__INT', 'Volume__FLOAT', 'Weight__FLOAT', 'Logistics_Provider', 'Sender', 'Receiver', 'Sender_City', 'Sender_Country', 'Sender_City_Lat', 'Sender_City_Long',  'Receiver_City', 'Receiver_Country', 'Receiver_City_Lat', 'Receiver_City_Long', 'Creator']]\r\n",
    "df_shipments_short"
   ]
  },
  {
   "cell_type": "code",
   "execution_count": null,
   "metadata": {
    "id": "yIoNCk3iPv8o"
   },
   "outputs": [],
   "source": [
    "df_shipments_short.to_json(r'/content/drive/MyDrive/Colab_Notebooks/Data/result/shipment_export_16_12_2020.json', orient='records')"
   ]
  },
  {
   "cell_type": "code",
   "execution_count": null,
   "metadata": {
    "id": "qaBzzv6lLMV-"
   },
   "outputs": [],
   "source": [
    "all_uniques_cities = np.append(uniques_receiver_cities, uniques_sender_cities)\r\n",
    "df_cities_to_export = pd.DataFrame({'City': all_uniques_cities})\r\n",
    "df_cities_to_export.describe()\r\n",
    "df_cities_to_export.to_csv(r'/content/drive/MyDrive/Colab_Notebooks/Data/result/all_cities_export_22_12_2020.csv', index = False)\r\n",
    "with pd.ExcelWriter(r'/content/drive/MyDrive/Colab_Notebooks/Data/result/all_cities_export_22_12_2020.xlsx', index = False) as writer:  \r\n",
    "    df_cities_to_export.to_excel(writer, sheet_name='All Cities')\r\n"
   ]
  }
 ],
 "metadata": {
  "colab": {
   "collapsed_sections": [
    "GGXy14Bl8qlF",
    "f6tlhtDuE9Ru",
    "iTE18hCXFE6P"
   ],
   "name": "Siemens Logistics - Data Exploration-Shipments.ipynb",
   "provenance": []
  },
  "kernelspec": {
   "display_name": "Python 3",
   "language": "python",
   "name": "python3"
  },
  "kubeflow_notebook": {
   "autosnapshot": true,
   "docker_image": "gcr.io/arrikto/jupyter-kale:4a5d7e63-9f74f267",
   "experiment": {
    "id": "",
    "name": ""
   },
   "experiment_name": "",
   "katib_metadata": {
    "algorithm": {
     "algorithmName": "grid"
    },
    "maxFailedTrialCount": 3,
    "maxTrialCount": 12,
    "objective": {
     "objectiveMetricName": "",
     "type": "minimize"
    },
    "parallelTrialCount": 3,
    "parameters": []
   },
   "katib_run": false,
   "pipeline_description": "",
   "pipeline_name": "",
   "snapshot_volumes": true,
   "steps_defaults": [
    "label:access-ml-pipeline:true",
    "label:access-rok:true"
   ],
   "volumes": [
    {
     "annotations": [],
     "mount_point": "/home/jovyan",
     "name": "workspace-exploration-g840d3blu",
     "size": 15,
     "size_type": "Gi",
     "snapshot": false,
     "type": "clone"
    }
   ]
  },
  "language_info": {
   "codemirror_mode": {
    "name": "ipython",
    "version": 3
   },
   "file_extension": ".py",
   "mimetype": "text/x-python",
   "name": "python",
   "nbconvert_exporter": "python",
   "pygments_lexer": "ipython3",
   "version": "3.6.9"
  },
  "widgets": {
   "application/vnd.jupyter.widget-state+json": {
    "0157bb3b6b0d4371b0536d593f374bb1": {
     "model_module": "@jupyter-widgets/controls",
     "model_name": "HTMLModel",
     "state": {
      "_dom_classes": [],
      "_model_module": "@jupyter-widgets/controls",
      "_model_module_version": "1.5.0",
      "_model_name": "HTMLModel",
      "_view_count": null,
      "_view_module": "@jupyter-widgets/controls",
      "_view_module_version": "1.5.0",
      "_view_name": "HTMLView",
      "description": "",
      "description_tooltip": null,
      "layout": "IPY_MODEL_739f62437d5b48df9f524a803e38d901",
      "placeholder": "​",
      "style": "IPY_MODEL_eb116dc6e1e146469ad14cde8449f0ba",
      "value": " 24263/24263 [36:23&lt;00:00, 11.11it/s]"
     }
    },
    "01c59bb7856d470d8670df6f79dccf28": {
     "model_module": "@jupyter-widgets/controls",
     "model_name": "ProgressStyleModel",
     "state": {
      "_model_module": "@jupyter-widgets/controls",
      "_model_module_version": "1.5.0",
      "_model_name": "ProgressStyleModel",
      "_view_count": null,
      "_view_module": "@jupyter-widgets/base",
      "_view_module_version": "1.2.0",
      "_view_name": "StyleView",
      "bar_color": null,
      "description_width": "initial"
     }
    },
    "033f72a9200e4dfcb9afb852bd3a9548": {
     "model_module": "@jupyter-widgets/controls",
     "model_name": "HBoxModel",
     "state": {
      "_dom_classes": [],
      "_model_module": "@jupyter-widgets/controls",
      "_model_module_version": "1.5.0",
      "_model_name": "HBoxModel",
      "_view_count": null,
      "_view_module": "@jupyter-widgets/controls",
      "_view_module_version": "1.5.0",
      "_view_name": "HBoxView",
      "box_style": "",
      "children": [
       "IPY_MODEL_35cac153fb82419ebbdbb6c406b53ecd",
       "IPY_MODEL_a04de9f111734e54970ad6d5ff6e64bd"
      ],
      "layout": "IPY_MODEL_d988d60262344eb7bbfa7bf8c8c76b1a"
     }
    },
    "0927cf627c0c467d8d1c45d70994d9b6": {
     "model_module": "@jupyter-widgets/base",
     "model_name": "LayoutModel",
     "state": {
      "_model_module": "@jupyter-widgets/base",
      "_model_module_version": "1.2.0",
      "_model_name": "LayoutModel",
      "_view_count": null,
      "_view_module": "@jupyter-widgets/base",
      "_view_module_version": "1.2.0",
      "_view_name": "LayoutView",
      "align_content": null,
      "align_items": null,
      "align_self": null,
      "border": null,
      "bottom": null,
      "display": null,
      "flex": null,
      "flex_flow": null,
      "grid_area": null,
      "grid_auto_columns": null,
      "grid_auto_flow": null,
      "grid_auto_rows": null,
      "grid_column": null,
      "grid_gap": null,
      "grid_row": null,
      "grid_template_areas": null,
      "grid_template_columns": null,
      "grid_template_rows": null,
      "height": null,
      "justify_content": null,
      "justify_items": null,
      "left": null,
      "margin": null,
      "max_height": null,
      "max_width": null,
      "min_height": null,
      "min_width": null,
      "object_fit": null,
      "object_position": null,
      "order": null,
      "overflow": null,
      "overflow_x": null,
      "overflow_y": null,
      "padding": null,
      "right": null,
      "top": null,
      "visibility": null,
      "width": null
     }
    },
    "0c21475df0f34b2fad423edf343aa824": {
     "model_module": "@jupyter-widgets/controls",
     "model_name": "ProgressStyleModel",
     "state": {
      "_model_module": "@jupyter-widgets/controls",
      "_model_module_version": "1.5.0",
      "_model_name": "ProgressStyleModel",
      "_view_count": null,
      "_view_module": "@jupyter-widgets/base",
      "_view_module_version": "1.2.0",
      "_view_name": "StyleView",
      "bar_color": null,
      "description_width": "initial"
     }
    },
    "12a68861122d454ca00d2c45873d934d": {
     "model_module": "@jupyter-widgets/base",
     "model_name": "LayoutModel",
     "state": {
      "_model_module": "@jupyter-widgets/base",
      "_model_module_version": "1.2.0",
      "_model_name": "LayoutModel",
      "_view_count": null,
      "_view_module": "@jupyter-widgets/base",
      "_view_module_version": "1.2.0",
      "_view_name": "LayoutView",
      "align_content": null,
      "align_items": null,
      "align_self": null,
      "border": null,
      "bottom": null,
      "display": null,
      "flex": null,
      "flex_flow": null,
      "grid_area": null,
      "grid_auto_columns": null,
      "grid_auto_flow": null,
      "grid_auto_rows": null,
      "grid_column": null,
      "grid_gap": null,
      "grid_row": null,
      "grid_template_areas": null,
      "grid_template_columns": null,
      "grid_template_rows": null,
      "height": null,
      "justify_content": null,
      "justify_items": null,
      "left": null,
      "margin": null,
      "max_height": null,
      "max_width": null,
      "min_height": null,
      "min_width": null,
      "object_fit": null,
      "object_position": null,
      "order": null,
      "overflow": null,
      "overflow_x": null,
      "overflow_y": null,
      "padding": null,
      "right": null,
      "top": null,
      "visibility": null,
      "width": null
     }
    },
    "17c8b76e9bc64f4bbc0a40aedec7d7dd": {
     "model_module": "@jupyter-widgets/base",
     "model_name": "LayoutModel",
     "state": {
      "_model_module": "@jupyter-widgets/base",
      "_model_module_version": "1.2.0",
      "_model_name": "LayoutModel",
      "_view_count": null,
      "_view_module": "@jupyter-widgets/base",
      "_view_module_version": "1.2.0",
      "_view_name": "LayoutView",
      "align_content": null,
      "align_items": null,
      "align_self": null,
      "border": null,
      "bottom": null,
      "display": null,
      "flex": null,
      "flex_flow": null,
      "grid_area": null,
      "grid_auto_columns": null,
      "grid_auto_flow": null,
      "grid_auto_rows": null,
      "grid_column": null,
      "grid_gap": null,
      "grid_row": null,
      "grid_template_areas": null,
      "grid_template_columns": null,
      "grid_template_rows": null,
      "height": null,
      "justify_content": null,
      "justify_items": null,
      "left": null,
      "margin": null,
      "max_height": null,
      "max_width": null,
      "min_height": null,
      "min_width": null,
      "object_fit": null,
      "object_position": null,
      "order": null,
      "overflow": null,
      "overflow_x": null,
      "overflow_y": null,
      "padding": null,
      "right": null,
      "top": null,
      "visibility": null,
      "width": null
     }
    },
    "181304fdb721473ea9d6c99d9c713daf": {
     "model_module": "@jupyter-widgets/controls",
     "model_name": "FloatProgressModel",
     "state": {
      "_dom_classes": [],
      "_model_module": "@jupyter-widgets/controls",
      "_model_module_version": "1.5.0",
      "_model_name": "FloatProgressModel",
      "_view_count": null,
      "_view_module": "@jupyter-widgets/controls",
      "_view_module_version": "1.5.0",
      "_view_name": "ProgressView",
      "bar_style": "success",
      "description": "100%",
      "description_tooltip": null,
      "layout": "IPY_MODEL_6c76ad57d51a46629466d3818bd62c10",
      "max": 2998,
      "min": 0,
      "orientation": "horizontal",
      "style": "IPY_MODEL_0c21475df0f34b2fad423edf343aa824",
      "value": 2998
     }
    },
    "1d29ccc97e4646ea99308665a340a62e": {
     "model_module": "@jupyter-widgets/base",
     "model_name": "LayoutModel",
     "state": {
      "_model_module": "@jupyter-widgets/base",
      "_model_module_version": "1.2.0",
      "_model_name": "LayoutModel",
      "_view_count": null,
      "_view_module": "@jupyter-widgets/base",
      "_view_module_version": "1.2.0",
      "_view_name": "LayoutView",
      "align_content": null,
      "align_items": null,
      "align_self": null,
      "border": null,
      "bottom": null,
      "display": null,
      "flex": null,
      "flex_flow": null,
      "grid_area": null,
      "grid_auto_columns": null,
      "grid_auto_flow": null,
      "grid_auto_rows": null,
      "grid_column": null,
      "grid_gap": null,
      "grid_row": null,
      "grid_template_areas": null,
      "grid_template_columns": null,
      "grid_template_rows": null,
      "height": null,
      "justify_content": null,
      "justify_items": null,
      "left": null,
      "margin": null,
      "max_height": null,
      "max_width": null,
      "min_height": null,
      "min_width": null,
      "object_fit": null,
      "object_position": null,
      "order": null,
      "overflow": null,
      "overflow_x": null,
      "overflow_y": null,
      "padding": null,
      "right": null,
      "top": null,
      "visibility": null,
      "width": null
     }
    },
    "2654ccb385904d3988f3bc4f74a24702": {
     "model_module": "@jupyter-widgets/controls",
     "model_name": "FloatProgressModel",
     "state": {
      "_dom_classes": [],
      "_model_module": "@jupyter-widgets/controls",
      "_model_module_version": "1.5.0",
      "_model_name": "FloatProgressModel",
      "_view_count": null,
      "_view_module": "@jupyter-widgets/controls",
      "_view_module_version": "1.5.0",
      "_view_name": "ProgressView",
      "bar_style": "success",
      "description": "100%",
      "description_tooltip": null,
      "layout": "IPY_MODEL_d7a13fc0ee6d428cb259304c32be1446",
      "max": 24366,
      "min": 0,
      "orientation": "horizontal",
      "style": "IPY_MODEL_426a53286f484e818a3d3356df338137",
      "value": 24366
     }
    },
    "267c06d81f0e40eaaaef8df462ec06f2": {
     "model_module": "@jupyter-widgets/controls",
     "model_name": "DescriptionStyleModel",
     "state": {
      "_model_module": "@jupyter-widgets/controls",
      "_model_module_version": "1.5.0",
      "_model_name": "DescriptionStyleModel",
      "_view_count": null,
      "_view_module": "@jupyter-widgets/base",
      "_view_module_version": "1.2.0",
      "_view_name": "StyleView",
      "description_width": ""
     }
    },
    "27dd065c763b496197430860437114b7": {
     "model_module": "@jupyter-widgets/controls",
     "model_name": "HBoxModel",
     "state": {
      "_dom_classes": [],
      "_model_module": "@jupyter-widgets/controls",
      "_model_module_version": "1.5.0",
      "_model_name": "HBoxModel",
      "_view_count": null,
      "_view_module": "@jupyter-widgets/controls",
      "_view_module_version": "1.5.0",
      "_view_name": "HBoxView",
      "box_style": "",
      "children": [
       "IPY_MODEL_5a1ab7751f2a4696b817c7931a6106f2",
       "IPY_MODEL_66ea751fd73d44d5b66470576e08c4dd"
      ],
      "layout": "IPY_MODEL_93c8825e7e284f66a741de6b6b4cabf8"
     }
    },
    "2861381e6c414327b286154d29f37d09": {
     "model_module": "@jupyter-widgets/controls",
     "model_name": "ProgressStyleModel",
     "state": {
      "_model_module": "@jupyter-widgets/controls",
      "_model_module_version": "1.5.0",
      "_model_name": "ProgressStyleModel",
      "_view_count": null,
      "_view_module": "@jupyter-widgets/base",
      "_view_module_version": "1.2.0",
      "_view_name": "StyleView",
      "bar_color": null,
      "description_width": "initial"
     }
    },
    "29fe7cb206974f2097a6f85643e99399": {
     "model_module": "@jupyter-widgets/base",
     "model_name": "LayoutModel",
     "state": {
      "_model_module": "@jupyter-widgets/base",
      "_model_module_version": "1.2.0",
      "_model_name": "LayoutModel",
      "_view_count": null,
      "_view_module": "@jupyter-widgets/base",
      "_view_module_version": "1.2.0",
      "_view_name": "LayoutView",
      "align_content": null,
      "align_items": null,
      "align_self": null,
      "border": null,
      "bottom": null,
      "display": null,
      "flex": null,
      "flex_flow": null,
      "grid_area": null,
      "grid_auto_columns": null,
      "grid_auto_flow": null,
      "grid_auto_rows": null,
      "grid_column": null,
      "grid_gap": null,
      "grid_row": null,
      "grid_template_areas": null,
      "grid_template_columns": null,
      "grid_template_rows": null,
      "height": null,
      "justify_content": null,
      "justify_items": null,
      "left": null,
      "margin": null,
      "max_height": null,
      "max_width": null,
      "min_height": null,
      "min_width": null,
      "object_fit": null,
      "object_position": null,
      "order": null,
      "overflow": null,
      "overflow_x": null,
      "overflow_y": null,
      "padding": null,
      "right": null,
      "top": null,
      "visibility": null,
      "width": null
     }
    },
    "2eba823861a74041a8613edb2fe78eaf": {
     "model_module": "@jupyter-widgets/controls",
     "model_name": "ProgressStyleModel",
     "state": {
      "_model_module": "@jupyter-widgets/controls",
      "_model_module_version": "1.5.0",
      "_model_name": "ProgressStyleModel",
      "_view_count": null,
      "_view_module": "@jupyter-widgets/base",
      "_view_module_version": "1.2.0",
      "_view_name": "StyleView",
      "bar_color": null,
      "description_width": "initial"
     }
    },
    "2fe13965938341ff8a4ca91d3ac3ed8b": {
     "model_module": "@jupyter-widgets/base",
     "model_name": "LayoutModel",
     "state": {
      "_model_module": "@jupyter-widgets/base",
      "_model_module_version": "1.2.0",
      "_model_name": "LayoutModel",
      "_view_count": null,
      "_view_module": "@jupyter-widgets/base",
      "_view_module_version": "1.2.0",
      "_view_name": "LayoutView",
      "align_content": null,
      "align_items": null,
      "align_self": null,
      "border": null,
      "bottom": null,
      "display": null,
      "flex": null,
      "flex_flow": null,
      "grid_area": null,
      "grid_auto_columns": null,
      "grid_auto_flow": null,
      "grid_auto_rows": null,
      "grid_column": null,
      "grid_gap": null,
      "grid_row": null,
      "grid_template_areas": null,
      "grid_template_columns": null,
      "grid_template_rows": null,
      "height": null,
      "justify_content": null,
      "justify_items": null,
      "left": null,
      "margin": null,
      "max_height": null,
      "max_width": null,
      "min_height": null,
      "min_width": null,
      "object_fit": null,
      "object_position": null,
      "order": null,
      "overflow": null,
      "overflow_x": null,
      "overflow_y": null,
      "padding": null,
      "right": null,
      "top": null,
      "visibility": null,
      "width": null
     }
    },
    "35cac153fb82419ebbdbb6c406b53ecd": {
     "model_module": "@jupyter-widgets/controls",
     "model_name": "FloatProgressModel",
     "state": {
      "_dom_classes": [],
      "_model_module": "@jupyter-widgets/controls",
      "_model_module_version": "1.5.0",
      "_model_name": "FloatProgressModel",
      "_view_count": null,
      "_view_module": "@jupyter-widgets/controls",
      "_view_module_version": "1.5.0",
      "_view_name": "ProgressView",
      "bar_style": "success",
      "description": "100%",
      "description_tooltip": null,
      "layout": "IPY_MODEL_e11e7f13d2474704b2a92cf4f2a4e914",
      "max": 24366,
      "min": 0,
      "orientation": "horizontal",
      "style": "IPY_MODEL_01c59bb7856d470d8670df6f79dccf28",
      "value": 24366
     }
    },
    "3a82dce7d3374faa842f8d903f6770a3": {
     "model_module": "@jupyter-widgets/controls",
     "model_name": "DescriptionStyleModel",
     "state": {
      "_model_module": "@jupyter-widgets/controls",
      "_model_module_version": "1.5.0",
      "_model_name": "DescriptionStyleModel",
      "_view_count": null,
      "_view_module": "@jupyter-widgets/base",
      "_view_module_version": "1.2.0",
      "_view_name": "StyleView",
      "description_width": ""
     }
    },
    "426a53286f484e818a3d3356df338137": {
     "model_module": "@jupyter-widgets/controls",
     "model_name": "ProgressStyleModel",
     "state": {
      "_model_module": "@jupyter-widgets/controls",
      "_model_module_version": "1.5.0",
      "_model_name": "ProgressStyleModel",
      "_view_count": null,
      "_view_module": "@jupyter-widgets/base",
      "_view_module_version": "1.2.0",
      "_view_name": "StyleView",
      "bar_color": null,
      "description_width": "initial"
     }
    },
    "461bf88e406943a1b9a689fe34067083": {
     "model_module": "@jupyter-widgets/base",
     "model_name": "LayoutModel",
     "state": {
      "_model_module": "@jupyter-widgets/base",
      "_model_module_version": "1.2.0",
      "_model_name": "LayoutModel",
      "_view_count": null,
      "_view_module": "@jupyter-widgets/base",
      "_view_module_version": "1.2.0",
      "_view_name": "LayoutView",
      "align_content": null,
      "align_items": null,
      "align_self": null,
      "border": null,
      "bottom": null,
      "display": null,
      "flex": null,
      "flex_flow": null,
      "grid_area": null,
      "grid_auto_columns": null,
      "grid_auto_flow": null,
      "grid_auto_rows": null,
      "grid_column": null,
      "grid_gap": null,
      "grid_row": null,
      "grid_template_areas": null,
      "grid_template_columns": null,
      "grid_template_rows": null,
      "height": null,
      "justify_content": null,
      "justify_items": null,
      "left": null,
      "margin": null,
      "max_height": null,
      "max_width": null,
      "min_height": null,
      "min_width": null,
      "object_fit": null,
      "object_position": null,
      "order": null,
      "overflow": null,
      "overflow_x": null,
      "overflow_y": null,
      "padding": null,
      "right": null,
      "top": null,
      "visibility": null,
      "width": null
     }
    },
    "4aac1086d6d046fcbfaacfe315898aae": {
     "model_module": "@jupyter-widgets/controls",
     "model_name": "ProgressStyleModel",
     "state": {
      "_model_module": "@jupyter-widgets/controls",
      "_model_module_version": "1.5.0",
      "_model_name": "ProgressStyleModel",
      "_view_count": null,
      "_view_module": "@jupyter-widgets/base",
      "_view_module_version": "1.2.0",
      "_view_name": "StyleView",
      "bar_color": null,
      "description_width": "initial"
     }
    },
    "4d21855a3ab640a6a8cb942b3f735467": {
     "model_module": "@jupyter-widgets/base",
     "model_name": "LayoutModel",
     "state": {
      "_model_module": "@jupyter-widgets/base",
      "_model_module_version": "1.2.0",
      "_model_name": "LayoutModel",
      "_view_count": null,
      "_view_module": "@jupyter-widgets/base",
      "_view_module_version": "1.2.0",
      "_view_name": "LayoutView",
      "align_content": null,
      "align_items": null,
      "align_self": null,
      "border": null,
      "bottom": null,
      "display": null,
      "flex": null,
      "flex_flow": null,
      "grid_area": null,
      "grid_auto_columns": null,
      "grid_auto_flow": null,
      "grid_auto_rows": null,
      "grid_column": null,
      "grid_gap": null,
      "grid_row": null,
      "grid_template_areas": null,
      "grid_template_columns": null,
      "grid_template_rows": null,
      "height": null,
      "justify_content": null,
      "justify_items": null,
      "left": null,
      "margin": null,
      "max_height": null,
      "max_width": null,
      "min_height": null,
      "min_width": null,
      "object_fit": null,
      "object_position": null,
      "order": null,
      "overflow": null,
      "overflow_x": null,
      "overflow_y": null,
      "padding": null,
      "right": null,
      "top": null,
      "visibility": null,
      "width": null
     }
    },
    "4dd33923c20e49ed878a6ef6de0e6944": {
     "model_module": "@jupyter-widgets/controls",
     "model_name": "ProgressStyleModel",
     "state": {
      "_model_module": "@jupyter-widgets/controls",
      "_model_module_version": "1.5.0",
      "_model_name": "ProgressStyleModel",
      "_view_count": null,
      "_view_module": "@jupyter-widgets/base",
      "_view_module_version": "1.2.0",
      "_view_name": "StyleView",
      "bar_color": null,
      "description_width": "initial"
     }
    },
    "5a1ab7751f2a4696b817c7931a6106f2": {
     "model_module": "@jupyter-widgets/controls",
     "model_name": "FloatProgressModel",
     "state": {
      "_dom_classes": [],
      "_model_module": "@jupyter-widgets/controls",
      "_model_module_version": "1.5.0",
      "_model_name": "FloatProgressModel",
      "_view_count": null,
      "_view_module": "@jupyter-widgets/controls",
      "_view_module_version": "1.5.0",
      "_view_name": "ProgressView",
      "bar_style": "success",
      "description": "100%",
      "description_tooltip": null,
      "layout": "IPY_MODEL_89a97b5983ee46bbb04d5b0fa5a60d2c",
      "max": 24525,
      "min": 0,
      "orientation": "horizontal",
      "style": "IPY_MODEL_2eba823861a74041a8613edb2fe78eaf",
      "value": 24525
     }
    },
    "66ea751fd73d44d5b66470576e08c4dd": {
     "model_module": "@jupyter-widgets/controls",
     "model_name": "HTMLModel",
     "state": {
      "_dom_classes": [],
      "_model_module": "@jupyter-widgets/controls",
      "_model_module_version": "1.5.0",
      "_model_name": "HTMLModel",
      "_view_count": null,
      "_view_module": "@jupyter-widgets/controls",
      "_view_module_version": "1.5.0",
      "_view_name": "HTMLView",
      "description": "",
      "description_tooltip": null,
      "layout": "IPY_MODEL_4d21855a3ab640a6a8cb942b3f735467",
      "placeholder": "​",
      "style": "IPY_MODEL_c87007df1c7848ef8313e300f5b09dee",
      "value": " 24525/24525 [48:20&lt;00:00,  8.46it/s]"
     }
    },
    "68eea25de13742e691532bc60dc1bccf": {
     "model_module": "@jupyter-widgets/base",
     "model_name": "LayoutModel",
     "state": {
      "_model_module": "@jupyter-widgets/base",
      "_model_module_version": "1.2.0",
      "_model_name": "LayoutModel",
      "_view_count": null,
      "_view_module": "@jupyter-widgets/base",
      "_view_module_version": "1.2.0",
      "_view_name": "LayoutView",
      "align_content": null,
      "align_items": null,
      "align_self": null,
      "border": null,
      "bottom": null,
      "display": null,
      "flex": null,
      "flex_flow": null,
      "grid_area": null,
      "grid_auto_columns": null,
      "grid_auto_flow": null,
      "grid_auto_rows": null,
      "grid_column": null,
      "grid_gap": null,
      "grid_row": null,
      "grid_template_areas": null,
      "grid_template_columns": null,
      "grid_template_rows": null,
      "height": null,
      "justify_content": null,
      "justify_items": null,
      "left": null,
      "margin": null,
      "max_height": null,
      "max_width": null,
      "min_height": null,
      "min_width": null,
      "object_fit": null,
      "object_position": null,
      "order": null,
      "overflow": null,
      "overflow_x": null,
      "overflow_y": null,
      "padding": null,
      "right": null,
      "top": null,
      "visibility": null,
      "width": null
     }
    },
    "6c76ad57d51a46629466d3818bd62c10": {
     "model_module": "@jupyter-widgets/base",
     "model_name": "LayoutModel",
     "state": {
      "_model_module": "@jupyter-widgets/base",
      "_model_module_version": "1.2.0",
      "_model_name": "LayoutModel",
      "_view_count": null,
      "_view_module": "@jupyter-widgets/base",
      "_view_module_version": "1.2.0",
      "_view_name": "LayoutView",
      "align_content": null,
      "align_items": null,
      "align_self": null,
      "border": null,
      "bottom": null,
      "display": null,
      "flex": null,
      "flex_flow": null,
      "grid_area": null,
      "grid_auto_columns": null,
      "grid_auto_flow": null,
      "grid_auto_rows": null,
      "grid_column": null,
      "grid_gap": null,
      "grid_row": null,
      "grid_template_areas": null,
      "grid_template_columns": null,
      "grid_template_rows": null,
      "height": null,
      "justify_content": null,
      "justify_items": null,
      "left": null,
      "margin": null,
      "max_height": null,
      "max_width": null,
      "min_height": null,
      "min_width": null,
      "object_fit": null,
      "object_position": null,
      "order": null,
      "overflow": null,
      "overflow_x": null,
      "overflow_y": null,
      "padding": null,
      "right": null,
      "top": null,
      "visibility": null,
      "width": null
     }
    },
    "6ccd45f321d94f2c97aeb059db56fd73": {
     "model_module": "@jupyter-widgets/base",
     "model_name": "LayoutModel",
     "state": {
      "_model_module": "@jupyter-widgets/base",
      "_model_module_version": "1.2.0",
      "_model_name": "LayoutModel",
      "_view_count": null,
      "_view_module": "@jupyter-widgets/base",
      "_view_module_version": "1.2.0",
      "_view_name": "LayoutView",
      "align_content": null,
      "align_items": null,
      "align_self": null,
      "border": null,
      "bottom": null,
      "display": null,
      "flex": null,
      "flex_flow": null,
      "grid_area": null,
      "grid_auto_columns": null,
      "grid_auto_flow": null,
      "grid_auto_rows": null,
      "grid_column": null,
      "grid_gap": null,
      "grid_row": null,
      "grid_template_areas": null,
      "grid_template_columns": null,
      "grid_template_rows": null,
      "height": null,
      "justify_content": null,
      "justify_items": null,
      "left": null,
      "margin": null,
      "max_height": null,
      "max_width": null,
      "min_height": null,
      "min_width": null,
      "object_fit": null,
      "object_position": null,
      "order": null,
      "overflow": null,
      "overflow_x": null,
      "overflow_y": null,
      "padding": null,
      "right": null,
      "top": null,
      "visibility": null,
      "width": null
     }
    },
    "700db8fdc5164cf8952b2a00bca72fb7": {
     "model_module": "@jupyter-widgets/controls",
     "model_name": "ProgressStyleModel",
     "state": {
      "_model_module": "@jupyter-widgets/controls",
      "_model_module_version": "1.5.0",
      "_model_name": "ProgressStyleModel",
      "_view_count": null,
      "_view_module": "@jupyter-widgets/base",
      "_view_module_version": "1.2.0",
      "_view_name": "StyleView",
      "bar_color": null,
      "description_width": "initial"
     }
    },
    "71748f32a2134cb68d58f5371edbfdd5": {
     "model_module": "@jupyter-widgets/base",
     "model_name": "LayoutModel",
     "state": {
      "_model_module": "@jupyter-widgets/base",
      "_model_module_version": "1.2.0",
      "_model_name": "LayoutModel",
      "_view_count": null,
      "_view_module": "@jupyter-widgets/base",
      "_view_module_version": "1.2.0",
      "_view_name": "LayoutView",
      "align_content": null,
      "align_items": null,
      "align_self": null,
      "border": null,
      "bottom": null,
      "display": null,
      "flex": null,
      "flex_flow": null,
      "grid_area": null,
      "grid_auto_columns": null,
      "grid_auto_flow": null,
      "grid_auto_rows": null,
      "grid_column": null,
      "grid_gap": null,
      "grid_row": null,
      "grid_template_areas": null,
      "grid_template_columns": null,
      "grid_template_rows": null,
      "height": null,
      "justify_content": null,
      "justify_items": null,
      "left": null,
      "margin": null,
      "max_height": null,
      "max_width": null,
      "min_height": null,
      "min_width": null,
      "object_fit": null,
      "object_position": null,
      "order": null,
      "overflow": null,
      "overflow_x": null,
      "overflow_y": null,
      "padding": null,
      "right": null,
      "top": null,
      "visibility": null,
      "width": null
     }
    },
    "718c02aa73fd40779eadd78a678c44f5": {
     "model_module": "@jupyter-widgets/controls",
     "model_name": "FloatProgressModel",
     "state": {
      "_dom_classes": [],
      "_model_module": "@jupyter-widgets/controls",
      "_model_module_version": "1.5.0",
      "_model_name": "FloatProgressModel",
      "_view_count": null,
      "_view_module": "@jupyter-widgets/controls",
      "_view_module_version": "1.5.0",
      "_view_name": "ProgressView",
      "bar_style": "success",
      "description": "100%",
      "description_tooltip": null,
      "layout": "IPY_MODEL_68eea25de13742e691532bc60dc1bccf",
      "max": 4,
      "min": 0,
      "orientation": "horizontal",
      "style": "IPY_MODEL_2861381e6c414327b286154d29f37d09",
      "value": 4
     }
    },
    "7362421d66384d52ba56b476035574c8": {
     "model_module": "@jupyter-widgets/base",
     "model_name": "LayoutModel",
     "state": {
      "_model_module": "@jupyter-widgets/base",
      "_model_module_version": "1.2.0",
      "_model_name": "LayoutModel",
      "_view_count": null,
      "_view_module": "@jupyter-widgets/base",
      "_view_module_version": "1.2.0",
      "_view_name": "LayoutView",
      "align_content": null,
      "align_items": null,
      "align_self": null,
      "border": null,
      "bottom": null,
      "display": null,
      "flex": null,
      "flex_flow": null,
      "grid_area": null,
      "grid_auto_columns": null,
      "grid_auto_flow": null,
      "grid_auto_rows": null,
      "grid_column": null,
      "grid_gap": null,
      "grid_row": null,
      "grid_template_areas": null,
      "grid_template_columns": null,
      "grid_template_rows": null,
      "height": null,
      "justify_content": null,
      "justify_items": null,
      "left": null,
      "margin": null,
      "max_height": null,
      "max_width": null,
      "min_height": null,
      "min_width": null,
      "object_fit": null,
      "object_position": null,
      "order": null,
      "overflow": null,
      "overflow_x": null,
      "overflow_y": null,
      "padding": null,
      "right": null,
      "top": null,
      "visibility": null,
      "width": null
     }
    },
    "739f62437d5b48df9f524a803e38d901": {
     "model_module": "@jupyter-widgets/base",
     "model_name": "LayoutModel",
     "state": {
      "_model_module": "@jupyter-widgets/base",
      "_model_module_version": "1.2.0",
      "_model_name": "LayoutModel",
      "_view_count": null,
      "_view_module": "@jupyter-widgets/base",
      "_view_module_version": "1.2.0",
      "_view_name": "LayoutView",
      "align_content": null,
      "align_items": null,
      "align_self": null,
      "border": null,
      "bottom": null,
      "display": null,
      "flex": null,
      "flex_flow": null,
      "grid_area": null,
      "grid_auto_columns": null,
      "grid_auto_flow": null,
      "grid_auto_rows": null,
      "grid_column": null,
      "grid_gap": null,
      "grid_row": null,
      "grid_template_areas": null,
      "grid_template_columns": null,
      "grid_template_rows": null,
      "height": null,
      "justify_content": null,
      "justify_items": null,
      "left": null,
      "margin": null,
      "max_height": null,
      "max_width": null,
      "min_height": null,
      "min_width": null,
      "object_fit": null,
      "object_position": null,
      "order": null,
      "overflow": null,
      "overflow_x": null,
      "overflow_y": null,
      "padding": null,
      "right": null,
      "top": null,
      "visibility": null,
      "width": null
     }
    },
    "74ce2177f20442a2b8a5de93dd3e5195": {
     "model_module": "@jupyter-widgets/controls",
     "model_name": "HTMLModel",
     "state": {
      "_dom_classes": [],
      "_model_module": "@jupyter-widgets/controls",
      "_model_module_version": "1.5.0",
      "_model_name": "HTMLModel",
      "_view_count": null,
      "_view_module": "@jupyter-widgets/controls",
      "_view_module_version": "1.5.0",
      "_view_name": "HTMLView",
      "description": "",
      "description_tooltip": null,
      "layout": "IPY_MODEL_461bf88e406943a1b9a689fe34067083",
      "placeholder": "​",
      "style": "IPY_MODEL_eb08bf6e444845e88a5955d37551117e",
      "value": " 2998/2998 [00:46&lt;00:00, 64.79it/s]"
     }
    },
    "89a97b5983ee46bbb04d5b0fa5a60d2c": {
     "model_module": "@jupyter-widgets/base",
     "model_name": "LayoutModel",
     "state": {
      "_model_module": "@jupyter-widgets/base",
      "_model_module_version": "1.2.0",
      "_model_name": "LayoutModel",
      "_view_count": null,
      "_view_module": "@jupyter-widgets/base",
      "_view_module_version": "1.2.0",
      "_view_name": "LayoutView",
      "align_content": null,
      "align_items": null,
      "align_self": null,
      "border": null,
      "bottom": null,
      "display": null,
      "flex": null,
      "flex_flow": null,
      "grid_area": null,
      "grid_auto_columns": null,
      "grid_auto_flow": null,
      "grid_auto_rows": null,
      "grid_column": null,
      "grid_gap": null,
      "grid_row": null,
      "grid_template_areas": null,
      "grid_template_columns": null,
      "grid_template_rows": null,
      "height": null,
      "justify_content": null,
      "justify_items": null,
      "left": null,
      "margin": null,
      "max_height": null,
      "max_width": null,
      "min_height": null,
      "min_width": null,
      "object_fit": null,
      "object_position": null,
      "order": null,
      "overflow": null,
      "overflow_x": null,
      "overflow_y": null,
      "padding": null,
      "right": null,
      "top": null,
      "visibility": null,
      "width": null
     }
    },
    "8c7ecf39b7d34e08bae88988086a31fd": {
     "model_module": "@jupyter-widgets/controls",
     "model_name": "DescriptionStyleModel",
     "state": {
      "_model_module": "@jupyter-widgets/controls",
      "_model_module_version": "1.5.0",
      "_model_name": "DescriptionStyleModel",
      "_view_count": null,
      "_view_module": "@jupyter-widgets/base",
      "_view_module_version": "1.2.0",
      "_view_name": "StyleView",
      "description_width": ""
     }
    },
    "92aadf559c854e029b6616b9ecfdad45": {
     "model_module": "@jupyter-widgets/base",
     "model_name": "LayoutModel",
     "state": {
      "_model_module": "@jupyter-widgets/base",
      "_model_module_version": "1.2.0",
      "_model_name": "LayoutModel",
      "_view_count": null,
      "_view_module": "@jupyter-widgets/base",
      "_view_module_version": "1.2.0",
      "_view_name": "LayoutView",
      "align_content": null,
      "align_items": null,
      "align_self": null,
      "border": null,
      "bottom": null,
      "display": null,
      "flex": null,
      "flex_flow": null,
      "grid_area": null,
      "grid_auto_columns": null,
      "grid_auto_flow": null,
      "grid_auto_rows": null,
      "grid_column": null,
      "grid_gap": null,
      "grid_row": null,
      "grid_template_areas": null,
      "grid_template_columns": null,
      "grid_template_rows": null,
      "height": null,
      "justify_content": null,
      "justify_items": null,
      "left": null,
      "margin": null,
      "max_height": null,
      "max_width": null,
      "min_height": null,
      "min_width": null,
      "object_fit": null,
      "object_position": null,
      "order": null,
      "overflow": null,
      "overflow_x": null,
      "overflow_y": null,
      "padding": null,
      "right": null,
      "top": null,
      "visibility": null,
      "width": null
     }
    },
    "93c8825e7e284f66a741de6b6b4cabf8": {
     "model_module": "@jupyter-widgets/base",
     "model_name": "LayoutModel",
     "state": {
      "_model_module": "@jupyter-widgets/base",
      "_model_module_version": "1.2.0",
      "_model_name": "LayoutModel",
      "_view_count": null,
      "_view_module": "@jupyter-widgets/base",
      "_view_module_version": "1.2.0",
      "_view_name": "LayoutView",
      "align_content": null,
      "align_items": null,
      "align_self": null,
      "border": null,
      "bottom": null,
      "display": null,
      "flex": null,
      "flex_flow": null,
      "grid_area": null,
      "grid_auto_columns": null,
      "grid_auto_flow": null,
      "grid_auto_rows": null,
      "grid_column": null,
      "grid_gap": null,
      "grid_row": null,
      "grid_template_areas": null,
      "grid_template_columns": null,
      "grid_template_rows": null,
      "height": null,
      "justify_content": null,
      "justify_items": null,
      "left": null,
      "margin": null,
      "max_height": null,
      "max_width": null,
      "min_height": null,
      "min_width": null,
      "object_fit": null,
      "object_position": null,
      "order": null,
      "overflow": null,
      "overflow_x": null,
      "overflow_y": null,
      "padding": null,
      "right": null,
      "top": null,
      "visibility": null,
      "width": null
     }
    },
    "9538692b58c140f58b71c4259403768f": {
     "model_module": "@jupyter-widgets/controls",
     "model_name": "HBoxModel",
     "state": {
      "_dom_classes": [],
      "_model_module": "@jupyter-widgets/controls",
      "_model_module_version": "1.5.0",
      "_model_name": "HBoxModel",
      "_view_count": null,
      "_view_module": "@jupyter-widgets/controls",
      "_view_module_version": "1.5.0",
      "_view_name": "HBoxView",
      "box_style": "",
      "children": [
       "IPY_MODEL_ac35bdd33a0848f791a2d4248dbda1ca",
       "IPY_MODEL_cfa389febcdc4fc09a49e153ac7aacd5"
      ],
      "layout": "IPY_MODEL_7362421d66384d52ba56b476035574c8"
     }
    },
    "99b917b5f7ad4cdc9aaa638a4f2a7712": {
     "model_module": "@jupyter-widgets/controls",
     "model_name": "HTMLModel",
     "state": {
      "_dom_classes": [],
      "_model_module": "@jupyter-widgets/controls",
      "_model_module_version": "1.5.0",
      "_model_name": "HTMLModel",
      "_view_count": null,
      "_view_module": "@jupyter-widgets/controls",
      "_view_module_version": "1.5.0",
      "_view_name": "HTMLView",
      "description": "",
      "description_tooltip": null,
      "layout": "IPY_MODEL_bfd5f3e4087d4f3bbf98f6cdbf4f6608",
      "placeholder": "​",
      "style": "IPY_MODEL_c2d13de8c3b8467492ec7ff9f587b05b",
      "value": " 24366/24366 [45:53&lt;00:00,  8.85it/s]"
     }
    },
    "a04de9f111734e54970ad6d5ff6e64bd": {
     "model_module": "@jupyter-widgets/controls",
     "model_name": "HTMLModel",
     "state": {
      "_dom_classes": [],
      "_model_module": "@jupyter-widgets/controls",
      "_model_module_version": "1.5.0",
      "_model_name": "HTMLModel",
      "_view_count": null,
      "_view_module": "@jupyter-widgets/controls",
      "_view_module_version": "1.5.0",
      "_view_name": "HTMLView",
      "description": "",
      "description_tooltip": null,
      "layout": "IPY_MODEL_29fe7cb206974f2097a6f85643e99399",
      "placeholder": "​",
      "style": "IPY_MODEL_267c06d81f0e40eaaaef8df462ec06f2",
      "value": " 24366/24366 [41:20&lt;00:00,  9.82it/s]"
     }
    },
    "a275f340135d46079f2de7d1db038249": {
     "model_module": "@jupyter-widgets/controls",
     "model_name": "HBoxModel",
     "state": {
      "_dom_classes": [],
      "_model_module": "@jupyter-widgets/controls",
      "_model_module_version": "1.5.0",
      "_model_name": "HBoxModel",
      "_view_count": null,
      "_view_module": "@jupyter-widgets/controls",
      "_view_module_version": "1.5.0",
      "_view_name": "HBoxView",
      "box_style": "",
      "children": [
       "IPY_MODEL_dc1522627f1d47da9e2ac1b94a6865a3",
       "IPY_MODEL_0157bb3b6b0d4371b0536d593f374bb1"
      ],
      "layout": "IPY_MODEL_1d29ccc97e4646ea99308665a340a62e"
     }
    },
    "ac35bdd33a0848f791a2d4248dbda1ca": {
     "model_module": "@jupyter-widgets/controls",
     "model_name": "FloatProgressModel",
     "state": {
      "_dom_classes": [],
      "_model_module": "@jupyter-widgets/controls",
      "_model_module_version": "1.5.0",
      "_model_name": "FloatProgressModel",
      "_view_count": null,
      "_view_module": "@jupyter-widgets/controls",
      "_view_module_version": "1.5.0",
      "_view_name": "ProgressView",
      "bar_style": "success",
      "description": "100%",
      "description_tooltip": null,
      "layout": "IPY_MODEL_71748f32a2134cb68d58f5371edbfdd5",
      "max": 2998,
      "min": 0,
      "orientation": "horizontal",
      "style": "IPY_MODEL_4dd33923c20e49ed878a6ef6de0e6944",
      "value": 2998
     }
    },
    "adf25746b7aa4a9b8d33bd52905cacbe": {
     "model_module": "@jupyter-widgets/controls",
     "model_name": "HBoxModel",
     "state": {
      "_dom_classes": [],
      "_model_module": "@jupyter-widgets/controls",
      "_model_module_version": "1.5.0",
      "_model_name": "HBoxModel",
      "_view_count": null,
      "_view_module": "@jupyter-widgets/controls",
      "_view_module_version": "1.5.0",
      "_view_name": "HBoxView",
      "box_style": "",
      "children": [
       "IPY_MODEL_718c02aa73fd40779eadd78a678c44f5",
       "IPY_MODEL_e1aa4ffdf5914dd48b15af898e513040"
      ],
      "layout": "IPY_MODEL_b944b383855d49daaf583a4240c2086f"
     }
    },
    "b2d15e27359c46eca9270120e06a93da": {
     "model_module": "@jupyter-widgets/base",
     "model_name": "LayoutModel",
     "state": {
      "_model_module": "@jupyter-widgets/base",
      "_model_module_version": "1.2.0",
      "_model_name": "LayoutModel",
      "_view_count": null,
      "_view_module": "@jupyter-widgets/base",
      "_view_module_version": "1.2.0",
      "_view_name": "LayoutView",
      "align_content": null,
      "align_items": null,
      "align_self": null,
      "border": null,
      "bottom": null,
      "display": null,
      "flex": null,
      "flex_flow": null,
      "grid_area": null,
      "grid_auto_columns": null,
      "grid_auto_flow": null,
      "grid_auto_rows": null,
      "grid_column": null,
      "grid_gap": null,
      "grid_row": null,
      "grid_template_areas": null,
      "grid_template_columns": null,
      "grid_template_rows": null,
      "height": null,
      "justify_content": null,
      "justify_items": null,
      "left": null,
      "margin": null,
      "max_height": null,
      "max_width": null,
      "min_height": null,
      "min_width": null,
      "object_fit": null,
      "object_position": null,
      "order": null,
      "overflow": null,
      "overflow_x": null,
      "overflow_y": null,
      "padding": null,
      "right": null,
      "top": null,
      "visibility": null,
      "width": null
     }
    },
    "b944b383855d49daaf583a4240c2086f": {
     "model_module": "@jupyter-widgets/base",
     "model_name": "LayoutModel",
     "state": {
      "_model_module": "@jupyter-widgets/base",
      "_model_module_version": "1.2.0",
      "_model_name": "LayoutModel",
      "_view_count": null,
      "_view_module": "@jupyter-widgets/base",
      "_view_module_version": "1.2.0",
      "_view_name": "LayoutView",
      "align_content": null,
      "align_items": null,
      "align_self": null,
      "border": null,
      "bottom": null,
      "display": null,
      "flex": null,
      "flex_flow": null,
      "grid_area": null,
      "grid_auto_columns": null,
      "grid_auto_flow": null,
      "grid_auto_rows": null,
      "grid_column": null,
      "grid_gap": null,
      "grid_row": null,
      "grid_template_areas": null,
      "grid_template_columns": null,
      "grid_template_rows": null,
      "height": null,
      "justify_content": null,
      "justify_items": null,
      "left": null,
      "margin": null,
      "max_height": null,
      "max_width": null,
      "min_height": null,
      "min_width": null,
      "object_fit": null,
      "object_position": null,
      "order": null,
      "overflow": null,
      "overflow_x": null,
      "overflow_y": null,
      "padding": null,
      "right": null,
      "top": null,
      "visibility": null,
      "width": null
     }
    },
    "bdf8f1fff2ab4132a278a28344667d86": {
     "model_module": "@jupyter-widgets/controls",
     "model_name": "DescriptionStyleModel",
     "state": {
      "_model_module": "@jupyter-widgets/controls",
      "_model_module_version": "1.5.0",
      "_model_name": "DescriptionStyleModel",
      "_view_count": null,
      "_view_module": "@jupyter-widgets/base",
      "_view_module_version": "1.2.0",
      "_view_name": "StyleView",
      "description_width": ""
     }
    },
    "bfd5f3e4087d4f3bbf98f6cdbf4f6608": {
     "model_module": "@jupyter-widgets/base",
     "model_name": "LayoutModel",
     "state": {
      "_model_module": "@jupyter-widgets/base",
      "_model_module_version": "1.2.0",
      "_model_name": "LayoutModel",
      "_view_count": null,
      "_view_module": "@jupyter-widgets/base",
      "_view_module_version": "1.2.0",
      "_view_name": "LayoutView",
      "align_content": null,
      "align_items": null,
      "align_self": null,
      "border": null,
      "bottom": null,
      "display": null,
      "flex": null,
      "flex_flow": null,
      "grid_area": null,
      "grid_auto_columns": null,
      "grid_auto_flow": null,
      "grid_auto_rows": null,
      "grid_column": null,
      "grid_gap": null,
      "grid_row": null,
      "grid_template_areas": null,
      "grid_template_columns": null,
      "grid_template_rows": null,
      "height": null,
      "justify_content": null,
      "justify_items": null,
      "left": null,
      "margin": null,
      "max_height": null,
      "max_width": null,
      "min_height": null,
      "min_width": null,
      "object_fit": null,
      "object_position": null,
      "order": null,
      "overflow": null,
      "overflow_x": null,
      "overflow_y": null,
      "padding": null,
      "right": null,
      "top": null,
      "visibility": null,
      "width": null
     }
    },
    "c18f3ad95ecc44c8a3270e594535855b": {
     "model_module": "@jupyter-widgets/controls",
     "model_name": "HTMLModel",
     "state": {
      "_dom_classes": [],
      "_model_module": "@jupyter-widgets/controls",
      "_model_module_version": "1.5.0",
      "_model_name": "HTMLModel",
      "_view_count": null,
      "_view_module": "@jupyter-widgets/controls",
      "_view_module_version": "1.5.0",
      "_view_name": "HTMLView",
      "description": "",
      "description_tooltip": null,
      "layout": "IPY_MODEL_6ccd45f321d94f2c97aeb059db56fd73",
      "placeholder": "​",
      "style": "IPY_MODEL_8c7ecf39b7d34e08bae88988086a31fd",
      "value": " 3041/3041 [00:32&lt;00:00, 92.59it/s]"
     }
    },
    "c2d13de8c3b8467492ec7ff9f587b05b": {
     "model_module": "@jupyter-widgets/controls",
     "model_name": "DescriptionStyleModel",
     "state": {
      "_model_module": "@jupyter-widgets/controls",
      "_model_module_version": "1.5.0",
      "_model_name": "DescriptionStyleModel",
      "_view_count": null,
      "_view_module": "@jupyter-widgets/base",
      "_view_module_version": "1.2.0",
      "_view_name": "StyleView",
      "description_width": ""
     }
    },
    "c87007df1c7848ef8313e300f5b09dee": {
     "model_module": "@jupyter-widgets/controls",
     "model_name": "DescriptionStyleModel",
     "state": {
      "_model_module": "@jupyter-widgets/controls",
      "_model_module_version": "1.5.0",
      "_model_name": "DescriptionStyleModel",
      "_view_count": null,
      "_view_module": "@jupyter-widgets/base",
      "_view_module_version": "1.2.0",
      "_view_name": "StyleView",
      "description_width": ""
     }
    },
    "cfa389febcdc4fc09a49e153ac7aacd5": {
     "model_module": "@jupyter-widgets/controls",
     "model_name": "HTMLModel",
     "state": {
      "_dom_classes": [],
      "_model_module": "@jupyter-widgets/controls",
      "_model_module_version": "1.5.0",
      "_model_name": "HTMLModel",
      "_view_count": null,
      "_view_module": "@jupyter-widgets/controls",
      "_view_module_version": "1.5.0",
      "_view_name": "HTMLView",
      "description": "",
      "description_tooltip": null,
      "layout": "IPY_MODEL_0927cf627c0c467d8d1c45d70994d9b6",
      "placeholder": "​",
      "style": "IPY_MODEL_bdf8f1fff2ab4132a278a28344667d86",
      "value": " 2998/2998 [47:16&lt;00:00,  1.06it/s]"
     }
    },
    "d5f8d503488e43f88eef3e0e1ff29f20": {
     "model_module": "@jupyter-widgets/controls",
     "model_name": "FloatProgressModel",
     "state": {
      "_dom_classes": [],
      "_model_module": "@jupyter-widgets/controls",
      "_model_module_version": "1.5.0",
      "_model_name": "FloatProgressModel",
      "_view_count": null,
      "_view_module": "@jupyter-widgets/controls",
      "_view_module_version": "1.5.0",
      "_view_name": "ProgressView",
      "bar_style": "success",
      "description": "100%",
      "description_tooltip": null,
      "layout": "IPY_MODEL_92aadf559c854e029b6616b9ecfdad45",
      "max": 3041,
      "min": 0,
      "orientation": "horizontal",
      "style": "IPY_MODEL_4aac1086d6d046fcbfaacfe315898aae",
      "value": 3041
     }
    },
    "d7a13fc0ee6d428cb259304c32be1446": {
     "model_module": "@jupyter-widgets/base",
     "model_name": "LayoutModel",
     "state": {
      "_model_module": "@jupyter-widgets/base",
      "_model_module_version": "1.2.0",
      "_model_name": "LayoutModel",
      "_view_count": null,
      "_view_module": "@jupyter-widgets/base",
      "_view_module_version": "1.2.0",
      "_view_name": "LayoutView",
      "align_content": null,
      "align_items": null,
      "align_self": null,
      "border": null,
      "bottom": null,
      "display": null,
      "flex": null,
      "flex_flow": null,
      "grid_area": null,
      "grid_auto_columns": null,
      "grid_auto_flow": null,
      "grid_auto_rows": null,
      "grid_column": null,
      "grid_gap": null,
      "grid_row": null,
      "grid_template_areas": null,
      "grid_template_columns": null,
      "grid_template_rows": null,
      "height": null,
      "justify_content": null,
      "justify_items": null,
      "left": null,
      "margin": null,
      "max_height": null,
      "max_width": null,
      "min_height": null,
      "min_width": null,
      "object_fit": null,
      "object_position": null,
      "order": null,
      "overflow": null,
      "overflow_x": null,
      "overflow_y": null,
      "padding": null,
      "right": null,
      "top": null,
      "visibility": null,
      "width": null
     }
    },
    "d988d60262344eb7bbfa7bf8c8c76b1a": {
     "model_module": "@jupyter-widgets/base",
     "model_name": "LayoutModel",
     "state": {
      "_model_module": "@jupyter-widgets/base",
      "_model_module_version": "1.2.0",
      "_model_name": "LayoutModel",
      "_view_count": null,
      "_view_module": "@jupyter-widgets/base",
      "_view_module_version": "1.2.0",
      "_view_name": "LayoutView",
      "align_content": null,
      "align_items": null,
      "align_self": null,
      "border": null,
      "bottom": null,
      "display": null,
      "flex": null,
      "flex_flow": null,
      "grid_area": null,
      "grid_auto_columns": null,
      "grid_auto_flow": null,
      "grid_auto_rows": null,
      "grid_column": null,
      "grid_gap": null,
      "grid_row": null,
      "grid_template_areas": null,
      "grid_template_columns": null,
      "grid_template_rows": null,
      "height": null,
      "justify_content": null,
      "justify_items": null,
      "left": null,
      "margin": null,
      "max_height": null,
      "max_width": null,
      "min_height": null,
      "min_width": null,
      "object_fit": null,
      "object_position": null,
      "order": null,
      "overflow": null,
      "overflow_x": null,
      "overflow_y": null,
      "padding": null,
      "right": null,
      "top": null,
      "visibility": null,
      "width": null
     }
    },
    "dc1522627f1d47da9e2ac1b94a6865a3": {
     "model_module": "@jupyter-widgets/controls",
     "model_name": "FloatProgressModel",
     "state": {
      "_dom_classes": [],
      "_model_module": "@jupyter-widgets/controls",
      "_model_module_version": "1.5.0",
      "_model_name": "FloatProgressModel",
      "_view_count": null,
      "_view_module": "@jupyter-widgets/controls",
      "_view_module_version": "1.5.0",
      "_view_name": "ProgressView",
      "bar_style": "success",
      "description": "100%",
      "description_tooltip": null,
      "layout": "IPY_MODEL_17c8b76e9bc64f4bbc0a40aedec7d7dd",
      "max": 24263,
      "min": 0,
      "orientation": "horizontal",
      "style": "IPY_MODEL_700db8fdc5164cf8952b2a00bca72fb7",
      "value": 24263
     }
    },
    "dc3ca0a247c848e0829346c71be0967e": {
     "model_module": "@jupyter-widgets/base",
     "model_name": "LayoutModel",
     "state": {
      "_model_module": "@jupyter-widgets/base",
      "_model_module_version": "1.2.0",
      "_model_name": "LayoutModel",
      "_view_count": null,
      "_view_module": "@jupyter-widgets/base",
      "_view_module_version": "1.2.0",
      "_view_name": "LayoutView",
      "align_content": null,
      "align_items": null,
      "align_self": null,
      "border": null,
      "bottom": null,
      "display": null,
      "flex": null,
      "flex_flow": null,
      "grid_area": null,
      "grid_auto_columns": null,
      "grid_auto_flow": null,
      "grid_auto_rows": null,
      "grid_column": null,
      "grid_gap": null,
      "grid_row": null,
      "grid_template_areas": null,
      "grid_template_columns": null,
      "grid_template_rows": null,
      "height": null,
      "justify_content": null,
      "justify_items": null,
      "left": null,
      "margin": null,
      "max_height": null,
      "max_width": null,
      "min_height": null,
      "min_width": null,
      "object_fit": null,
      "object_position": null,
      "order": null,
      "overflow": null,
      "overflow_x": null,
      "overflow_y": null,
      "padding": null,
      "right": null,
      "top": null,
      "visibility": null,
      "width": null
     }
    },
    "df45b8fc4ed948b58b0e0d813aa9822d": {
     "model_module": "@jupyter-widgets/controls",
     "model_name": "HBoxModel",
     "state": {
      "_dom_classes": [],
      "_model_module": "@jupyter-widgets/controls",
      "_model_module_version": "1.5.0",
      "_model_name": "HBoxModel",
      "_view_count": null,
      "_view_module": "@jupyter-widgets/controls",
      "_view_module_version": "1.5.0",
      "_view_name": "HBoxView",
      "box_style": "",
      "children": [
       "IPY_MODEL_2654ccb385904d3988f3bc4f74a24702",
       "IPY_MODEL_99b917b5f7ad4cdc9aaa638a4f2a7712"
      ],
      "layout": "IPY_MODEL_b2d15e27359c46eca9270120e06a93da"
     }
    },
    "e11e7f13d2474704b2a92cf4f2a4e914": {
     "model_module": "@jupyter-widgets/base",
     "model_name": "LayoutModel",
     "state": {
      "_model_module": "@jupyter-widgets/base",
      "_model_module_version": "1.2.0",
      "_model_name": "LayoutModel",
      "_view_count": null,
      "_view_module": "@jupyter-widgets/base",
      "_view_module_version": "1.2.0",
      "_view_name": "LayoutView",
      "align_content": null,
      "align_items": null,
      "align_self": null,
      "border": null,
      "bottom": null,
      "display": null,
      "flex": null,
      "flex_flow": null,
      "grid_area": null,
      "grid_auto_columns": null,
      "grid_auto_flow": null,
      "grid_auto_rows": null,
      "grid_column": null,
      "grid_gap": null,
      "grid_row": null,
      "grid_template_areas": null,
      "grid_template_columns": null,
      "grid_template_rows": null,
      "height": null,
      "justify_content": null,
      "justify_items": null,
      "left": null,
      "margin": null,
      "max_height": null,
      "max_width": null,
      "min_height": null,
      "min_width": null,
      "object_fit": null,
      "object_position": null,
      "order": null,
      "overflow": null,
      "overflow_x": null,
      "overflow_y": null,
      "padding": null,
      "right": null,
      "top": null,
      "visibility": null,
      "width": null
     }
    },
    "e1aa4ffdf5914dd48b15af898e513040": {
     "model_module": "@jupyter-widgets/controls",
     "model_name": "HTMLModel",
     "state": {
      "_dom_classes": [],
      "_model_module": "@jupyter-widgets/controls",
      "_model_module_version": "1.5.0",
      "_model_name": "HTMLModel",
      "_view_count": null,
      "_view_module": "@jupyter-widgets/controls",
      "_view_module_version": "1.5.0",
      "_view_name": "HTMLView",
      "description": "",
      "description_tooltip": null,
      "layout": "IPY_MODEL_2fe13965938341ff8a4ca91d3ac3ed8b",
      "placeholder": "​",
      "style": "IPY_MODEL_3a82dce7d3374faa842f8d903f6770a3",
      "value": " 4/4 [50:05&lt;00:00, 751.41s/it]"
     }
    },
    "e767d52c603546d8b29446338f8b6ffa": {
     "model_module": "@jupyter-widgets/controls",
     "model_name": "HBoxModel",
     "state": {
      "_dom_classes": [],
      "_model_module": "@jupyter-widgets/controls",
      "_model_module_version": "1.5.0",
      "_model_name": "HBoxModel",
      "_view_count": null,
      "_view_module": "@jupyter-widgets/controls",
      "_view_module_version": "1.5.0",
      "_view_name": "HBoxView",
      "box_style": "",
      "children": [
       "IPY_MODEL_181304fdb721473ea9d6c99d9c713daf",
       "IPY_MODEL_74ce2177f20442a2b8a5de93dd3e5195"
      ],
      "layout": "IPY_MODEL_12a68861122d454ca00d2c45873d934d"
     }
    },
    "eb08bf6e444845e88a5955d37551117e": {
     "model_module": "@jupyter-widgets/controls",
     "model_name": "DescriptionStyleModel",
     "state": {
      "_model_module": "@jupyter-widgets/controls",
      "_model_module_version": "1.5.0",
      "_model_name": "DescriptionStyleModel",
      "_view_count": null,
      "_view_module": "@jupyter-widgets/base",
      "_view_module_version": "1.2.0",
      "_view_name": "StyleView",
      "description_width": ""
     }
    },
    "eb116dc6e1e146469ad14cde8449f0ba": {
     "model_module": "@jupyter-widgets/controls",
     "model_name": "DescriptionStyleModel",
     "state": {
      "_model_module": "@jupyter-widgets/controls",
      "_model_module_version": "1.5.0",
      "_model_name": "DescriptionStyleModel",
      "_view_count": null,
      "_view_module": "@jupyter-widgets/base",
      "_view_module_version": "1.2.0",
      "_view_name": "StyleView",
      "description_width": ""
     }
    },
    "f61426fbac3349b3a15c4377290fccfc": {
     "model_module": "@jupyter-widgets/controls",
     "model_name": "HBoxModel",
     "state": {
      "_dom_classes": [],
      "_model_module": "@jupyter-widgets/controls",
      "_model_module_version": "1.5.0",
      "_model_name": "HBoxModel",
      "_view_count": null,
      "_view_module": "@jupyter-widgets/controls",
      "_view_module_version": "1.5.0",
      "_view_name": "HBoxView",
      "box_style": "",
      "children": [
       "IPY_MODEL_d5f8d503488e43f88eef3e0e1ff29f20",
       "IPY_MODEL_c18f3ad95ecc44c8a3270e594535855b"
      ],
      "layout": "IPY_MODEL_dc3ca0a247c848e0829346c71be0967e"
     }
    }
   }
  }
 },
 "nbformat": 4,
 "nbformat_minor": 4
}
